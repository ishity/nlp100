{
 "cells": [
  {
   "cell_type": "markdown",
   "metadata": {
    "id": "hDlDLGQhxg5f"
   },
   "source": [
    "# 第6章: 機械学習\n",
    "本章では，Fabio Gasparetti氏が公開しているNews Aggregator Data Setを用い，ニュース記事の見出しを「ビジネス」「科学技術」「エンターテイメント」「健康」のカテゴリに分類するタスク（カテゴリ分類）に取り組む．"
   ]
  },
  {
   "cell_type": "markdown",
   "metadata": {
    "id": "913DLklExns7"
   },
   "source": [
    "## 50. データの入手・整形\n",
    "***\n",
    "News Aggregator Data Setをダウンロードし、以下の要領で学習データ（train.txt），検証データ（valid.txt），評価データ（test.txt）を作成せよ．\n",
    "\n",
    "1.   ダウンロードしたzipファイルを解凍し，readme.txtの説明を読む．\n",
    "2.   情報源（publisher）が”Reuters”, “Huffington Post”, “Businessweek”, “Contactmusic.com”, “Daily Mail”の事例（記事）のみを抽出する．\n",
    "1.   抽出された事例をランダムに並び替える．\n",
    "2.   抽出された事例の80%を学習データ，残りの10%ずつを検証データと評価データに分割し，それぞれtrain.txt，valid.txt，test.txtというファイル名で保存する．ファイルには，１行に１事例を書き出すこととし，カテゴリ名と記事見出しのタブ区切り形式とせよ（このファイルは後に問題70で再利用する）．\n",
    "\n",
    "学習データと評価データを作成したら，各カテゴリの事例数を確認せよ．"
   ]
  },
  {
   "cell_type": "markdown",
   "metadata": {
    "id": "RnkrbeOb8jOr"
   },
   "source": [
    "***\n",
    "News Aggregator Data Setをダウンロード"
   ]
  },
  {
   "cell_type": "code",
   "execution_count": 1,
   "metadata": {
    "colab": {
     "base_uri": "https://localhost:8080/"
    },
    "id": "eB7Xmq4axl10",
    "outputId": "38f6869a-3780-4fd1-8abd-3977062b85e7"
   },
   "outputs": [
    {
     "name": "stdout",
     "output_type": "stream",
     "text": [
      "--2024-05-15 13:43:27--  https://archive.ics.uci.edu/ml/machine-learning-databases/00359/NewsAggregatorDataset.zip\n",
      "Resolving archive.ics.uci.edu (archive.ics.uci.edu)... 128.195.10.252\n",
      "Connecting to archive.ics.uci.edu (archive.ics.uci.edu)|128.195.10.252|:443... connected.\n",
      "HTTP request sent, awaiting response... 200 OK\n",
      "Length: unspecified\n",
      "Saving to: ‘NewsAggregatorDataset.zip’\n",
      "\n",
      "NewsAggregatorDatas     [         <=>        ]  27.87M  14.0MB/s    in 2.0s    \n",
      "\n",
      "2024-05-15 13:43:30 (14.0 MB/s) - ‘NewsAggregatorDataset.zip’ saved [29224203]\n",
      "\n"
     ]
    }
   ],
   "source": [
    "!wget https://archive.ics.uci.edu/ml/machine-learning-databases/00359/NewsAggregatorDataset.zip"
   ]
  },
  {
   "cell_type": "markdown",
   "metadata": {
    "id": "meUS4vUD8rQi"
   },
   "source": [
    "1. ダウンロードしたzipファイルを解凍し，readme.txtの説明を読む．"
   ]
  },
  {
   "cell_type": "code",
   "execution_count": 2,
   "metadata": {
    "colab": {
     "base_uri": "https://localhost:8080/"
    },
    "id": "y8sPvWuW8pad",
    "outputId": "921e3d0b-fe7b-4b81-aaf3-129904ada3bd"
   },
   "outputs": [
    {
     "name": "stdout",
     "output_type": "stream",
     "text": [
      "Archive:  NewsAggregatorDataset.zip\n",
      "  inflating: 2pageSessions.csv       \n",
      "   creating: __MACOSX/\n",
      "  inflating: __MACOSX/._2pageSessions.csv  \n",
      "  inflating: newsCorpora.csv         \n",
      "  inflating: __MACOSX/._newsCorpora.csv  \n",
      "  inflating: readme.txt              \n",
      "  inflating: __MACOSX/._readme.txt   \n"
     ]
    }
   ],
   "source": [
    "# ダウンロードしたzipファイルを解凍する\n",
    "!unzip NewsAggregatorDataset.zip"
   ]
  },
  {
   "cell_type": "code",
   "execution_count": 6,
   "metadata": {
    "colab": {
     "base_uri": "https://localhost:8080/"
    },
    "id": "J8bH4EJ9VlBO",
    "outputId": "f4fb6bce-6515-469e-ca43-fa4e60f8dc2d"
   },
   "outputs": [
    {
     "name": "stdout",
     "output_type": "stream",
     "text": [
      "SUMMARY: Dataset of references (urls) to news web pages\r\n",
      "\r\n",
      "DESCRIPTION: Dataset of references to news web pages collected from an online aggregator in the period from March 10 to August 10 of 2014. The resources are grouped into clusters that represent pages discussing the same news story. The dataset includes also references to web pages that point (has a link to) one of the news page in the collection.\r\n",
      "\r\n",
      "TAGS: web pages, news, aggregator, classification, clustering\r\n",
      "\r\n",
      "LICENSE: Public domain - Due to restrictions on content and use of the news sources, the corpus is limited to web references (urls) to web pages and does not include any text content. The references have been retrieved from the news aggregator through traditional web browsers. \r\n",
      "\r\n",
      "FILE ENCODING: UTF-8\r\n",
      "\r\n",
      "FORMAT: Tab delimited CSV files. \r\n",
      "\r\n",
      "DATA SHAPE AND STATS: 422937 news pages and divided up into:\r\n",
      "\r\n",
      "152746 \tnews of business category\r\n",
      "108465 \tnews of science and technology category\r\n",
      "115920 \tnews of business category\r\n",
      " 45615 \tnews of health category\r\n",
      "\r\n",
      "2076 clusters of similar news for entertainment category\r\n",
      "1789 clusters of similar news for science and technology category\r\n",
      "2019 clusters of similar news for business category\r\n",
      "1347 clusters of similar news for health category\r\n",
      "\r\n",
      "References to web pages containing a link to one news included in the collection are also included. They are represented as pairs of urls corresponding to 2-page browsing sessions. The collection includes 15516 2-page browsing sessions covering 946 distinct clusters divided up into:\r\n",
      "\r\n",
      "6091 2-page sessions for business category\r\n",
      "9425 2-page sessions for entertainment category\r\n",
      "\r\n",
      " \r\n",
      "\r\n",
      "CONTENT\r\n",
      "=======\r\n",
      "\r\n",
      "FILENAME #1: newsCorpora.csv (102.297.000 bytes)\r\n",
      "DESCRIPTION: News pages\r\n",
      "FORMAT: ID \\t TITLE \\t URL \\t PUBLISHER \\t CATEGORY \\t STORY \\t HOSTNAME \\t TIMESTAMP\r\n",
      "\r\n",
      "where:\r\n",
      "ID\t\tNumeric ID\r\n",
      "TITLE\t\tNews title \r\n",
      "URL\t\tUrl\r\n",
      "PUBLISHER\tPublisher name\r\n",
      "CATEGORY\tNews category (b = business, t = science and technology, e = entertainment, m = health)\r\n",
      "STORY\t\tAlphanumeric ID of the cluster that includes news about the same story\r\n",
      "HOSTNAME\tUrl hostname\r\n",
      "TIMESTAMP \tApproximate time the news was published, as the number of milliseconds since the epoch 00:00:00 GMT, January 1, 1970\r\n",
      "\r\n",
      "\r\n",
      "FILENAME #2: 2pageSessions.csv (3.049.986 bytes)\r\n",
      "DESCRIPTION: 2-page sessions\r\n",
      "FORMAT: STORY \\t HOSTNAME \\t CATEGORY \\t URL\r\n",
      "\r\n",
      "where:\r\n",
      "STORY\t\tAlphanumeric ID of the cluster that includes news about the same story\r\n",
      "HOSTNAME\tUrl hostname\r\n",
      "CATEGORY\tNews category (b = business, t = science and technology, e = entertainment, m = health)\r\n",
      "URL\t\tTwo space-delimited urls representing a browsing session\r\n"
     ]
    }
   ],
   "source": [
    "# readme.txt の説明を読む\n",
    "!cat content/readme.txt"
   ]
  },
  {
   "cell_type": "markdown",
   "metadata": {
    "id": "Ti7gTnEZXqB5"
   },
   "source": [
    "今回は newsCorpora.csv を使う。\n",
    "\n",
    "形式： ID TITLE URL PUBLISHER CATEGORY STORY HOSTNAME TIMESTAMP\n",
    "\n",
    "全部で422937のニュース記事が含まれており、それぞれのニュース記事は以下のように分割されている。\n",
    "\n",
    "* 152746 \tnews of business category\n",
    "* 108465 \tnews of science and technology category\n",
    "* 115920 \tnews of business category\n",
    "* 45615 \tnews of health category\n",
    "\n",
    "* 2076 clusters of similar news for entertainment category\n",
    "* 1789 clusters of similar news for science and technology category\n",
    "* 2019 clusters of similar news for business category\n",
    "* 1347 clusters of similar news for health category"
   ]
  },
  {
   "cell_type": "code",
   "execution_count": 7,
   "metadata": {
    "colab": {
     "base_uri": "https://localhost:8080/"
    },
    "id": "stKBbuAhSv_t",
    "outputId": "925744d5-518a-450a-f887-696fa0caaa83"
   },
   "outputs": [
    {
     "name": "stdout",
     "output_type": "stream",
     "text": [
      "  422937 ./newsCorpora.csv\r\n"
     ]
    }
   ],
   "source": [
    "!wc -l ./newsCorpora.csv"
   ]
  },
  {
   "cell_type": "code",
   "execution_count": null,
   "metadata": {
    "colab": {
     "base_uri": "https://localhost:8080/"
    },
    "id": "yfnF2ypCSq5G",
    "outputId": "dacf648c-4912-44b1-919a-edc8c97dec92"
   },
   "outputs": [
    {
     "name": "stdout",
     "output_type": "stream",
     "text": [
      "1\tFed official says weak data caused by weather, should not slow taper\thttp://www.latimes.com/business/money/la-fi-mo-federal-reserve-plosser-stimulus-economy-20140310,0,1312750.story\\?track=rss\tLos Angeles Times\tb\tddUyU0VZz0BRneMioxUPQVP6sIxvM\twww.latimes.com\t1394470370698\n",
      "2\tFed's Charles Plosser sees high bar for change in pace of tapering\thttp://www.livemint.com/Politics/H2EvwJSK2VE6OF7iK1g3PP/Feds-Charles-Plosser-sees-high-bar-for-change-in-pace-of-ta.html\tLivemint\tb\tddUyU0VZz0BRneMioxUPQVP6sIxvM\twww.livemint.com\t1394470371207\n",
      "3\tUS open: Stocks fall after Fed official hints at accelerated tapering\thttp://www.ifamagazine.com/news/us-open-stocks-fall-after-fed-official-hints-at-accelerated-tapering-294436\tIFA Magazine\tb\tddUyU0VZz0BRneMioxUPQVP6sIxvM\twww.ifamagazine.com\t1394470371550\n",
      "4\tFed risks falling 'behind the curve', Charles Plosser says\thttp://www.ifamagazine.com/news/fed-risks-falling-behind-the-curve-charles-plosser-says-294430\tIFA Magazine\tb\tddUyU0VZz0BRneMioxUPQVP6sIxvM\twww.ifamagazine.com\t1394470371793\n",
      "5\tFed's Plosser: Nasty Weather Has Curbed Job Growth\thttp://www.moneynews.com/Economy/federal-reserve-charles-plosser-weather-job-growth/2014/03/10/id/557011\tMoneynews\tb\tddUyU0VZz0BRneMioxUPQVP6sIxvM\twww.moneynews.com\t1394470372027\n",
      "6\tPlosser: Fed May Have to Accelerate Tapering Pace\thttp://www.nasdaq.com/article/plosser-fed-may-have-to-accelerate-tapering-pace-20140310-00371\tNASDAQ\tb\tddUyU0VZz0BRneMioxUPQVP6sIxvM\twww.nasdaq.com\t1394470372212\n",
      "7\tFed's Plosser: Taper pace may be too slow\thttp://www.marketwatch.com/story/feds-plosser-taper-pace-may-be-too-slow-2014-03-10\\?reflink=MW_news_stmp\tMarketWatch\tb\tddUyU0VZz0BRneMioxUPQVP6sIxvM\twww.marketwatch.com\t1394470372405\n",
      "8\tFed's Plosser expects US unemployment to fall to 6.2% by the end of 2014\thttp://www.fxstreet.com/news/forex-news/article.aspx\\?storyid=23285020-b1b5-47ed-a8c4-96124bb91a39\tFXstreet.com\tb\tddUyU0VZz0BRneMioxUPQVP6sIxvM\twww.fxstreet.com\t1394470372615\n",
      "9\tUS jobs growth last month hit by weather:Fed President Charles Plosser\thttp://economictimes.indiatimes.com/news/international/business/us-jobs-growth-last-month-hit-by-weatherfed-president-charles-plosser/articleshow/31788000.cms\tEconomic Times\tb\tddUyU0VZz0BRneMioxUPQVP6sIxvM\teconomictimes.indiatimes.com\t1394470372792\n",
      "10\tECB unlikely to end sterilisation of SMP purchases - traders\thttp://www.iii.co.uk/news-opinion/reuters/news/152615\tInteractive Investor\tb\tdPhGU51DcrolUIMxbRm0InaHGA2XM\twww.iii.co.uk\t1394470501265\n"
     ]
    }
   ],
   "source": [
    "!head -10 ./newsCorpora.csv"
   ]
  },
  {
   "cell_type": "markdown",
   "metadata": {
    "id": "qB-alGgl80NU"
   },
   "source": [
    "2. 情報源（publisher）が”Reuters”, “Huffington Post”, “Businessweek”, “Contactmusic.com”, “Daily Mail”の事例（記事）のみを抽出する．\n"
   ]
  },
  {
   "cell_type": "code",
   "execution_count": 8,
   "metadata": {
    "id": "RoHsCyyi7mb-"
   },
   "outputs": [
    {
     "ename": "FileNotFoundError",
     "evalue": "[Errno 2] No such file or directory: '/content/newsCorpora.csv'",
     "output_type": "error",
     "traceback": [
      "\u001b[0;31m---------------------------------------------------------------------------\u001b[0m",
      "\u001b[0;31mFileNotFoundError\u001b[0m                         Traceback (most recent call last)",
      "Cell \u001b[0;32mIn[8], line 4\u001b[0m\n\u001b[1;32m      1\u001b[0m \u001b[38;5;28;01mimport\u001b[39;00m \u001b[38;5;21;01mpandas\u001b[39;00m \u001b[38;5;28;01mas\u001b[39;00m \u001b[38;5;21;01mpd\u001b[39;00m\n\u001b[1;32m      3\u001b[0m \u001b[38;5;66;03m# ファイル読込\u001b[39;00m\n\u001b[0;32m----> 4\u001b[0m df \u001b[38;5;241m=\u001b[39m pd\u001b[38;5;241m.\u001b[39mread_csv(\u001b[38;5;124m'\u001b[39m\u001b[38;5;124m/content/newsCorpora.csv\u001b[39m\u001b[38;5;124m'\u001b[39m, header\u001b[38;5;241m=\u001b[39m\u001b[38;5;28;01mNone\u001b[39;00m, sep\u001b[38;5;241m=\u001b[39m\u001b[38;5;124m'\u001b[39m\u001b[38;5;130;01m\\t\u001b[39;00m\u001b[38;5;124m'\u001b[39m, names\u001b[38;5;241m=\u001b[39m[\u001b[38;5;124m'\u001b[39m\u001b[38;5;124mID\u001b[39m\u001b[38;5;124m'\u001b[39m, \u001b[38;5;124m'\u001b[39m\u001b[38;5;124mTITLE\u001b[39m\u001b[38;5;124m'\u001b[39m, \u001b[38;5;124m'\u001b[39m\u001b[38;5;124mURL\u001b[39m\u001b[38;5;124m'\u001b[39m, \u001b[38;5;124m'\u001b[39m\u001b[38;5;124mPUBLISHER\u001b[39m\u001b[38;5;124m'\u001b[39m, \u001b[38;5;124m'\u001b[39m\u001b[38;5;124mCATEGORY\u001b[39m\u001b[38;5;124m'\u001b[39m, \u001b[38;5;124m'\u001b[39m\u001b[38;5;124mSTORY\u001b[39m\u001b[38;5;124m'\u001b[39m, \u001b[38;5;124m'\u001b[39m\u001b[38;5;124mHOSTNAME\u001b[39m\u001b[38;5;124m'\u001b[39m, \u001b[38;5;124m'\u001b[39m\u001b[38;5;124mTIMESTAMP\u001b[39m\u001b[38;5;124m'\u001b[39m])\n",
      "File \u001b[0;32m/opt/anaconda3/lib/python3.11/site-packages/pandas/io/parsers/readers.py:948\u001b[0m, in \u001b[0;36mread_csv\u001b[0;34m(filepath_or_buffer, sep, delimiter, header, names, index_col, usecols, dtype, engine, converters, true_values, false_values, skipinitialspace, skiprows, skipfooter, nrows, na_values, keep_default_na, na_filter, verbose, skip_blank_lines, parse_dates, infer_datetime_format, keep_date_col, date_parser, date_format, dayfirst, cache_dates, iterator, chunksize, compression, thousands, decimal, lineterminator, quotechar, quoting, doublequote, escapechar, comment, encoding, encoding_errors, dialect, on_bad_lines, delim_whitespace, low_memory, memory_map, float_precision, storage_options, dtype_backend)\u001b[0m\n\u001b[1;32m    935\u001b[0m kwds_defaults \u001b[38;5;241m=\u001b[39m _refine_defaults_read(\n\u001b[1;32m    936\u001b[0m     dialect,\n\u001b[1;32m    937\u001b[0m     delimiter,\n\u001b[0;32m   (...)\u001b[0m\n\u001b[1;32m    944\u001b[0m     dtype_backend\u001b[38;5;241m=\u001b[39mdtype_backend,\n\u001b[1;32m    945\u001b[0m )\n\u001b[1;32m    946\u001b[0m kwds\u001b[38;5;241m.\u001b[39mupdate(kwds_defaults)\n\u001b[0;32m--> 948\u001b[0m \u001b[38;5;28;01mreturn\u001b[39;00m _read(filepath_or_buffer, kwds)\n",
      "File \u001b[0;32m/opt/anaconda3/lib/python3.11/site-packages/pandas/io/parsers/readers.py:611\u001b[0m, in \u001b[0;36m_read\u001b[0;34m(filepath_or_buffer, kwds)\u001b[0m\n\u001b[1;32m    608\u001b[0m _validate_names(kwds\u001b[38;5;241m.\u001b[39mget(\u001b[38;5;124m\"\u001b[39m\u001b[38;5;124mnames\u001b[39m\u001b[38;5;124m\"\u001b[39m, \u001b[38;5;28;01mNone\u001b[39;00m))\n\u001b[1;32m    610\u001b[0m \u001b[38;5;66;03m# Create the parser.\u001b[39;00m\n\u001b[0;32m--> 611\u001b[0m parser \u001b[38;5;241m=\u001b[39m TextFileReader(filepath_or_buffer, \u001b[38;5;241m*\u001b[39m\u001b[38;5;241m*\u001b[39mkwds)\n\u001b[1;32m    613\u001b[0m \u001b[38;5;28;01mif\u001b[39;00m chunksize \u001b[38;5;129;01mor\u001b[39;00m iterator:\n\u001b[1;32m    614\u001b[0m     \u001b[38;5;28;01mreturn\u001b[39;00m parser\n",
      "File \u001b[0;32m/opt/anaconda3/lib/python3.11/site-packages/pandas/io/parsers/readers.py:1448\u001b[0m, in \u001b[0;36mTextFileReader.__init__\u001b[0;34m(self, f, engine, **kwds)\u001b[0m\n\u001b[1;32m   1445\u001b[0m     \u001b[38;5;28mself\u001b[39m\u001b[38;5;241m.\u001b[39moptions[\u001b[38;5;124m\"\u001b[39m\u001b[38;5;124mhas_index_names\u001b[39m\u001b[38;5;124m\"\u001b[39m] \u001b[38;5;241m=\u001b[39m kwds[\u001b[38;5;124m\"\u001b[39m\u001b[38;5;124mhas_index_names\u001b[39m\u001b[38;5;124m\"\u001b[39m]\n\u001b[1;32m   1447\u001b[0m \u001b[38;5;28mself\u001b[39m\u001b[38;5;241m.\u001b[39mhandles: IOHandles \u001b[38;5;241m|\u001b[39m \u001b[38;5;28;01mNone\u001b[39;00m \u001b[38;5;241m=\u001b[39m \u001b[38;5;28;01mNone\u001b[39;00m\n\u001b[0;32m-> 1448\u001b[0m \u001b[38;5;28mself\u001b[39m\u001b[38;5;241m.\u001b[39m_engine \u001b[38;5;241m=\u001b[39m \u001b[38;5;28mself\u001b[39m\u001b[38;5;241m.\u001b[39m_make_engine(f, \u001b[38;5;28mself\u001b[39m\u001b[38;5;241m.\u001b[39mengine)\n",
      "File \u001b[0;32m/opt/anaconda3/lib/python3.11/site-packages/pandas/io/parsers/readers.py:1705\u001b[0m, in \u001b[0;36mTextFileReader._make_engine\u001b[0;34m(self, f, engine)\u001b[0m\n\u001b[1;32m   1703\u001b[0m     \u001b[38;5;28;01mif\u001b[39;00m \u001b[38;5;124m\"\u001b[39m\u001b[38;5;124mb\u001b[39m\u001b[38;5;124m\"\u001b[39m \u001b[38;5;129;01mnot\u001b[39;00m \u001b[38;5;129;01min\u001b[39;00m mode:\n\u001b[1;32m   1704\u001b[0m         mode \u001b[38;5;241m+\u001b[39m\u001b[38;5;241m=\u001b[39m \u001b[38;5;124m\"\u001b[39m\u001b[38;5;124mb\u001b[39m\u001b[38;5;124m\"\u001b[39m\n\u001b[0;32m-> 1705\u001b[0m \u001b[38;5;28mself\u001b[39m\u001b[38;5;241m.\u001b[39mhandles \u001b[38;5;241m=\u001b[39m get_handle(\n\u001b[1;32m   1706\u001b[0m     f,\n\u001b[1;32m   1707\u001b[0m     mode,\n\u001b[1;32m   1708\u001b[0m     encoding\u001b[38;5;241m=\u001b[39m\u001b[38;5;28mself\u001b[39m\u001b[38;5;241m.\u001b[39moptions\u001b[38;5;241m.\u001b[39mget(\u001b[38;5;124m\"\u001b[39m\u001b[38;5;124mencoding\u001b[39m\u001b[38;5;124m\"\u001b[39m, \u001b[38;5;28;01mNone\u001b[39;00m),\n\u001b[1;32m   1709\u001b[0m     compression\u001b[38;5;241m=\u001b[39m\u001b[38;5;28mself\u001b[39m\u001b[38;5;241m.\u001b[39moptions\u001b[38;5;241m.\u001b[39mget(\u001b[38;5;124m\"\u001b[39m\u001b[38;5;124mcompression\u001b[39m\u001b[38;5;124m\"\u001b[39m, \u001b[38;5;28;01mNone\u001b[39;00m),\n\u001b[1;32m   1710\u001b[0m     memory_map\u001b[38;5;241m=\u001b[39m\u001b[38;5;28mself\u001b[39m\u001b[38;5;241m.\u001b[39moptions\u001b[38;5;241m.\u001b[39mget(\u001b[38;5;124m\"\u001b[39m\u001b[38;5;124mmemory_map\u001b[39m\u001b[38;5;124m\"\u001b[39m, \u001b[38;5;28;01mFalse\u001b[39;00m),\n\u001b[1;32m   1711\u001b[0m     is_text\u001b[38;5;241m=\u001b[39mis_text,\n\u001b[1;32m   1712\u001b[0m     errors\u001b[38;5;241m=\u001b[39m\u001b[38;5;28mself\u001b[39m\u001b[38;5;241m.\u001b[39moptions\u001b[38;5;241m.\u001b[39mget(\u001b[38;5;124m\"\u001b[39m\u001b[38;5;124mencoding_errors\u001b[39m\u001b[38;5;124m\"\u001b[39m, \u001b[38;5;124m\"\u001b[39m\u001b[38;5;124mstrict\u001b[39m\u001b[38;5;124m\"\u001b[39m),\n\u001b[1;32m   1713\u001b[0m     storage_options\u001b[38;5;241m=\u001b[39m\u001b[38;5;28mself\u001b[39m\u001b[38;5;241m.\u001b[39moptions\u001b[38;5;241m.\u001b[39mget(\u001b[38;5;124m\"\u001b[39m\u001b[38;5;124mstorage_options\u001b[39m\u001b[38;5;124m\"\u001b[39m, \u001b[38;5;28;01mNone\u001b[39;00m),\n\u001b[1;32m   1714\u001b[0m )\n\u001b[1;32m   1715\u001b[0m \u001b[38;5;28;01massert\u001b[39;00m \u001b[38;5;28mself\u001b[39m\u001b[38;5;241m.\u001b[39mhandles \u001b[38;5;129;01mis\u001b[39;00m \u001b[38;5;129;01mnot\u001b[39;00m \u001b[38;5;28;01mNone\u001b[39;00m\n\u001b[1;32m   1716\u001b[0m f \u001b[38;5;241m=\u001b[39m \u001b[38;5;28mself\u001b[39m\u001b[38;5;241m.\u001b[39mhandles\u001b[38;5;241m.\u001b[39mhandle\n",
      "File \u001b[0;32m/opt/anaconda3/lib/python3.11/site-packages/pandas/io/common.py:863\u001b[0m, in \u001b[0;36mget_handle\u001b[0;34m(path_or_buf, mode, encoding, compression, memory_map, is_text, errors, storage_options)\u001b[0m\n\u001b[1;32m    858\u001b[0m \u001b[38;5;28;01melif\u001b[39;00m \u001b[38;5;28misinstance\u001b[39m(handle, \u001b[38;5;28mstr\u001b[39m):\n\u001b[1;32m    859\u001b[0m     \u001b[38;5;66;03m# Check whether the filename is to be opened in binary mode.\u001b[39;00m\n\u001b[1;32m    860\u001b[0m     \u001b[38;5;66;03m# Binary mode does not support 'encoding' and 'newline'.\u001b[39;00m\n\u001b[1;32m    861\u001b[0m     \u001b[38;5;28;01mif\u001b[39;00m ioargs\u001b[38;5;241m.\u001b[39mencoding \u001b[38;5;129;01mand\u001b[39;00m \u001b[38;5;124m\"\u001b[39m\u001b[38;5;124mb\u001b[39m\u001b[38;5;124m\"\u001b[39m \u001b[38;5;129;01mnot\u001b[39;00m \u001b[38;5;129;01min\u001b[39;00m ioargs\u001b[38;5;241m.\u001b[39mmode:\n\u001b[1;32m    862\u001b[0m         \u001b[38;5;66;03m# Encoding\u001b[39;00m\n\u001b[0;32m--> 863\u001b[0m         handle \u001b[38;5;241m=\u001b[39m \u001b[38;5;28mopen\u001b[39m(\n\u001b[1;32m    864\u001b[0m             handle,\n\u001b[1;32m    865\u001b[0m             ioargs\u001b[38;5;241m.\u001b[39mmode,\n\u001b[1;32m    866\u001b[0m             encoding\u001b[38;5;241m=\u001b[39mioargs\u001b[38;5;241m.\u001b[39mencoding,\n\u001b[1;32m    867\u001b[0m             errors\u001b[38;5;241m=\u001b[39merrors,\n\u001b[1;32m    868\u001b[0m             newline\u001b[38;5;241m=\u001b[39m\u001b[38;5;124m\"\u001b[39m\u001b[38;5;124m\"\u001b[39m,\n\u001b[1;32m    869\u001b[0m         )\n\u001b[1;32m    870\u001b[0m     \u001b[38;5;28;01melse\u001b[39;00m:\n\u001b[1;32m    871\u001b[0m         \u001b[38;5;66;03m# Binary mode\u001b[39;00m\n\u001b[1;32m    872\u001b[0m         handle \u001b[38;5;241m=\u001b[39m \u001b[38;5;28mopen\u001b[39m(handle, ioargs\u001b[38;5;241m.\u001b[39mmode)\n",
      "\u001b[0;31mFileNotFoundError\u001b[0m: [Errno 2] No such file or directory: '/content/newsCorpora.csv'"
     ]
    }
   ],
   "source": [
    "import pandas as pd\n",
    "\n",
    "# ファイル読込\n",
    "df = pd.read_csv('/content/newsCorpora.csv', header=None, sep='\\t', names=['ID', 'TITLE', 'URL', 'PUBLISHER', 'CATEGORY', 'STORY', 'HOSTNAME', 'TIMESTAMP'])"
   ]
  },
  {
   "cell_type": "code",
   "execution_count": null,
   "metadata": {
    "colab": {
     "base_uri": "https://localhost:8080/"
    },
    "id": "NvdiwNQbblnj",
    "outputId": "90ab8a0b-666b-438e-f8a9-226d8196cc26"
   },
   "outputs": [
    {
     "name": "stdout",
     "output_type": "stream",
     "text": [
      "<class 'pandas.core.frame.DataFrame'>\n",
      "RangeIndex: 422419 entries, 0 to 422418\n",
      "Data columns (total 8 columns):\n",
      " #   Column     Non-Null Count   Dtype \n",
      "---  ------     --------------   ----- \n",
      " 0   ID         422419 non-null  int64 \n",
      " 1   TITLE      422419 non-null  object\n",
      " 2   URL        422419 non-null  object\n",
      " 3   PUBLISHER  422417 non-null  object\n",
      " 4   CATEGORY   422419 non-null  object\n",
      " 5   STORY      422419 non-null  object\n",
      " 6   HOSTNAME   422419 non-null  object\n",
      " 7   TIMESTAMP  422419 non-null  int64 \n",
      "dtypes: int64(2), object(6)\n",
      "memory usage: 25.8+ MB\n"
     ]
    }
   ],
   "source": [
    "# readme.txtの数値と合っているか、欠損値などあるか\n",
    "df.info()"
   ]
  },
  {
   "cell_type": "code",
   "execution_count": null,
   "metadata": {
    "colab": {
     "base_uri": "https://localhost:8080/"
    },
    "id": "jjkq5igtdZ5C",
    "outputId": "3e0e86b1-c1dd-4232-d420-b6b1689aa44e"
   },
   "outputs": [
    {
     "data": {
      "text/plain": [
       "e    152469\n",
       "b    115967\n",
       "t    108344\n",
       "m     45639\n",
       "Name: CATEGORY, dtype: int64"
      ]
     },
     "execution_count": 5,
     "metadata": {},
     "output_type": "execute_result"
    }
   ],
   "source": [
    "# 各カテゴリに含まれるニュース記事の数\n",
    "df['CATEGORY'].value_counts()"
   ]
  },
  {
   "cell_type": "code",
   "execution_count": null,
   "metadata": {
    "id": "icxl4bHubjwr"
   },
   "outputs": [],
   "source": [
    "# 情報源（publisher）が”Reuters”, “Huffington Post”, “Businessweek”, “Contactmusic.com”, “Daily Mail”の事例（記事）のみを抽出\n",
    "df = df[df[\"PUBLISHER\"].isin([\"Reuters\", \"Huffington Post\", \"Businessweek\", \"Contactmusic.com\", \"Daily Mail\"])]"
   ]
  },
  {
   "cell_type": "code",
   "execution_count": null,
   "metadata": {
    "colab": {
     "base_uri": "https://localhost:8080/"
    },
    "id": "s4rJc-U_cM29",
    "outputId": "957faea1-979f-4f5a-8d73-6e0cee19dde0"
   },
   "outputs": [
    {
     "name": "stdout",
     "output_type": "stream",
     "text": [
      "<class 'pandas.core.frame.DataFrame'>\n",
      "Int64Index: 13340 entries, 12 to 422319\n",
      "Data columns (total 8 columns):\n",
      " #   Column     Non-Null Count  Dtype \n",
      "---  ------     --------------  ----- \n",
      " 0   ID         13340 non-null  int64 \n",
      " 1   TITLE      13340 non-null  object\n",
      " 2   URL        13340 non-null  object\n",
      " 3   PUBLISHER  13340 non-null  object\n",
      " 4   CATEGORY   13340 non-null  object\n",
      " 5   STORY      13340 non-null  object\n",
      " 6   HOSTNAME   13340 non-null  object\n",
      " 7   TIMESTAMP  13340 non-null  int64 \n",
      "dtypes: int64(2), object(6)\n",
      "memory usage: 938.0+ KB\n"
     ]
    }
   ],
   "source": [
    "# 抽出され減ったか確認？\n",
    "df.info()"
   ]
  },
  {
   "cell_type": "code",
   "execution_count": null,
   "metadata": {
    "colab": {
     "base_uri": "https://localhost:8080/"
    },
    "id": "41ogjEB_dqUA",
    "outputId": "4069503a-0e87-4026-99c4-c58cb405f335"
   },
   "outputs": [
    {
     "data": {
      "text/plain": [
       "b    5627\n",
       "e    5279\n",
       "t    1524\n",
       "m     910\n",
       "Name: CATEGORY, dtype: int64"
      ]
     },
     "execution_count": 8,
     "metadata": {},
     "output_type": "execute_result"
    }
   ],
   "source": [
    "df['CATEGORY'].value_counts()"
   ]
  },
  {
   "cell_type": "markdown",
   "metadata": {
    "id": "fiza67vE9EGM"
   },
   "source": [
    "\n",
    "3. 抽出された事例をランダムに並び替える.\n",
    "\n",
    "4. 抽出された事例の80%を学習データ，残りの10%ずつを検証データと評価データに分割し，それぞれtrain.txt，valid.txt，test.txtというファイル名で保存する．ファイルには，１行に１事例を書き出すこととし，カテゴリ名と記事見出しのタブ区切り形式とせよ（このファイルは後に問題70で再利用する）．"
   ]
  },
  {
   "cell_type": "code",
   "execution_count": null,
   "metadata": {
    "id": "Qp1B1tQWcjIx"
   },
   "outputs": [],
   "source": [
    "# カテゴリ名と記事見出しのみ取り出す\n",
    "df = df[[\"TITLE\", \"CATEGORY\"]]"
   ]
  },
  {
   "cell_type": "code",
   "execution_count": null,
   "metadata": {
    "colab": {
     "base_uri": "https://localhost:8080/"
    },
    "id": "jXq9mKuVcmNS",
    "outputId": "f26929ca-44b5-47a3-94e5-a707ac4a0ef8"
   },
   "outputs": [
    {
     "name": "stdout",
     "output_type": "stream",
     "text": [
      "<class 'pandas.core.frame.DataFrame'>\n",
      "Int64Index: 13340 entries, 12 to 422319\n",
      "Data columns (total 2 columns):\n",
      " #   Column    Non-Null Count  Dtype \n",
      "---  ------    --------------  ----- \n",
      " 0   TITLE     13340 non-null  object\n",
      " 1   CATEGORY  13340 non-null  object\n",
      "dtypes: object(2)\n",
      "memory usage: 312.7+ KB\n"
     ]
    }
   ],
   "source": [
    "df.info()"
   ]
  },
  {
   "cell_type": "markdown",
   "metadata": {
    "id": "ke5TavC3cyui"
   },
   "source": [
    "sklearn.model_selection.train_test_split を使って、データを分割しかつランダムに並び替える\n",
    "\n",
    "https://scikit-learn.org/stable/modules/generated/sklearn.model_selection.train_test_split.html"
   ]
  },
  {
   "cell_type": "code",
   "execution_count": null,
   "metadata": {
    "id": "gXCGrBWT9GIe"
   },
   "outputs": [],
   "source": [
    "from sklearn.model_selection import train_test_split\n",
    "\n",
    "# データの分割\n",
    "train, valid_test = train_test_split(df, test_size=0.2, shuffle=True, random_state=123, stratify=df['CATEGORY'])\n",
    "valid, test = train_test_split(valid_test, test_size=0.5, shuffle=True, random_state=123, stratify=valid_test['CATEGORY'])\n",
    "\n",
    "# データの保存\n",
    "train.to_csv('./train.txt', sep='\\t', index=False)\n",
    "valid.to_csv('./valid.txt', sep='\\t', index=False)\n",
    "test.to_csv('./test.txt', sep='\\t', index=False)"
   ]
  },
  {
   "cell_type": "markdown",
   "metadata": {
    "id": "KZ2bJD0X9llb"
   },
   "source": [
    "学習データと評価データを作成したら，各カテゴリの事例数を確認せよ．"
   ]
  },
  {
   "cell_type": "code",
   "execution_count": null,
   "metadata": {
    "colab": {
     "base_uri": "https://localhost:8080/"
    },
    "id": "H7CFMpJd9nx8",
    "outputId": "d2dc0b8e-ef1c-4ce3-f448-b569c2b601af"
   },
   "outputs": [
    {
     "name": "stdout",
     "output_type": "stream",
     "text": [
      "学習データ :  b    4502\n",
      "e    4223\n",
      "t    1219\n",
      "m     728\n",
      "Name: CATEGORY, dtype: int64\n",
      "検証データ :  b    562\n",
      "e    528\n",
      "t    153\n",
      "m     91\n",
      "Name: CATEGORY, dtype: int64\n",
      "評価データ :  b    563\n",
      "e    528\n",
      "t    152\n",
      "m     91\n",
      "Name: CATEGORY, dtype: int64\n"
     ]
    }
   ],
   "source": [
    "# 事例数の確認\n",
    "print('学習データ : ', train['CATEGORY'].value_counts())\n",
    "print('検証データ : ', valid['CATEGORY'].value_counts())\n",
    "print('評価データ : ', test['CATEGORY'].value_counts())"
   ]
  },
  {
   "cell_type": "markdown",
   "metadata": {
    "id": "xOHzY5hYz6c-"
   },
   "source": [
    "## 51. 特徴量抽出\n",
    "***\n",
    "学習データ，検証データ，評価データから特徴量を抽出し，それぞれtrain.feature.txt，valid.feature.txt，test.feature.txtというファイル名で保存せよ． なお，カテゴリ分類に有用そうな特徴量は各自で自由に設計せよ．記事の見出しを単語列に変換したものが最低限のベースラインとなるであろう．"
   ]
  },
  {
   "cell_type": "markdown",
   "metadata": {
    "id": "fA6lfi989-ep"
   },
   "source": [
    "***\n",
    "7章で学習したことを活かして、記事の見出しを単語列に変換し、単語ベクトルに変換して平均を撮ったものを記事の見出しの特徴量としてみましょう。"
   ]
  },
  {
   "cell_type": "markdown",
   "metadata": {
    "id": "L16THnhQKtHa"
   },
   "source": [
    "７章60. を参考に、学習ずみ単語埋め込みモデルをロード"
   ]
  },
  {
   "cell_type": "markdown",
   "metadata": {
    "id": "uh-lmjxCitIW"
   },
   "source": [
    "もし\n",
    "\n",
    "Access denied with the following error: Too many users have viewed or downloaded this file recently. Please try accessing the file again later. If the file you are trying to access is particularly large or is shared with many people, it may take up to 24 hours to be able to view or download the file. If you still can't access a file after 24 hours, contact your domain administrator.\n",
    "\n",
    "みたいなエラーが出たら、下のリンクを使ってください。\n",
    "\n",
    "https://drive.google.com/uc?id=1b5P1KufeAH4WfDZDFUGr1Y2QzHJQxvTw"
   ]
  },
  {
   "cell_type": "code",
   "execution_count": null,
   "metadata": {
    "colab": {
     "base_uri": "https://localhost:8080/"
    },
    "id": "_Hnw1EFmwMOC",
    "outputId": "81604bdc-0f94-498a-ef0d-9b327d835401"
   },
   "outputs": [
    {
     "name": "stderr",
     "output_type": "stream",
     "text": [
      "Downloading...\n",
      "From: https://drive.google.com/uc?id=1b5P1KufeAH4WfDZDFUGr1Y2QzHJQxvTw\n",
      "To: /content/GoogleNews-vectors-negative300.bin.gz\n",
      "100%|██████████| 1.65G/1.65G [00:17<00:00, 94.3MB/s]\n"
     ]
    }
   ],
   "source": [
    "import gdown\n",
    "from gensim.models import KeyedVectors\n",
    "\n",
    "# Google Newsデータセット（約1,000億単語）の学習済み単語ベクトル（300万単語・フレーズ，300次元）をダウンロード\n",
    "url = 'https://drive.google.com/uc?id=1b5P1KufeAH4WfDZDFUGr1Y2QzHJQxvTw'\n",
    "output = 'GoogleNews-vectors-negative300.bin.gz'\n",
    "gdown.download(url, output, quiet=False)\n",
    "\n",
    "# 学習済みモデルのロード\n",
    "model = KeyedVectors.load_word2vec_format('./GoogleNews-vectors-negative300.bin.gz', binary=True)"
   ]
  },
  {
   "cell_type": "code",
   "execution_count": null,
   "metadata": {
    "id": "Ih9oTAa-B_Z7"
   },
   "outputs": [],
   "source": [
    "import numpy as np\n",
    "\n",
    "def title2vector(title):\n",
    "  title = title.split(' ')\n",
    "  assert len(title)!=0\n",
    "\n",
    "  v_sum=np.zeros(300)\n",
    "  for w in title:\n",
    "    try:\n",
    "      v_sum = v_sum+model[w]\n",
    "    except KeyError:\n",
    "      #print(\"The word {} does not exist in the vocabulary.\".format(w))\n",
    "      pass\n",
    "\n",
    "  return v_sum/len(title) # numpy のブロードキャスト使用"
   ]
  },
  {
   "cell_type": "code",
   "execution_count": null,
   "metadata": {
    "colab": {
     "base_uri": "https://localhost:8080/"
    },
    "id": "6UGZNHXbYL7N",
    "outputId": "b91e7be7-2333-45d4-e6d5-97a0875391c1"
   },
   "outputs": [
    {
     "data": {
      "text/plain": [
       "276134    [-0.00115966796875, 0.07568359375, -0.07653808...\n",
       "382850    [-0.04165310329861111, 0.014811197916666666, -...\n",
       "370769    [-0.037017822265625, -0.021942138671875, -0.02...\n",
       "12938     [0.008688790457589286, 0.08893694196428571, -0...\n",
       "318782    [0.029217529296875, 0.017936197916666667, -0.0...\n",
       "Name: TITLE, dtype: object"
      ]
     },
     "execution_count": 16,
     "metadata": {},
     "output_type": "execute_result"
    }
   ],
   "source": [
    "# 前処理：単語ベクトル化\n",
    "train['TITLE'] = train['TITLE'].apply(lambda x: title2vector(x))\n",
    "valid['TITLE'] = valid['TITLE'].apply(lambda x: title2vector(x))\n",
    "test['TITLE'] = test['TITLE'].apply(lambda x: title2vector(x))\n",
    "\n",
    "train['TITLE'].head()"
   ]
  },
  {
   "cell_type": "code",
   "execution_count": null,
   "metadata": {
    "colab": {
     "base_uri": "https://localhost:8080/"
    },
    "id": "_J-2Ns7HgJwe",
    "outputId": "e710bc44-b30c-4080-cd9a-acef57c91173"
   },
   "outputs": [
    {
     "data": {
      "text/plain": [
       "False"
      ]
     },
     "execution_count": 17,
     "metadata": {},
     "output_type": "execute_result"
    }
   ],
   "source": [
    "train['TITLE'].isnull().any()"
   ]
  },
  {
   "cell_type": "code",
   "execution_count": null,
   "metadata": {
    "colab": {
     "base_uri": "https://localhost:8080/"
    },
    "id": "WoVB5YdLh9eN",
    "outputId": "c18194ba-6e8a-4014-df25-408b2949914f"
   },
   "outputs": [
    {
     "data": {
      "text/plain": [
       "(10672,)"
      ]
     },
     "execution_count": 18,
     "metadata": {},
     "output_type": "execute_result"
    }
   ],
   "source": [
    "train['TITLE'].shape\n",
    "# array([array([300次元],dtype=float32),array(),・・・,array()], dtype=object))"
   ]
  },
  {
   "cell_type": "code",
   "execution_count": null,
   "metadata": {
    "id": "Srv2hzaKmQX8"
   },
   "outputs": [],
   "source": [
    "def makedaraframe(df):\n",
    "  # 'TITLE'列からnumpy.ndarrayのリストを作成する\n",
    "  vectors = list(df)\n",
    "\n",
    "  # ベクトルをDataFrameの行に展開する\n",
    "  expanded_vectors = []\n",
    "  for vector in vectors:\n",
    "      expanded_vector = [element for element in vector]\n",
    "      expanded_vectors.append(expanded_vector)\n",
    "\n",
    "  # 新しいDataFrameを作成する\n",
    "  new_df = pd.DataFrame(expanded_vectors)\n",
    "\n",
    "  return new_df"
   ]
  },
  {
   "cell_type": "code",
   "execution_count": null,
   "metadata": {
    "id": "vXTU7pCeptaz"
   },
   "outputs": [],
   "source": [
    "train_feature = makedaraframe(train['TITLE'])\n",
    "valid_feature = makedaraframe(valid['TITLE'])\n",
    "test_feature = makedaraframe(test['TITLE'])"
   ]
  },
  {
   "cell_type": "code",
   "execution_count": null,
   "metadata": {
    "colab": {
     "base_uri": "https://localhost:8080/",
     "height": 488
    },
    "id": "6je8CEZimQSu",
    "outputId": "e94fb3fc-bbd2-4e0a-9395-38bb1a6079af"
   },
   "outputs": [
    {
     "data": {
      "text/html": [
       "\n",
       "  <div id=\"df-9d9ff66f-9c8c-467f-8325-d6b2c93cb1e0\">\n",
       "    <div class=\"colab-df-container\">\n",
       "      <div>\n",
       "<style scoped>\n",
       "    .dataframe tbody tr th:only-of-type {\n",
       "        vertical-align: middle;\n",
       "    }\n",
       "\n",
       "    .dataframe tbody tr th {\n",
       "        vertical-align: top;\n",
       "    }\n",
       "\n",
       "    .dataframe thead th {\n",
       "        text-align: right;\n",
       "    }\n",
       "</style>\n",
       "<table border=\"1\" class=\"dataframe\">\n",
       "  <thead>\n",
       "    <tr style=\"text-align: right;\">\n",
       "      <th></th>\n",
       "      <th>0</th>\n",
       "      <th>1</th>\n",
       "      <th>2</th>\n",
       "      <th>3</th>\n",
       "      <th>4</th>\n",
       "      <th>5</th>\n",
       "      <th>6</th>\n",
       "      <th>7</th>\n",
       "      <th>8</th>\n",
       "      <th>9</th>\n",
       "      <th>...</th>\n",
       "      <th>290</th>\n",
       "      <th>291</th>\n",
       "      <th>292</th>\n",
       "      <th>293</th>\n",
       "      <th>294</th>\n",
       "      <th>295</th>\n",
       "      <th>296</th>\n",
       "      <th>297</th>\n",
       "      <th>298</th>\n",
       "      <th>299</th>\n",
       "    </tr>\n",
       "  </thead>\n",
       "  <tbody>\n",
       "    <tr>\n",
       "      <th>0</th>\n",
       "      <td>-0.001160</td>\n",
       "      <td>0.075684</td>\n",
       "      <td>-0.076538</td>\n",
       "      <td>-0.001736</td>\n",
       "      <td>-0.032120</td>\n",
       "      <td>0.037243</td>\n",
       "      <td>-0.133942</td>\n",
       "      <td>0.097656</td>\n",
       "      <td>0.052307</td>\n",
       "      <td>0.111755</td>\n",
       "      <td>...</td>\n",
       "      <td>-0.012482</td>\n",
       "      <td>0.123207</td>\n",
       "      <td>-0.074127</td>\n",
       "      <td>0.006424</td>\n",
       "      <td>-0.055847</td>\n",
       "      <td>-0.018650</td>\n",
       "      <td>0.086784</td>\n",
       "      <td>-0.010864</td>\n",
       "      <td>0.087097</td>\n",
       "      <td>-0.045031</td>\n",
       "    </tr>\n",
       "    <tr>\n",
       "      <th>1</th>\n",
       "      <td>-0.041653</td>\n",
       "      <td>0.014811</td>\n",
       "      <td>-0.060777</td>\n",
       "      <td>0.146240</td>\n",
       "      <td>-0.027249</td>\n",
       "      <td>-0.021267</td>\n",
       "      <td>0.045803</td>\n",
       "      <td>-0.129666</td>\n",
       "      <td>0.276421</td>\n",
       "      <td>0.008762</td>\n",
       "      <td>...</td>\n",
       "      <td>0.006856</td>\n",
       "      <td>-0.026479</td>\n",
       "      <td>-0.032567</td>\n",
       "      <td>0.057406</td>\n",
       "      <td>0.031494</td>\n",
       "      <td>-0.085015</td>\n",
       "      <td>-0.019409</td>\n",
       "      <td>-0.034838</td>\n",
       "      <td>-0.015232</td>\n",
       "      <td>-0.044264</td>\n",
       "    </tr>\n",
       "    <tr>\n",
       "      <th>2</th>\n",
       "      <td>-0.037018</td>\n",
       "      <td>-0.021942</td>\n",
       "      <td>-0.029057</td>\n",
       "      <td>0.035416</td>\n",
       "      <td>-0.068993</td>\n",
       "      <td>-0.056328</td>\n",
       "      <td>0.021484</td>\n",
       "      <td>-0.004684</td>\n",
       "      <td>0.100342</td>\n",
       "      <td>-0.002899</td>\n",
       "      <td>...</td>\n",
       "      <td>-0.027893</td>\n",
       "      <td>-0.129578</td>\n",
       "      <td>-0.031410</td>\n",
       "      <td>0.075546</td>\n",
       "      <td>-0.159256</td>\n",
       "      <td>0.059326</td>\n",
       "      <td>-0.007759</td>\n",
       "      <td>-0.021294</td>\n",
       "      <td>0.103584</td>\n",
       "      <td>-0.004402</td>\n",
       "    </tr>\n",
       "    <tr>\n",
       "      <th>3</th>\n",
       "      <td>0.008689</td>\n",
       "      <td>0.088937</td>\n",
       "      <td>-0.059867</td>\n",
       "      <td>-0.038618</td>\n",
       "      <td>0.029842</td>\n",
       "      <td>-0.076582</td>\n",
       "      <td>-0.026542</td>\n",
       "      <td>-0.008181</td>\n",
       "      <td>0.087660</td>\n",
       "      <td>0.090646</td>\n",
       "      <td>...</td>\n",
       "      <td>0.067157</td>\n",
       "      <td>-0.057303</td>\n",
       "      <td>-0.011656</td>\n",
       "      <td>0.012839</td>\n",
       "      <td>0.060287</td>\n",
       "      <td>-0.026725</td>\n",
       "      <td>-0.028338</td>\n",
       "      <td>-0.017678</td>\n",
       "      <td>-0.008911</td>\n",
       "      <td>-0.032636</td>\n",
       "    </tr>\n",
       "    <tr>\n",
       "      <th>4</th>\n",
       "      <td>0.029218</td>\n",
       "      <td>0.017936</td>\n",
       "      <td>-0.098036</td>\n",
       "      <td>0.007332</td>\n",
       "      <td>0.051943</td>\n",
       "      <td>0.048356</td>\n",
       "      <td>-0.028524</td>\n",
       "      <td>-0.144832</td>\n",
       "      <td>0.055241</td>\n",
       "      <td>0.026818</td>\n",
       "      <td>...</td>\n",
       "      <td>0.038692</td>\n",
       "      <td>-0.006616</td>\n",
       "      <td>-0.133838</td>\n",
       "      <td>0.023674</td>\n",
       "      <td>-0.076912</td>\n",
       "      <td>-0.070818</td>\n",
       "      <td>-0.024399</td>\n",
       "      <td>0.007349</td>\n",
       "      <td>-0.006513</td>\n",
       "      <td>-0.048569</td>\n",
       "    </tr>\n",
       "    <tr>\n",
       "      <th>...</th>\n",
       "      <td>...</td>\n",
       "      <td>...</td>\n",
       "      <td>...</td>\n",
       "      <td>...</td>\n",
       "      <td>...</td>\n",
       "      <td>...</td>\n",
       "      <td>...</td>\n",
       "      <td>...</td>\n",
       "      <td>...</td>\n",
       "      <td>...</td>\n",
       "      <td>...</td>\n",
       "      <td>...</td>\n",
       "      <td>...</td>\n",
       "      <td>...</td>\n",
       "      <td>...</td>\n",
       "      <td>...</td>\n",
       "      <td>...</td>\n",
       "      <td>...</td>\n",
       "      <td>...</td>\n",
       "      <td>...</td>\n",
       "      <td>...</td>\n",
       "    </tr>\n",
       "    <tr>\n",
       "      <th>10667</th>\n",
       "      <td>0.024197</td>\n",
       "      <td>-0.073629</td>\n",
       "      <td>-0.100749</td>\n",
       "      <td>0.109134</td>\n",
       "      <td>0.088108</td>\n",
       "      <td>0.030654</td>\n",
       "      <td>-0.009406</td>\n",
       "      <td>-0.124105</td>\n",
       "      <td>-0.065599</td>\n",
       "      <td>0.064626</td>\n",
       "      <td>...</td>\n",
       "      <td>-0.038971</td>\n",
       "      <td>-0.008057</td>\n",
       "      <td>-0.083072</td>\n",
       "      <td>0.099270</td>\n",
       "      <td>0.041938</td>\n",
       "      <td>-0.086426</td>\n",
       "      <td>-0.005185</td>\n",
       "      <td>-0.115913</td>\n",
       "      <td>-0.050022</td>\n",
       "      <td>0.034487</td>\n",
       "    </tr>\n",
       "    <tr>\n",
       "      <th>10668</th>\n",
       "      <td>0.025165</td>\n",
       "      <td>0.019480</td>\n",
       "      <td>-0.020217</td>\n",
       "      <td>-0.008460</td>\n",
       "      <td>-0.084491</td>\n",
       "      <td>-0.008845</td>\n",
       "      <td>-0.001934</td>\n",
       "      <td>-0.066500</td>\n",
       "      <td>0.090885</td>\n",
       "      <td>0.031640</td>\n",
       "      <td>...</td>\n",
       "      <td>0.006160</td>\n",
       "      <td>-0.085712</td>\n",
       "      <td>-0.071659</td>\n",
       "      <td>0.001441</td>\n",
       "      <td>-0.035194</td>\n",
       "      <td>0.029419</td>\n",
       "      <td>-0.038996</td>\n",
       "      <td>0.082989</td>\n",
       "      <td>0.064340</td>\n",
       "      <td>-0.115901</td>\n",
       "    </tr>\n",
       "    <tr>\n",
       "      <th>10669</th>\n",
       "      <td>0.024592</td>\n",
       "      <td>-0.029048</td>\n",
       "      <td>-0.006679</td>\n",
       "      <td>0.045166</td>\n",
       "      <td>-0.058674</td>\n",
       "      <td>-0.062023</td>\n",
       "      <td>0.091507</td>\n",
       "      <td>-0.034357</td>\n",
       "      <td>0.086626</td>\n",
       "      <td>0.017534</td>\n",
       "      <td>...</td>\n",
       "      <td>-0.055442</td>\n",
       "      <td>0.030906</td>\n",
       "      <td>-0.154142</td>\n",
       "      <td>0.036621</td>\n",
       "      <td>0.054471</td>\n",
       "      <td>0.072332</td>\n",
       "      <td>-0.064162</td>\n",
       "      <td>-0.003673</td>\n",
       "      <td>0.049588</td>\n",
       "      <td>-0.023027</td>\n",
       "    </tr>\n",
       "    <tr>\n",
       "      <th>10670</th>\n",
       "      <td>0.038651</td>\n",
       "      <td>-0.030177</td>\n",
       "      <td>-0.020426</td>\n",
       "      <td>0.007365</td>\n",
       "      <td>-0.024495</td>\n",
       "      <td>-0.070211</td>\n",
       "      <td>-0.010091</td>\n",
       "      <td>-0.069904</td>\n",
       "      <td>0.090149</td>\n",
       "      <td>0.032110</td>\n",
       "      <td>...</td>\n",
       "      <td>0.046860</td>\n",
       "      <td>0.071930</td>\n",
       "      <td>-0.077484</td>\n",
       "      <td>0.006317</td>\n",
       "      <td>0.001231</td>\n",
       "      <td>-0.154622</td>\n",
       "      <td>0.030919</td>\n",
       "      <td>-0.033320</td>\n",
       "      <td>0.016866</td>\n",
       "      <td>-0.025523</td>\n",
       "    </tr>\n",
       "    <tr>\n",
       "      <th>10671</th>\n",
       "      <td>0.016013</td>\n",
       "      <td>0.036338</td>\n",
       "      <td>0.055406</td>\n",
       "      <td>0.108287</td>\n",
       "      <td>0.044278</td>\n",
       "      <td>-0.017084</td>\n",
       "      <td>-0.055847</td>\n",
       "      <td>0.068948</td>\n",
       "      <td>0.084484</td>\n",
       "      <td>0.065880</td>\n",
       "      <td>...</td>\n",
       "      <td>0.043734</td>\n",
       "      <td>-0.052646</td>\n",
       "      <td>-0.090088</td>\n",
       "      <td>0.005083</td>\n",
       "      <td>0.048074</td>\n",
       "      <td>-0.127586</td>\n",
       "      <td>-0.020641</td>\n",
       "      <td>-0.062866</td>\n",
       "      <td>0.007690</td>\n",
       "      <td>-0.043546</td>\n",
       "    </tr>\n",
       "  </tbody>\n",
       "</table>\n",
       "<p>10672 rows × 300 columns</p>\n",
       "</div>\n",
       "      <button class=\"colab-df-convert\" onclick=\"convertToInteractive('df-9d9ff66f-9c8c-467f-8325-d6b2c93cb1e0')\"\n",
       "              title=\"Convert this dataframe to an interactive table.\"\n",
       "              style=\"display:none;\">\n",
       "        \n",
       "  <svg xmlns=\"http://www.w3.org/2000/svg\" height=\"24px\"viewBox=\"0 0 24 24\"\n",
       "       width=\"24px\">\n",
       "    <path d=\"M0 0h24v24H0V0z\" fill=\"none\"/>\n",
       "    <path d=\"M18.56 5.44l.94 2.06.94-2.06 2.06-.94-2.06-.94-.94-2.06-.94 2.06-2.06.94zm-11 1L8.5 8.5l.94-2.06 2.06-.94-2.06-.94L8.5 2.5l-.94 2.06-2.06.94zm10 10l.94 2.06.94-2.06 2.06-.94-2.06-.94-.94-2.06-.94 2.06-2.06.94z\"/><path d=\"M17.41 7.96l-1.37-1.37c-.4-.4-.92-.59-1.43-.59-.52 0-1.04.2-1.43.59L10.3 9.45l-7.72 7.72c-.78.78-.78 2.05 0 2.83L4 21.41c.39.39.9.59 1.41.59.51 0 1.02-.2 1.41-.59l7.78-7.78 2.81-2.81c.8-.78.8-2.07 0-2.86zM5.41 20L4 18.59l7.72-7.72 1.47 1.35L5.41 20z\"/>\n",
       "  </svg>\n",
       "      </button>\n",
       "      \n",
       "  <style>\n",
       "    .colab-df-container {\n",
       "      display:flex;\n",
       "      flex-wrap:wrap;\n",
       "      gap: 12px;\n",
       "    }\n",
       "\n",
       "    .colab-df-convert {\n",
       "      background-color: #E8F0FE;\n",
       "      border: none;\n",
       "      border-radius: 50%;\n",
       "      cursor: pointer;\n",
       "      display: none;\n",
       "      fill: #1967D2;\n",
       "      height: 32px;\n",
       "      padding: 0 0 0 0;\n",
       "      width: 32px;\n",
       "    }\n",
       "\n",
       "    .colab-df-convert:hover {\n",
       "      background-color: #E2EBFA;\n",
       "      box-shadow: 0px 1px 2px rgba(60, 64, 67, 0.3), 0px 1px 3px 1px rgba(60, 64, 67, 0.15);\n",
       "      fill: #174EA6;\n",
       "    }\n",
       "\n",
       "    [theme=dark] .colab-df-convert {\n",
       "      background-color: #3B4455;\n",
       "      fill: #D2E3FC;\n",
       "    }\n",
       "\n",
       "    [theme=dark] .colab-df-convert:hover {\n",
       "      background-color: #434B5C;\n",
       "      box-shadow: 0px 1px 3px 1px rgba(0, 0, 0, 0.15);\n",
       "      filter: drop-shadow(0px 1px 2px rgba(0, 0, 0, 0.3));\n",
       "      fill: #FFFFFF;\n",
       "    }\n",
       "  </style>\n",
       "\n",
       "      <script>\n",
       "        const buttonEl =\n",
       "          document.querySelector('#df-9d9ff66f-9c8c-467f-8325-d6b2c93cb1e0 button.colab-df-convert');\n",
       "        buttonEl.style.display =\n",
       "          google.colab.kernel.accessAllowed ? 'block' : 'none';\n",
       "\n",
       "        async function convertToInteractive(key) {\n",
       "          const element = document.querySelector('#df-9d9ff66f-9c8c-467f-8325-d6b2c93cb1e0');\n",
       "          const dataTable =\n",
       "            await google.colab.kernel.invokeFunction('convertToInteractive',\n",
       "                                                     [key], {});\n",
       "          if (!dataTable) return;\n",
       "\n",
       "          const docLinkHtml = 'Like what you see? Visit the ' +\n",
       "            '<a target=\"_blank\" href=https://colab.research.google.com/notebooks/data_table.ipynb>data table notebook</a>'\n",
       "            + ' to learn more about interactive tables.';\n",
       "          element.innerHTML = '';\n",
       "          dataTable['output_type'] = 'display_data';\n",
       "          await google.colab.output.renderOutput(dataTable, element);\n",
       "          const docLink = document.createElement('div');\n",
       "          docLink.innerHTML = docLinkHtml;\n",
       "          element.appendChild(docLink);\n",
       "        }\n",
       "      </script>\n",
       "    </div>\n",
       "  </div>\n",
       "  "
      ],
      "text/plain": [
       "            0         1         2         3         4         5         6    \\\n",
       "0     -0.001160  0.075684 -0.076538 -0.001736 -0.032120  0.037243 -0.133942   \n",
       "1     -0.041653  0.014811 -0.060777  0.146240 -0.027249 -0.021267  0.045803   \n",
       "2     -0.037018 -0.021942 -0.029057  0.035416 -0.068993 -0.056328  0.021484   \n",
       "3      0.008689  0.088937 -0.059867 -0.038618  0.029842 -0.076582 -0.026542   \n",
       "4      0.029218  0.017936 -0.098036  0.007332  0.051943  0.048356 -0.028524   \n",
       "...         ...       ...       ...       ...       ...       ...       ...   \n",
       "10667  0.024197 -0.073629 -0.100749  0.109134  0.088108  0.030654 -0.009406   \n",
       "10668  0.025165  0.019480 -0.020217 -0.008460 -0.084491 -0.008845 -0.001934   \n",
       "10669  0.024592 -0.029048 -0.006679  0.045166 -0.058674 -0.062023  0.091507   \n",
       "10670  0.038651 -0.030177 -0.020426  0.007365 -0.024495 -0.070211 -0.010091   \n",
       "10671  0.016013  0.036338  0.055406  0.108287  0.044278 -0.017084 -0.055847   \n",
       "\n",
       "            7         8         9    ...       290       291       292  \\\n",
       "0      0.097656  0.052307  0.111755  ... -0.012482  0.123207 -0.074127   \n",
       "1     -0.129666  0.276421  0.008762  ...  0.006856 -0.026479 -0.032567   \n",
       "2     -0.004684  0.100342 -0.002899  ... -0.027893 -0.129578 -0.031410   \n",
       "3     -0.008181  0.087660  0.090646  ...  0.067157 -0.057303 -0.011656   \n",
       "4     -0.144832  0.055241  0.026818  ...  0.038692 -0.006616 -0.133838   \n",
       "...         ...       ...       ...  ...       ...       ...       ...   \n",
       "10667 -0.124105 -0.065599  0.064626  ... -0.038971 -0.008057 -0.083072   \n",
       "10668 -0.066500  0.090885  0.031640  ...  0.006160 -0.085712 -0.071659   \n",
       "10669 -0.034357  0.086626  0.017534  ... -0.055442  0.030906 -0.154142   \n",
       "10670 -0.069904  0.090149  0.032110  ...  0.046860  0.071930 -0.077484   \n",
       "10671  0.068948  0.084484  0.065880  ...  0.043734 -0.052646 -0.090088   \n",
       "\n",
       "            293       294       295       296       297       298       299  \n",
       "0      0.006424 -0.055847 -0.018650  0.086784 -0.010864  0.087097 -0.045031  \n",
       "1      0.057406  0.031494 -0.085015 -0.019409 -0.034838 -0.015232 -0.044264  \n",
       "2      0.075546 -0.159256  0.059326 -0.007759 -0.021294  0.103584 -0.004402  \n",
       "3      0.012839  0.060287 -0.026725 -0.028338 -0.017678 -0.008911 -0.032636  \n",
       "4      0.023674 -0.076912 -0.070818 -0.024399  0.007349 -0.006513 -0.048569  \n",
       "...         ...       ...       ...       ...       ...       ...       ...  \n",
       "10667  0.099270  0.041938 -0.086426 -0.005185 -0.115913 -0.050022  0.034487  \n",
       "10668  0.001441 -0.035194  0.029419 -0.038996  0.082989  0.064340 -0.115901  \n",
       "10669  0.036621  0.054471  0.072332 -0.064162 -0.003673  0.049588 -0.023027  \n",
       "10670  0.006317  0.001231 -0.154622  0.030919 -0.033320  0.016866 -0.025523  \n",
       "10671  0.005083  0.048074 -0.127586 -0.020641 -0.062866  0.007690 -0.043546  \n",
       "\n",
       "[10672 rows x 300 columns]"
      ]
     },
     "execution_count": 21,
     "metadata": {},
     "output_type": "execute_result"
    }
   ],
   "source": [
    "train_feature"
   ]
  },
  {
   "cell_type": "code",
   "execution_count": null,
   "metadata": {
    "colab": {
     "base_uri": "https://localhost:8080/"
    },
    "id": "She_ABiqmQN4",
    "outputId": "8d738db1-58d9-4631-febe-fa19676b391f"
   },
   "outputs": [
    {
     "data": {
      "text/plain": [
       "0      False\n",
       "1      False\n",
       "2      False\n",
       "3      False\n",
       "4      False\n",
       "       ...  \n",
       "295    False\n",
       "296    False\n",
       "297    False\n",
       "298    False\n",
       "299    False\n",
       "Length: 300, dtype: bool"
      ]
     },
     "execution_count": 22,
     "metadata": {},
     "output_type": "execute_result"
    }
   ],
   "source": [
    "train_feature.isnull().any()"
   ]
  },
  {
   "cell_type": "code",
   "execution_count": null,
   "metadata": {
    "colab": {
     "base_uri": "https://localhost:8080/"
    },
    "id": "_owdG_s2mQI2",
    "outputId": "07417155-2b0f-4f9f-bbf0-e6d3b805ebab"
   },
   "outputs": [
    {
     "data": {
      "text/plain": [
       "0      False\n",
       "1      False\n",
       "2      False\n",
       "3      False\n",
       "4      False\n",
       "       ...  \n",
       "295    False\n",
       "296    False\n",
       "297    False\n",
       "298    False\n",
       "299    False\n",
       "Length: 300, dtype: bool"
      ]
     },
     "execution_count": 23,
     "metadata": {},
     "output_type": "execute_result"
    }
   ],
   "source": [
    "valid_feature.isnull().any()"
   ]
  },
  {
   "cell_type": "code",
   "execution_count": null,
   "metadata": {
    "colab": {
     "base_uri": "https://localhost:8080/"
    },
    "id": "eQn6HWmsqI8J",
    "outputId": "30c5cf80-300d-42c9-8d6d-1e6f3b9b80d9"
   },
   "outputs": [
    {
     "data": {
      "text/plain": [
       "0      False\n",
       "1      False\n",
       "2      False\n",
       "3      False\n",
       "4      False\n",
       "       ...  \n",
       "295    False\n",
       "296    False\n",
       "297    False\n",
       "298    False\n",
       "299    False\n",
       "Length: 300, dtype: bool"
      ]
     },
     "execution_count": 24,
     "metadata": {},
     "output_type": "execute_result"
    }
   ],
   "source": [
    "test_feature.isnull().any()"
   ]
  },
  {
   "cell_type": "code",
   "execution_count": null,
   "metadata": {
    "id": "aFE7cmfj8ntn"
   },
   "outputs": [],
   "source": []
  },
  {
   "cell_type": "markdown",
   "metadata": {
    "id": "gOxu1vnh0Dtr"
   },
   "source": [
    "## 52. 学習\n",
    "***\n",
    "51で構築した学習データを用いて，ロジスティック回帰モデルを学習せよ．"
   ]
  },
  {
   "cell_type": "markdown",
   "metadata": {
    "id": "NcQF-5v2dOTn"
   },
   "source": [
    "https://scikit-learn.org/stable/modules/generated/sklearn.linear_model.LogisticRegression.html"
   ]
  },
  {
   "cell_type": "code",
   "execution_count": null,
   "metadata": {
    "colab": {
     "base_uri": "https://localhost:8080/",
     "height": 75
    },
    "id": "c94ocEDigNds",
    "outputId": "d1e3a7a6-ea6f-4d0f-d472-318b6e1b9c71"
   },
   "outputs": [
    {
     "data": {
      "text/html": [
       "<style>#sk-container-id-1 {color: black;background-color: white;}#sk-container-id-1 pre{padding: 0;}#sk-container-id-1 div.sk-toggleable {background-color: white;}#sk-container-id-1 label.sk-toggleable__label {cursor: pointer;display: block;width: 100%;margin-bottom: 0;padding: 0.3em;box-sizing: border-box;text-align: center;}#sk-container-id-1 label.sk-toggleable__label-arrow:before {content: \"▸\";float: left;margin-right: 0.25em;color: #696969;}#sk-container-id-1 label.sk-toggleable__label-arrow:hover:before {color: black;}#sk-container-id-1 div.sk-estimator:hover label.sk-toggleable__label-arrow:before {color: black;}#sk-container-id-1 div.sk-toggleable__content {max-height: 0;max-width: 0;overflow: hidden;text-align: left;background-color: #f0f8ff;}#sk-container-id-1 div.sk-toggleable__content pre {margin: 0.2em;color: black;border-radius: 0.25em;background-color: #f0f8ff;}#sk-container-id-1 input.sk-toggleable__control:checked~div.sk-toggleable__content {max-height: 200px;max-width: 100%;overflow: auto;}#sk-container-id-1 input.sk-toggleable__control:checked~label.sk-toggleable__label-arrow:before {content: \"▾\";}#sk-container-id-1 div.sk-estimator input.sk-toggleable__control:checked~label.sk-toggleable__label {background-color: #d4ebff;}#sk-container-id-1 div.sk-label input.sk-toggleable__control:checked~label.sk-toggleable__label {background-color: #d4ebff;}#sk-container-id-1 input.sk-hidden--visually {border: 0;clip: rect(1px 1px 1px 1px);clip: rect(1px, 1px, 1px, 1px);height: 1px;margin: -1px;overflow: hidden;padding: 0;position: absolute;width: 1px;}#sk-container-id-1 div.sk-estimator {font-family: monospace;background-color: #f0f8ff;border: 1px dotted black;border-radius: 0.25em;box-sizing: border-box;margin-bottom: 0.5em;}#sk-container-id-1 div.sk-estimator:hover {background-color: #d4ebff;}#sk-container-id-1 div.sk-parallel-item::after {content: \"\";width: 100%;border-bottom: 1px solid gray;flex-grow: 1;}#sk-container-id-1 div.sk-label:hover label.sk-toggleable__label {background-color: #d4ebff;}#sk-container-id-1 div.sk-serial::before {content: \"\";position: absolute;border-left: 1px solid gray;box-sizing: border-box;top: 0;bottom: 0;left: 50%;z-index: 0;}#sk-container-id-1 div.sk-serial {display: flex;flex-direction: column;align-items: center;background-color: white;padding-right: 0.2em;padding-left: 0.2em;position: relative;}#sk-container-id-1 div.sk-item {position: relative;z-index: 1;}#sk-container-id-1 div.sk-parallel {display: flex;align-items: stretch;justify-content: center;background-color: white;position: relative;}#sk-container-id-1 div.sk-item::before, #sk-container-id-1 div.sk-parallel-item::before {content: \"\";position: absolute;border-left: 1px solid gray;box-sizing: border-box;top: 0;bottom: 0;left: 50%;z-index: -1;}#sk-container-id-1 div.sk-parallel-item {display: flex;flex-direction: column;z-index: 1;position: relative;background-color: white;}#sk-container-id-1 div.sk-parallel-item:first-child::after {align-self: flex-end;width: 50%;}#sk-container-id-1 div.sk-parallel-item:last-child::after {align-self: flex-start;width: 50%;}#sk-container-id-1 div.sk-parallel-item:only-child::after {width: 0;}#sk-container-id-1 div.sk-dashed-wrapped {border: 1px dashed gray;margin: 0 0.4em 0.5em 0.4em;box-sizing: border-box;padding-bottom: 0.4em;background-color: white;}#sk-container-id-1 div.sk-label label {font-family: monospace;font-weight: bold;display: inline-block;line-height: 1.2em;}#sk-container-id-1 div.sk-label-container {text-align: center;}#sk-container-id-1 div.sk-container {/* jupyter's `normalize.less` sets `[hidden] { display: none; }` but bootstrap.min.css set `[hidden] { display: none !important; }` so we also need the `!important` here to be able to override the default hidden behavior on the sphinx rendered scikit-learn.org. See: https://github.com/scikit-learn/scikit-learn/issues/21755 */display: inline-block !important;position: relative;}#sk-container-id-1 div.sk-text-repr-fallback {display: none;}</style><div id=\"sk-container-id-1\" class=\"sk-top-container\"><div class=\"sk-text-repr-fallback\"><pre>LogisticRegression(max_iter=10000, random_state=123)</pre><b>In a Jupyter environment, please rerun this cell to show the HTML representation or trust the notebook. <br />On GitHub, the HTML representation is unable to render, please try loading this page with nbviewer.org.</b></div><div class=\"sk-container\" hidden><div class=\"sk-item\"><div class=\"sk-estimator sk-toggleable\"><input class=\"sk-toggleable__control sk-hidden--visually\" id=\"sk-estimator-id-1\" type=\"checkbox\" checked><label for=\"sk-estimator-id-1\" class=\"sk-toggleable__label sk-toggleable__label-arrow\">LogisticRegression</label><div class=\"sk-toggleable__content\"><pre>LogisticRegression(max_iter=10000, random_state=123)</pre></div></div></div></div></div>"
      ],
      "text/plain": [
       "LogisticRegression(max_iter=10000, random_state=123)"
      ]
     },
     "execution_count": 25,
     "metadata": {},
     "output_type": "execute_result"
    }
   ],
   "source": [
    "from sklearn.linear_model import LogisticRegression\n",
    "\n",
    "# モデルの学習\n",
    "lg = LogisticRegression(random_state=123, max_iter=10000)\n",
    "lg.fit(train_feature, train['CATEGORY'])"
   ]
  },
  {
   "cell_type": "markdown",
   "metadata": {
    "id": "gFBZX7Zf0IRH"
   },
   "source": [
    "## 53. 予測\n",
    "***\n",
    "52で学習したロジスティック回帰モデルを用い，与えられた記事見出しからカテゴリとその予測確率を計算するプログラムを実装せよ．"
   ]
  },
  {
   "cell_type": "code",
   "execution_count": null,
   "metadata": {
    "colab": {
     "base_uri": "https://localhost:8080/"
    },
    "id": "m5capesVwvg_",
    "outputId": "afd0fd82-d674-41c5-9f79-e6af729d93f3"
   },
   "outputs": [
    {
     "name": "stdout",
     "output_type": "stream",
     "text": [
      "[[0.26492237 0.37204378 0.81034388 0.61581121]\n",
      " [0.61979588 0.43623526 0.29820739 0.2916099 ]\n",
      " [0.87883968 0.59128872 0.81326552 0.14089258]\n",
      " [0.71435587 0.79114528 0.69229479 0.21864341]]\n",
      "*****\n",
      "[0.87883968 0.79114528 0.81326552 0.61581121]\n",
      "[0.81034388 0.61979588 0.87883968 0.79114528]\n"
     ]
    }
   ],
   "source": [
    "arr = np.random.rand(4, 4)  # 4 x 4の配列の乱数\n",
    "print(arr)\n",
    "print('*'*5)\n",
    "print(np.amax(arr, axis=0))\n",
    "print(np.amax(arr, axis=1))"
   ]
  },
  {
   "cell_type": "markdown",
   "metadata": {
    "id": "BkzQQWPNxbXc"
   },
   "source": [
    "https://scikit-learn.org/stable/modules/generated/sklearn.linear_model.LogisticRegression.html#sklearn.linear_model.LogisticRegression"
   ]
  },
  {
   "cell_type": "code",
   "execution_count": null,
   "metadata": {
    "id": "WBdVXesnAXID"
   },
   "outputs": [],
   "source": [
    "import numpy as np\n",
    "\n",
    "def score_lg(lg, X):\n",
    "  #print('self.classies_ : ', lg.classes_)\n",
    "  # predict_proba(X) : Probability estimates\n",
    "  proba = lg.predict_proba(X)\n",
    "  # return -> Returns the probability of the sample for each class in the model, where classes are ordered as they are in self.classes_\n",
    "  # [[bの確率、eの確率、tの確率、mの確率], [], ... ,[]]\n",
    "  predict_prob = np.max(proba, axis=1)\n",
    "\n",
    "  # predict(X) : Predict class labels for samples in X\n",
    "  predict_label = lg.predict(X)\n",
    "  return predict_prob, predict_label"
   ]
  },
  {
   "cell_type": "code",
   "execution_count": null,
   "metadata": {
    "colab": {
     "base_uri": "https://localhost:8080/"
    },
    "id": "qs49nBMS1wxr",
    "outputId": "095a8975-cb24-4720-d0f9-9dd8c4aedd32"
   },
   "outputs": [
    {
     "name": "stdout",
     "output_type": "stream",
     "text": [
      "[0.94666298 0.99741999 0.86191971 ... 0.99291744 0.83331999 0.98587369] ['b' 'b' 'b' ... 'b' 'e' 'e']\n"
     ]
    }
   ],
   "source": [
    "train_pred_proba, train_pred_label = score_lg(lg, train_feature)\n",
    "test_pred_proba, test_pred_label = score_lg(lg, test_feature)\n",
    "\n",
    "print(train_pred_proba, train_pred_label)"
   ]
  },
  {
   "cell_type": "markdown",
   "metadata": {
    "id": "orktzDt_yDJh"
   },
   "source": [
    "https://scikit-learn.org/stable/modules/generated/sklearn.metrics.accuracy_score.html\n",
    "\n",
    "正解率を求めてみよう！"
   ]
  },
  {
   "cell_type": "code",
   "execution_count": null,
   "metadata": {
    "colab": {
     "base_uri": "https://localhost:8080/"
    },
    "id": "VHUzyVEY2Mj7",
    "outputId": "0afd2915-41df-4750-d651-c7bc4ef99676"
   },
   "outputs": [
    {
     "name": "stdout",
     "output_type": "stream",
     "text": [
      "正解率（学習データ）：0.905\n",
      "正解率（評価データ）：0.900\n"
     ]
    }
   ],
   "source": [
    "from sklearn.metrics import accuracy_score\n",
    "\n",
    "# sklearn.metrics.accuracy_score(y_true, y_pred, *, normalize=True, sample_weight=None)\n",
    "train_accuracy = accuracy_score(train['CATEGORY'], train_pred_label)\n",
    "print(f'正解率（学習データ）：{train_accuracy:.3f}')\n",
    "\n",
    "test_accuracy = accuracy_score(test['CATEGORY'], test_pred_label)\n",
    "print(f'正解率（評価データ）：{test_accuracy:.3f}')"
   ]
  },
  {
   "cell_type": "markdown",
   "metadata": {
    "id": "FuwTLmoR15yR"
   },
   "source": [
    "## 55. 混同行列の作成\n",
    "***\n",
    "52で学習したロジスティック回帰モデルの混同行列（confusion matrix）を，学習データおよび評価データ上で作成せよ．"
   ]
  },
  {
   "cell_type": "markdown",
   "metadata": {
    "id": "DuRCf3Ge1l-z"
   },
   "source": [
    "https://scikit-learn.org/stable/modules/generated/sklearn.metrics.confusion_matrix.html#sklearn.metrics.confusion_matrix"
   ]
  },
  {
   "cell_type": "markdown",
   "metadata": {
    "id": "x2wPaf6O1sOn"
   },
   "source": [
    "まずは学習データの混合行列を求めて、ヒートマップで表示してみよう！"
   ]
  },
  {
   "cell_type": "code",
   "execution_count": null,
   "metadata": {
    "colab": {
     "base_uri": "https://localhost:8080/",
     "height": 499
    },
    "id": "mA8Spcee7IuP",
    "outputId": "59dffb47-8c75-44fa-c6d4-0c51bac2b3f3"
   },
   "outputs": [
    {
     "name": "stdout",
     "output_type": "stream",
     "text": [
      "[[4227  120   30  125]\n",
      " [  69 4100   16   38]\n",
      " [  92   85  530   21]\n",
      " [ 283  124   15  797]]\n"
     ]
    },
    {
     "data": {
      "image/png": "[encoded data removed]",
      "text/plain": [
       "<Figure size 640x480 with 2 Axes>"
      ]
     },
     "metadata": {},
     "output_type": "display_data"
    }
   ],
   "source": [
    "from sklearn.metrics import confusion_matrix\n",
    "import seaborn as sns\n",
    "import matplotlib.pyplot as plt\n",
    "\n",
    "# 学習データ\n",
    "# sklearn.metrics.confusion_matrix(y_true, y_pred, *, labels=None, sample_weight=None, normalize=None\n",
    "train_cm = confusion_matrix(train['CATEGORY'], train_pred_label)\n",
    "print(train_cm)\n",
    "sns.heatmap(train_cm, annot=True, cmap='Blues')\n",
    "plt.show()"
   ]
  },
  {
   "cell_type": "code",
   "execution_count": null,
   "metadata": {
    "colab": {
     "base_uri": "https://localhost:8080/",
     "height": 499
    },
    "id": "2w1ufRpb8BYh",
    "outputId": "6465c43b-5b43-4f4a-fbc3-da72ce41617a"
   },
   "outputs": [
    {
     "name": "stdout",
     "output_type": "stream",
     "text": [
      "[[530  15   2  16]\n",
      " [ 13 511   0   4]\n",
      " [  9  15  63   4]\n",
      " [ 34  20   1  97]]\n"
     ]
    },
    {
     "data": {
      "image/png": "[encoded data removed]",
      "text/plain": [
       "<Figure size 640x480 with 2 Axes>"
      ]
     },
     "metadata": {},
     "output_type": "display_data"
    }
   ],
   "source": [
    "# 評価データ（test data）\n",
    "test_cm = confusion_matrix(test['CATEGORY'], test_pred_label)\n",
    "print(test_cm)\n",
    "sns.heatmap(test_cm, annot=True, cmap='Blues')\n",
    "plt.show()"
   ]
  },
  {
   "cell_type": "markdown",
   "metadata": {
    "id": "dsvqBAg22CrH"
   },
   "source": [
    "## 56. 適合率，再現率，F1スコアの計測\n",
    "***\n",
    "52で学習したロジスティック回帰モデルの適合率，再現率，F1スコアを，評価データ上で計測せよ．カテゴリごとに適合率，再現率，F1スコアを求め，カテゴリごとの性能をマイクロ平均（micro-average）とマクロ平均（macro-average）で統合せよ．"
   ]
  },
  {
   "cell_type": "code",
   "execution_count": null,
   "metadata": {
    "id": "PBwO0jx_4OnN"
   },
   "outputs": [],
   "source": [
    "from sklearn.metrics import precision_score, recall_score, f1_score\n",
    "\n",
    "def calculate_scores(y_true, y_pred, ave=None):\n",
    "  # 適合率\n",
    "  precision = precision_score(y_true, y_pred, average=ave)\n",
    "  # 再現率\n",
    "  recall = recall_score(y_true, y_pred, average=ave)\n",
    "  # F1スコア\n",
    "  f1 = f1_score(y_true, y_pred, average=ave)\n",
    "\n",
    "  print(\"適合率 ： {}\\n再現率 ： {}\\nF１スコア ： {}\".format(precision, recall, f1))"
   ]
  },
  {
   "cell_type": "code",
   "execution_count": null,
   "metadata": {
    "colab": {
     "base_uri": "https://localhost:8080/"
    },
    "id": "a7a9ikjt5mYN",
    "outputId": "28c57948-15b1-4296-93fe-33e75cb93838"
   },
   "outputs": [
    {
     "data": {
      "text/plain": [
       "array(['b', 'e', 'm', 't'], dtype=object)"
      ]
     },
     "execution_count": 33,
     "metadata": {},
     "output_type": "execute_result"
    }
   ],
   "source": [
    "lg.classes_"
   ]
  },
  {
   "cell_type": "code",
   "execution_count": null,
   "metadata": {
    "colab": {
     "base_uri": "https://localhost:8080/"
    },
    "id": "_9NjQAnP8Ply",
    "outputId": "35011c0b-e1ed-46e9-8ded-b1cdade30713"
   },
   "outputs": [
    {
     "name": "stdout",
     "output_type": "stream",
     "text": [
      "適合率 ： [0.90443686 0.91087344 0.95454545 0.80165289]\n",
      "再現率 ： [0.94138544 0.96780303 0.69230769 0.63815789]\n",
      "F１スコア ： [0.92254134 0.93847567 0.80254777 0.71062271]\n"
     ]
    }
   ],
   "source": [
    "# カテゴリごと\n",
    "calculate_scores(test['CATEGORY'], test_pred_label)"
   ]
  },
  {
   "cell_type": "code",
   "execution_count": null,
   "metadata": {
    "colab": {
     "base_uri": "https://localhost:8080/"
    },
    "id": "YWLIC8Z78THA",
    "outputId": "3d01185c-6fd1-43ed-88a9-a1cb184c1357"
   },
   "outputs": [
    {
     "name": "stdout",
     "output_type": "stream",
     "text": [
      "適合率 ： 0.8928771618652256\n",
      "再現率 ： 0.8099135131290759\n",
      "F１スコア ： 0.8435468718419125\n"
     ]
    }
   ],
   "source": [
    "# マクロ平均\n",
    "calculate_scores(test['CATEGORY'], test_pred_label, \"macro\")"
   ]
  },
  {
   "cell_type": "code",
   "execution_count": null,
   "metadata": {
    "colab": {
     "base_uri": "https://localhost:8080/"
    },
    "id": "hENDZCLO8WYo",
    "outputId": "9b5eebd1-82a1-4dd5-ef4f-668426fa113c"
   },
   "outputs": [
    {
     "name": "stdout",
     "output_type": "stream",
     "text": [
      "適合率 ： 0.9002998500749625\n",
      "再現率 ： 0.9002998500749625\n",
      "F１スコア ： 0.9002998500749625\n"
     ]
    }
   ],
   "source": [
    "# マイクロ平均\n",
    "calculate_scores(test['CATEGORY'], test_pred_label, \"micro\")"
   ]
  },
  {
   "cell_type": "code",
   "execution_count": null,
   "metadata": {
    "id": "JgiEoDnj-X58"
   },
   "outputs": [],
   "source": []
  },
  {
   "cell_type": "markdown",
   "metadata": {
    "id": "QVr8cs8B2I7l"
   },
   "source": [
    "## 57. 特徴量の重みの確認\n",
    "***\n",
    "52で学習したロジスティック回帰モデルの中で，重みの高い特徴量トップ10と，重みの低い特徴量トップ10を確認せよ．"
   ]
  },
  {
   "cell_type": "markdown",
   "metadata": {
    "id": "CjHcfpxKnACh"
   },
   "source": [
    "coef_ndarray of shape (1, n_features) or (n_classes, n_features)\n",
    "Coefficient of the features in the decision function.\n",
    "\n",
    "coef_ is of shape (1, n_features) when the given problem is binary. In particular, when multi_class='multinomial', coef_ corresponds to outcome 1 (True) and -coef_ corresponds to outcome 0 (False)."
   ]
  },
  {
   "cell_type": "code",
   "execution_count": null,
   "metadata": {
    "colab": {
     "base_uri": "https://localhost:8080/"
    },
    "id": "BJgsGh8Umy1Z",
    "outputId": "a750cdb1-4456-4df0-bc5f-cc58ca889e03"
   },
   "outputs": [
    {
     "data": {
      "text/plain": [
       "(4, 300)"
      ]
     },
     "execution_count": 37,
     "metadata": {},
     "output_type": "execute_result"
    }
   ],
   "source": [
    "lg.coef_.shape"
   ]
  },
  {
   "cell_type": "code",
   "execution_count": null,
   "metadata": {
    "colab": {
     "base_uri": "https://localhost:8080/"
    },
    "id": "iX-x6EpUnnu6",
    "outputId": "2670af90-7631-425f-ae24-f1958d211172"
   },
   "outputs": [
    {
     "name": "stdout",
     "output_type": "stream",
     "text": [
      "[1 2 3 6 8 9]\n",
      "[4 5 2 1 0 3]\n"
     ]
    }
   ],
   "source": [
    "test57 = np.array([8,6,3,9,1,2])\n",
    "test57_sort = np.sort(test57) # 昇順にソートされた ndarray が返ってくる\n",
    "print(test57_sort)\n",
    "\n",
    "test57_argsort = np.argsort(test57) # index を返す\n",
    "print(test57_argsort)"
   ]
  },
  {
   "cell_type": "code",
   "execution_count": null,
   "metadata": {
    "colab": {
     "base_uri": "https://localhost:8080/",
     "height": 675
    },
    "id": "RAukPXL9QM7U",
    "outputId": "85e0417b-7c54-472c-a03b-cabb79458b15"
   },
   "outputs": [
    {
     "name": "stdout",
     "output_type": "stream",
     "text": [
      "【カテゴリ b 】\n"
     ]
    },
    {
     "data": {
      "text/html": [
       "\n",
       "  <div id=\"df-4e467630-eab9-455c-a501-82939b2fbd10\">\n",
       "    <div class=\"colab-df-container\">\n",
       "      <div>\n",
       "<style scoped>\n",
       "    .dataframe tbody tr th:only-of-type {\n",
       "        vertical-align: middle;\n",
       "    }\n",
       "\n",
       "    .dataframe tbody tr th {\n",
       "        vertical-align: top;\n",
       "    }\n",
       "\n",
       "    .dataframe thead th {\n",
       "        text-align: right;\n",
       "    }\n",
       "</style>\n",
       "<table border=\"1\" class=\"dataframe\">\n",
       "  <thead>\n",
       "    <tr style=\"text-align: right;\">\n",
       "      <th></th>\n",
       "      <th>1</th>\n",
       "      <th>2</th>\n",
       "      <th>3</th>\n",
       "      <th>4</th>\n",
       "      <th>5</th>\n",
       "      <th>6</th>\n",
       "      <th>7</th>\n",
       "      <th>8</th>\n",
       "      <th>9</th>\n",
       "      <th>10</th>\n",
       "    </tr>\n",
       "  </thead>\n",
       "  <tbody>\n",
       "    <tr>\n",
       "      <th>重要度上位</th>\n",
       "      <td>287</td>\n",
       "      <td>187</td>\n",
       "      <td>213</td>\n",
       "      <td>42</td>\n",
       "      <td>25</td>\n",
       "      <td>84</td>\n",
       "      <td>155</td>\n",
       "      <td>81</td>\n",
       "      <td>93</td>\n",
       "      <td>258</td>\n",
       "    </tr>\n",
       "    <tr>\n",
       "      <th>重要度下位</th>\n",
       "      <td>222</td>\n",
       "      <td>196</td>\n",
       "      <td>267</td>\n",
       "      <td>170</td>\n",
       "      <td>94</td>\n",
       "      <td>44</td>\n",
       "      <td>133</td>\n",
       "      <td>145</td>\n",
       "      <td>200</td>\n",
       "      <td>290</td>\n",
       "    </tr>\n",
       "  </tbody>\n",
       "</table>\n",
       "</div>\n",
       "      <button class=\"colab-df-convert\" onclick=\"convertToInteractive('df-4e467630-eab9-455c-a501-82939b2fbd10')\"\n",
       "              title=\"Convert this dataframe to an interactive table.\"\n",
       "              style=\"display:none;\">\n",
       "        \n",
       "  <svg xmlns=\"http://www.w3.org/2000/svg\" height=\"24px\"viewBox=\"0 0 24 24\"\n",
       "       width=\"24px\">\n",
       "    <path d=\"M0 0h24v24H0V0z\" fill=\"none\"/>\n",
       "    <path d=\"M18.56 5.44l.94 2.06.94-2.06 2.06-.94-2.06-.94-.94-2.06-.94 2.06-2.06.94zm-11 1L8.5 8.5l.94-2.06 2.06-.94-2.06-.94L8.5 2.5l-.94 2.06-2.06.94zm10 10l.94 2.06.94-2.06 2.06-.94-2.06-.94-.94-2.06-.94 2.06-2.06.94z\"/><path d=\"M17.41 7.96l-1.37-1.37c-.4-.4-.92-.59-1.43-.59-.52 0-1.04.2-1.43.59L10.3 9.45l-7.72 7.72c-.78.78-.78 2.05 0 2.83L4 21.41c.39.39.9.59 1.41.59.51 0 1.02-.2 1.41-.59l7.78-7.78 2.81-2.81c.8-.78.8-2.07 0-2.86zM5.41 20L4 18.59l7.72-7.72 1.47 1.35L5.41 20z\"/>\n",
       "  </svg>\n",
       "      </button>\n",
       "      \n",
       "  <style>\n",
       "    .colab-df-container {\n",
       "      display:flex;\n",
       "      flex-wrap:wrap;\n",
       "      gap: 12px;\n",
       "    }\n",
       "\n",
       "    .colab-df-convert {\n",
       "      background-color: #E8F0FE;\n",
       "      border: none;\n",
       "      border-radius: 50%;\n",
       "      cursor: pointer;\n",
       "      display: none;\n",
       "      fill: #1967D2;\n",
       "      height: 32px;\n",
       "      padding: 0 0 0 0;\n",
       "      width: 32px;\n",
       "    }\n",
       "\n",
       "    .colab-df-convert:hover {\n",
       "      background-color: #E2EBFA;\n",
       "      box-shadow: 0px 1px 2px rgba(60, 64, 67, 0.3), 0px 1px 3px 1px rgba(60, 64, 67, 0.15);\n",
       "      fill: #174EA6;\n",
       "    }\n",
       "\n",
       "    [theme=dark] .colab-df-convert {\n",
       "      background-color: #3B4455;\n",
       "      fill: #D2E3FC;\n",
       "    }\n",
       "\n",
       "    [theme=dark] .colab-df-convert:hover {\n",
       "      background-color: #434B5C;\n",
       "      box-shadow: 0px 1px 3px 1px rgba(0, 0, 0, 0.15);\n",
       "      filter: drop-shadow(0px 1px 2px rgba(0, 0, 0, 0.3));\n",
       "      fill: #FFFFFF;\n",
       "    }\n",
       "  </style>\n",
       "\n",
       "      <script>\n",
       "        const buttonEl =\n",
       "          document.querySelector('#df-4e467630-eab9-455c-a501-82939b2fbd10 button.colab-df-convert');\n",
       "        buttonEl.style.display =\n",
       "          google.colab.kernel.accessAllowed ? 'block' : 'none';\n",
       "\n",
       "        async function convertToInteractive(key) {\n",
       "          const element = document.querySelector('#df-4e467630-eab9-455c-a501-82939b2fbd10');\n",
       "          const dataTable =\n",
       "            await google.colab.kernel.invokeFunction('convertToInteractive',\n",
       "                                                     [key], {});\n",
       "          if (!dataTable) return;\n",
       "\n",
       "          const docLinkHtml = 'Like what you see? Visit the ' +\n",
       "            '<a target=\"_blank\" href=https://colab.research.google.com/notebooks/data_table.ipynb>data table notebook</a>'\n",
       "            + ' to learn more about interactive tables.';\n",
       "          element.innerHTML = '';\n",
       "          dataTable['output_type'] = 'display_data';\n",
       "          await google.colab.output.renderOutput(dataTable, element);\n",
       "          const docLink = document.createElement('div');\n",
       "          docLink.innerHTML = docLinkHtml;\n",
       "          element.appendChild(docLink);\n",
       "        }\n",
       "      </script>\n",
       "    </div>\n",
       "  </div>\n",
       "  "
      ],
      "text/plain": [
       "        1    2    3    4   5   6    7    8    9    10\n",
       "重要度上位  287  187  213   42  25  84  155   81   93  258\n",
       "重要度下位  222  196  267  170  94  44  133  145  200  290"
      ]
     },
     "metadata": {},
     "output_type": "display_data"
    },
    {
     "name": "stdout",
     "output_type": "stream",
     "text": [
      "\n",
      "\n",
      "\n",
      "【カテゴリ e 】\n"
     ]
    },
    {
     "data": {
      "text/html": [
       "\n",
       "  <div id=\"df-40c03be2-6282-49eb-83e4-07026e6cd2e6\">\n",
       "    <div class=\"colab-df-container\">\n",
       "      <div>\n",
       "<style scoped>\n",
       "    .dataframe tbody tr th:only-of-type {\n",
       "        vertical-align: middle;\n",
       "    }\n",
       "\n",
       "    .dataframe tbody tr th {\n",
       "        vertical-align: top;\n",
       "    }\n",
       "\n",
       "    .dataframe thead th {\n",
       "        text-align: right;\n",
       "    }\n",
       "</style>\n",
       "<table border=\"1\" class=\"dataframe\">\n",
       "  <thead>\n",
       "    <tr style=\"text-align: right;\">\n",
       "      <th></th>\n",
       "      <th>1</th>\n",
       "      <th>2</th>\n",
       "      <th>3</th>\n",
       "      <th>4</th>\n",
       "      <th>5</th>\n",
       "      <th>6</th>\n",
       "      <th>7</th>\n",
       "      <th>8</th>\n",
       "      <th>9</th>\n",
       "      <th>10</th>\n",
       "    </tr>\n",
       "  </thead>\n",
       "  <tbody>\n",
       "    <tr>\n",
       "      <th>重要度上位</th>\n",
       "      <td>101</td>\n",
       "      <td>133</td>\n",
       "      <td>207</td>\n",
       "      <td>204</td>\n",
       "      <td>209</td>\n",
       "      <td>242</td>\n",
       "      <td>127</td>\n",
       "      <td>250</td>\n",
       "      <td>70</td>\n",
       "      <td>234</td>\n",
       "    </tr>\n",
       "    <tr>\n",
       "      <th>重要度下位</th>\n",
       "      <td>98</td>\n",
       "      <td>260</td>\n",
       "      <td>58</td>\n",
       "      <td>83</td>\n",
       "      <td>7</td>\n",
       "      <td>213</td>\n",
       "      <td>103</td>\n",
       "      <td>77</td>\n",
       "      <td>139</td>\n",
       "      <td>271</td>\n",
       "    </tr>\n",
       "  </tbody>\n",
       "</table>\n",
       "</div>\n",
       "      <button class=\"colab-df-convert\" onclick=\"convertToInteractive('df-40c03be2-6282-49eb-83e4-07026e6cd2e6')\"\n",
       "              title=\"Convert this dataframe to an interactive table.\"\n",
       "              style=\"display:none;\">\n",
       "        \n",
       "  <svg xmlns=\"http://www.w3.org/2000/svg\" height=\"24px\"viewBox=\"0 0 24 24\"\n",
       "       width=\"24px\">\n",
       "    <path d=\"M0 0h24v24H0V0z\" fill=\"none\"/>\n",
       "    <path d=\"M18.56 5.44l.94 2.06.94-2.06 2.06-.94-2.06-.94-.94-2.06-.94 2.06-2.06.94zm-11 1L8.5 8.5l.94-2.06 2.06-.94-2.06-.94L8.5 2.5l-.94 2.06-2.06.94zm10 10l.94 2.06.94-2.06 2.06-.94-2.06-.94-.94-2.06-.94 2.06-2.06.94z\"/><path d=\"M17.41 7.96l-1.37-1.37c-.4-.4-.92-.59-1.43-.59-.52 0-1.04.2-1.43.59L10.3 9.45l-7.72 7.72c-.78.78-.78 2.05 0 2.83L4 21.41c.39.39.9.59 1.41.59.51 0 1.02-.2 1.41-.59l7.78-7.78 2.81-2.81c.8-.78.8-2.07 0-2.86zM5.41 20L4 18.59l7.72-7.72 1.47 1.35L5.41 20z\"/>\n",
       "  </svg>\n",
       "      </button>\n",
       "      \n",
       "  <style>\n",
       "    .colab-df-container {\n",
       "      display:flex;\n",
       "      flex-wrap:wrap;\n",
       "      gap: 12px;\n",
       "    }\n",
       "\n",
       "    .colab-df-convert {\n",
       "      background-color: #E8F0FE;\n",
       "      border: none;\n",
       "      border-radius: 50%;\n",
       "      cursor: pointer;\n",
       "      display: none;\n",
       "      fill: #1967D2;\n",
       "      height: 32px;\n",
       "      padding: 0 0 0 0;\n",
       "      width: 32px;\n",
       "    }\n",
       "\n",
       "    .colab-df-convert:hover {\n",
       "      background-color: #E2EBFA;\n",
       "      box-shadow: 0px 1px 2px rgba(60, 64, 67, 0.3), 0px 1px 3px 1px rgba(60, 64, 67, 0.15);\n",
       "      fill: #174EA6;\n",
       "    }\n",
       "\n",
       "    [theme=dark] .colab-df-convert {\n",
       "      background-color: #3B4455;\n",
       "      fill: #D2E3FC;\n",
       "    }\n",
       "\n",
       "    [theme=dark] .colab-df-convert:hover {\n",
       "      background-color: #434B5C;\n",
       "      box-shadow: 0px 1px 3px 1px rgba(0, 0, 0, 0.15);\n",
       "      filter: drop-shadow(0px 1px 2px rgba(0, 0, 0, 0.3));\n",
       "      fill: #FFFFFF;\n",
       "    }\n",
       "  </style>\n",
       "\n",
       "      <script>\n",
       "        const buttonEl =\n",
       "          document.querySelector('#df-40c03be2-6282-49eb-83e4-07026e6cd2e6 button.colab-df-convert');\n",
       "        buttonEl.style.display =\n",
       "          google.colab.kernel.accessAllowed ? 'block' : 'none';\n",
       "\n",
       "        async function convertToInteractive(key) {\n",
       "          const element = document.querySelector('#df-40c03be2-6282-49eb-83e4-07026e6cd2e6');\n",
       "          const dataTable =\n",
       "            await google.colab.kernel.invokeFunction('convertToInteractive',\n",
       "                                                     [key], {});\n",
       "          if (!dataTable) return;\n",
       "\n",
       "          const docLinkHtml = 'Like what you see? Visit the ' +\n",
       "            '<a target=\"_blank\" href=https://colab.research.google.com/notebooks/data_table.ipynb>data table notebook</a>'\n",
       "            + ' to learn more about interactive tables.';\n",
       "          element.innerHTML = '';\n",
       "          dataTable['output_type'] = 'display_data';\n",
       "          await google.colab.output.renderOutput(dataTable, element);\n",
       "          const docLink = document.createElement('div');\n",
       "          docLink.innerHTML = docLinkHtml;\n",
       "          element.appendChild(docLink);\n",
       "        }\n",
       "      </script>\n",
       "    </div>\n",
       "  </div>\n",
       "  "
      ],
      "text/plain": [
       "        1    2    3    4    5    6    7    8    9    10\n",
       "重要度上位  101  133  207  204  209  242  127  250   70  234\n",
       "重要度下位   98  260   58   83    7  213  103   77  139  271"
      ]
     },
     "metadata": {},
     "output_type": "display_data"
    },
    {
     "name": "stdout",
     "output_type": "stream",
     "text": [
      "\n",
      "\n",
      "\n",
      "【カテゴリ m 】\n"
     ]
    },
    {
     "data": {
      "text/html": [
       "\n",
       "  <div id=\"df-7bbaa546-5bbb-461a-b0fb-6a4b00c74808\">\n",
       "    <div class=\"colab-df-container\">\n",
       "      <div>\n",
       "<style scoped>\n",
       "    .dataframe tbody tr th:only-of-type {\n",
       "        vertical-align: middle;\n",
       "    }\n",
       "\n",
       "    .dataframe tbody tr th {\n",
       "        vertical-align: top;\n",
       "    }\n",
       "\n",
       "    .dataframe thead th {\n",
       "        text-align: right;\n",
       "    }\n",
       "</style>\n",
       "<table border=\"1\" class=\"dataframe\">\n",
       "  <thead>\n",
       "    <tr style=\"text-align: right;\">\n",
       "      <th></th>\n",
       "      <th>1</th>\n",
       "      <th>2</th>\n",
       "      <th>3</th>\n",
       "      <th>4</th>\n",
       "      <th>5</th>\n",
       "      <th>6</th>\n",
       "      <th>7</th>\n",
       "      <th>8</th>\n",
       "      <th>9</th>\n",
       "      <th>10</th>\n",
       "    </tr>\n",
       "  </thead>\n",
       "  <tbody>\n",
       "    <tr>\n",
       "      <th>重要度上位</th>\n",
       "      <td>17</td>\n",
       "      <td>237</td>\n",
       "      <td>67</td>\n",
       "      <td>59</td>\n",
       "      <td>79</td>\n",
       "      <td>96</td>\n",
       "      <td>189</td>\n",
       "      <td>23</td>\n",
       "      <td>62</td>\n",
       "      <td>139</td>\n",
       "    </tr>\n",
       "    <tr>\n",
       "      <th>重要度下位</th>\n",
       "      <td>127</td>\n",
       "      <td>234</td>\n",
       "      <td>8</td>\n",
       "      <td>11</td>\n",
       "      <td>241</td>\n",
       "      <td>235</td>\n",
       "      <td>25</td>\n",
       "      <td>42</td>\n",
       "      <td>251</td>\n",
       "      <td>268</td>\n",
       "    </tr>\n",
       "  </tbody>\n",
       "</table>\n",
       "</div>\n",
       "      <button class=\"colab-df-convert\" onclick=\"convertToInteractive('df-7bbaa546-5bbb-461a-b0fb-6a4b00c74808')\"\n",
       "              title=\"Convert this dataframe to an interactive table.\"\n",
       "              style=\"display:none;\">\n",
       "        \n",
       "  <svg xmlns=\"http://www.w3.org/2000/svg\" height=\"24px\"viewBox=\"0 0 24 24\"\n",
       "       width=\"24px\">\n",
       "    <path d=\"M0 0h24v24H0V0z\" fill=\"none\"/>\n",
       "    <path d=\"M18.56 5.44l.94 2.06.94-2.06 2.06-.94-2.06-.94-.94-2.06-.94 2.06-2.06.94zm-11 1L8.5 8.5l.94-2.06 2.06-.94-2.06-.94L8.5 2.5l-.94 2.06-2.06.94zm10 10l.94 2.06.94-2.06 2.06-.94-2.06-.94-.94-2.06-.94 2.06-2.06.94z\"/><path d=\"M17.41 7.96l-1.37-1.37c-.4-.4-.92-.59-1.43-.59-.52 0-1.04.2-1.43.59L10.3 9.45l-7.72 7.72c-.78.78-.78 2.05 0 2.83L4 21.41c.39.39.9.59 1.41.59.51 0 1.02-.2 1.41-.59l7.78-7.78 2.81-2.81c.8-.78.8-2.07 0-2.86zM5.41 20L4 18.59l7.72-7.72 1.47 1.35L5.41 20z\"/>\n",
       "  </svg>\n",
       "      </button>\n",
       "      \n",
       "  <style>\n",
       "    .colab-df-container {\n",
       "      display:flex;\n",
       "      flex-wrap:wrap;\n",
       "      gap: 12px;\n",
       "    }\n",
       "\n",
       "    .colab-df-convert {\n",
       "      background-color: #E8F0FE;\n",
       "      border: none;\n",
       "      border-radius: 50%;\n",
       "      cursor: pointer;\n",
       "      display: none;\n",
       "      fill: #1967D2;\n",
       "      height: 32px;\n",
       "      padding: 0 0 0 0;\n",
       "      width: 32px;\n",
       "    }\n",
       "\n",
       "    .colab-df-convert:hover {\n",
       "      background-color: #E2EBFA;\n",
       "      box-shadow: 0px 1px 2px rgba(60, 64, 67, 0.3), 0px 1px 3px 1px rgba(60, 64, 67, 0.15);\n",
       "      fill: #174EA6;\n",
       "    }\n",
       "\n",
       "    [theme=dark] .colab-df-convert {\n",
       "      background-color: #3B4455;\n",
       "      fill: #D2E3FC;\n",
       "    }\n",
       "\n",
       "    [theme=dark] .colab-df-convert:hover {\n",
       "      background-color: #434B5C;\n",
       "      box-shadow: 0px 1px 3px 1px rgba(0, 0, 0, 0.15);\n",
       "      filter: drop-shadow(0px 1px 2px rgba(0, 0, 0, 0.3));\n",
       "      fill: #FFFFFF;\n",
       "    }\n",
       "  </style>\n",
       "\n",
       "      <script>\n",
       "        const buttonEl =\n",
       "          document.querySelector('#df-7bbaa546-5bbb-461a-b0fb-6a4b00c74808 button.colab-df-convert');\n",
       "        buttonEl.style.display =\n",
       "          google.colab.kernel.accessAllowed ? 'block' : 'none';\n",
       "\n",
       "        async function convertToInteractive(key) {\n",
       "          const element = document.querySelector('#df-7bbaa546-5bbb-461a-b0fb-6a4b00c74808');\n",
       "          const dataTable =\n",
       "            await google.colab.kernel.invokeFunction('convertToInteractive',\n",
       "                                                     [key], {});\n",
       "          if (!dataTable) return;\n",
       "\n",
       "          const docLinkHtml = 'Like what you see? Visit the ' +\n",
       "            '<a target=\"_blank\" href=https://colab.research.google.com/notebooks/data_table.ipynb>data table notebook</a>'\n",
       "            + ' to learn more about interactive tables.';\n",
       "          element.innerHTML = '';\n",
       "          dataTable['output_type'] = 'display_data';\n",
       "          await google.colab.output.renderOutput(dataTable, element);\n",
       "          const docLink = document.createElement('div');\n",
       "          docLink.innerHTML = docLinkHtml;\n",
       "          element.appendChild(docLink);\n",
       "        }\n",
       "      </script>\n",
       "    </div>\n",
       "  </div>\n",
       "  "
      ],
      "text/plain": [
       "        1    2   3   4    5    6    7   8    9    10\n",
       "重要度上位   17  237  67  59   79   96  189  23   62  139\n",
       "重要度下位  127  234   8  11  241  235   25  42  251  268"
      ]
     },
     "metadata": {},
     "output_type": "display_data"
    },
    {
     "name": "stdout",
     "output_type": "stream",
     "text": [
      "\n",
      "\n",
      "\n",
      "【カテゴリ t 】\n"
     ]
    },
    {
     "data": {
      "text/html": [
       "\n",
       "  <div id=\"df-fee826c6-4111-4c41-a4e3-1ccaebb652d9\">\n",
       "    <div class=\"colab-df-container\">\n",
       "      <div>\n",
       "<style scoped>\n",
       "    .dataframe tbody tr th:only-of-type {\n",
       "        vertical-align: middle;\n",
       "    }\n",
       "\n",
       "    .dataframe tbody tr th {\n",
       "        vertical-align: top;\n",
       "    }\n",
       "\n",
       "    .dataframe thead th {\n",
       "        text-align: right;\n",
       "    }\n",
       "</style>\n",
       "<table border=\"1\" class=\"dataframe\">\n",
       "  <thead>\n",
       "    <tr style=\"text-align: right;\">\n",
       "      <th></th>\n",
       "      <th>1</th>\n",
       "      <th>2</th>\n",
       "      <th>3</th>\n",
       "      <th>4</th>\n",
       "      <th>5</th>\n",
       "      <th>6</th>\n",
       "      <th>7</th>\n",
       "      <th>8</th>\n",
       "      <th>9</th>\n",
       "      <th>10</th>\n",
       "    </tr>\n",
       "  </thead>\n",
       "  <tbody>\n",
       "    <tr>\n",
       "      <th>重要度上位</th>\n",
       "      <td>98</td>\n",
       "      <td>251</td>\n",
       "      <td>80</td>\n",
       "      <td>205</td>\n",
       "      <td>107</td>\n",
       "      <td>89</td>\n",
       "      <td>86</td>\n",
       "      <td>21</td>\n",
       "      <td>260</td>\n",
       "      <td>28</td>\n",
       "    </tr>\n",
       "    <tr>\n",
       "      <th>重要度下位</th>\n",
       "      <td>261</td>\n",
       "      <td>152</td>\n",
       "      <td>255</td>\n",
       "      <td>64</td>\n",
       "      <td>250</td>\n",
       "      <td>101</td>\n",
       "      <td>73</td>\n",
       "      <td>79</td>\n",
       "      <td>122</td>\n",
       "      <td>4</td>\n",
       "    </tr>\n",
       "  </tbody>\n",
       "</table>\n",
       "</div>\n",
       "      <button class=\"colab-df-convert\" onclick=\"convertToInteractive('df-fee826c6-4111-4c41-a4e3-1ccaebb652d9')\"\n",
       "              title=\"Convert this dataframe to an interactive table.\"\n",
       "              style=\"display:none;\">\n",
       "        \n",
       "  <svg xmlns=\"http://www.w3.org/2000/svg\" height=\"24px\"viewBox=\"0 0 24 24\"\n",
       "       width=\"24px\">\n",
       "    <path d=\"M0 0h24v24H0V0z\" fill=\"none\"/>\n",
       "    <path d=\"M18.56 5.44l.94 2.06.94-2.06 2.06-.94-2.06-.94-.94-2.06-.94 2.06-2.06.94zm-11 1L8.5 8.5l.94-2.06 2.06-.94-2.06-.94L8.5 2.5l-.94 2.06-2.06.94zm10 10l.94 2.06.94-2.06 2.06-.94-2.06-.94-.94-2.06-.94 2.06-2.06.94z\"/><path d=\"M17.41 7.96l-1.37-1.37c-.4-.4-.92-.59-1.43-.59-.52 0-1.04.2-1.43.59L10.3 9.45l-7.72 7.72c-.78.78-.78 2.05 0 2.83L4 21.41c.39.39.9.59 1.41.59.51 0 1.02-.2 1.41-.59l7.78-7.78 2.81-2.81c.8-.78.8-2.07 0-2.86zM5.41 20L4 18.59l7.72-7.72 1.47 1.35L5.41 20z\"/>\n",
       "  </svg>\n",
       "      </button>\n",
       "      \n",
       "  <style>\n",
       "    .colab-df-container {\n",
       "      display:flex;\n",
       "      flex-wrap:wrap;\n",
       "      gap: 12px;\n",
       "    }\n",
       "\n",
       "    .colab-df-convert {\n",
       "      background-color: #E8F0FE;\n",
       "      border: none;\n",
       "      border-radius: 50%;\n",
       "      cursor: pointer;\n",
       "      display: none;\n",
       "      fill: #1967D2;\n",
       "      height: 32px;\n",
       "      padding: 0 0 0 0;\n",
       "      width: 32px;\n",
       "    }\n",
       "\n",
       "    .colab-df-convert:hover {\n",
       "      background-color: #E2EBFA;\n",
       "      box-shadow: 0px 1px 2px rgba(60, 64, 67, 0.3), 0px 1px 3px 1px rgba(60, 64, 67, 0.15);\n",
       "      fill: #174EA6;\n",
       "    }\n",
       "\n",
       "    [theme=dark] .colab-df-convert {\n",
       "      background-color: #3B4455;\n",
       "      fill: #D2E3FC;\n",
       "    }\n",
       "\n",
       "    [theme=dark] .colab-df-convert:hover {\n",
       "      background-color: #434B5C;\n",
       "      box-shadow: 0px 1px 3px 1px rgba(0, 0, 0, 0.15);\n",
       "      filter: drop-shadow(0px 1px 2px rgba(0, 0, 0, 0.3));\n",
       "      fill: #FFFFFF;\n",
       "    }\n",
       "  </style>\n",
       "\n",
       "      <script>\n",
       "        const buttonEl =\n",
       "          document.querySelector('#df-fee826c6-4111-4c41-a4e3-1ccaebb652d9 button.colab-df-convert');\n",
       "        buttonEl.style.display =\n",
       "          google.colab.kernel.accessAllowed ? 'block' : 'none';\n",
       "\n",
       "        async function convertToInteractive(key) {\n",
       "          const element = document.querySelector('#df-fee826c6-4111-4c41-a4e3-1ccaebb652d9');\n",
       "          const dataTable =\n",
       "            await google.colab.kernel.invokeFunction('convertToInteractive',\n",
       "                                                     [key], {});\n",
       "          if (!dataTable) return;\n",
       "\n",
       "          const docLinkHtml = 'Like what you see? Visit the ' +\n",
       "            '<a target=\"_blank\" href=https://colab.research.google.com/notebooks/data_table.ipynb>data table notebook</a>'\n",
       "            + ' to learn more about interactive tables.';\n",
       "          element.innerHTML = '';\n",
       "          dataTable['output_type'] = 'display_data';\n",
       "          await google.colab.output.renderOutput(dataTable, element);\n",
       "          const docLink = document.createElement('div');\n",
       "          docLink.innerHTML = docLinkHtml;\n",
       "          element.appendChild(docLink);\n",
       "        }\n",
       "      </script>\n",
       "    </div>\n",
       "  </div>\n",
       "  "
      ],
      "text/plain": [
       "        1    2    3    4    5    6   7   8    9   10\n",
       "重要度上位   98  251   80  205  107   89  86  21  260  28\n",
       "重要度下位  261  152  255   64  250  101  73  79  122   4"
      ]
     },
     "metadata": {},
     "output_type": "display_data"
    },
    {
     "name": "stdout",
     "output_type": "stream",
     "text": [
      "\n",
      "\n",
      "\n"
     ]
    }
   ],
   "source": [
    "index = [i for i in range(1, 11)]\n",
    "\n",
    "for c, coef in zip(lg.classes_, lg.coef_):\n",
    "  print(f'【カテゴリ {c} 】')\n",
    "  best10 = pd.DataFrame(np.argsort(coef)[::-1][:10], columns=['重要度上位'], index=index).T\n",
    "  worst10 = pd.DataFrame(np.argsort(coef)[:10], columns=['重要度下位'], index=index).T\n",
    "  display(pd.concat([best10, worst10], axis=0))\n",
    "  print('\\n\\n')"
   ]
  },
  {
   "cell_type": "markdown",
   "metadata": {
    "id": "Dvj-lwm4ouz5"
   },
   "source": [
    "今回の特徴量抽出の仕方だとあまり面白くないかもです・・・"
   ]
  },
  {
   "cell_type": "markdown",
   "metadata": {
    "id": "kc9OHmKk2Ohi"
   },
   "source": [
    "## 58. 正則化パラメータの変更\n",
    "***\n",
    "ロジスティック回帰モデルを学習するとき，正則化パラメータを調整することで，学習時の過学習（overfitting）の度合いを制御できる．異なる正則化パラメータでロジスティック回帰モデルを学習し，学習データ，検証データ，および評価データ上の正解率を求めよ．実験の結果は，正則化パラメータを横軸，正解率を縦軸としたグラフにまとめよ．"
   ]
  },
  {
   "cell_type": "markdown",
   "metadata": {
    "id": "2L8YsmUBpSQ9"
   },
   "source": [
    "https://scikit-learn.org/stable/modules/generated/sklearn.linear_model.LogisticRegression.html\n",
    "\n",
    "class sklearn.linear_model.LogisticRegression(penalty='l2', *, dual=False, tol=0.0001, C=1.0, fit_intercept=True, intercept_scaling=1, class_weight=None, random_state=None, solver='lbfgs', max_iter=100, multi_class='auto', verbose=0, warm_start=False, n_jobs=None, l1_ratio=None)\n",
    "\n",
    "はじめにロジスティック回帰モデルに渡す c の値を何にすると一番精度が良くなるのか調査せよ！という問題"
   ]
  },
  {
   "cell_type": "markdown",
   "metadata": {
    "id": "sqq8fGBMpkuS"
   },
   "source": [
    "C : float, default=1.0\n",
    "Inverse of regularization strength; must be a positive float. Like in support vector machines, smaller values specify stronger regularization."
   ]
  },
  {
   "cell_type": "code",
   "execution_count": null,
   "metadata": {
    "colab": {
     "base_uri": "https://localhost:8080/"
    },
    "id": "NmRHzTAZpOWB",
    "outputId": "d3eadf2a-c6e8-4f99-a601-b47553ee6d75"
   },
   "outputs": [
    {
     "data": {
      "text/plain": [
       "array([1.e-05, 1.e-04, 1.e-03, 1.e-02, 1.e-01, 1.e+00, 1.e+01, 1.e+02,\n",
       "       1.e+03, 1.e+04])"
      ]
     },
     "execution_count": 40,
     "metadata": {},
     "output_type": "execute_result"
    }
   ],
   "source": [
    "np.logspace(-5, 4, 10, base=10)"
   ]
  },
  {
   "cell_type": "code",
   "execution_count": null,
   "metadata": {
    "colab": {
     "base_uri": "https://localhost:8080/"
    },
    "id": "AbBh2pi_Xy42",
    "outputId": "0162a37c-1cd0-40a7-9990-22de4b5368dd"
   },
   "outputs": [
    {
     "name": "stderr",
     "output_type": "stream",
     "text": [
      "100%|██████████| 10/10 [00:23<00:00,  2.33s/it]\n"
     ]
    }
   ],
   "source": [
    "from tqdm import tqdm\n",
    "\n",
    "result = []\n",
    "for C in tqdm(np.logspace(-5, 4, 10, base=10)):\n",
    "  # モデルの学習\n",
    "  lg = LogisticRegression(random_state=123, max_iter=10000, C=C)\n",
    "  lg.fit(train_feature, train['CATEGORY'])\n",
    "\n",
    "  # 予測値の取得\n",
    "  train_pred_proba, train_pred_label = score_lg(lg, train_feature)\n",
    "  valid_pred_proba, valid_pred_label = score_lg(lg, valid_feature)\n",
    "  test_pred_proba, test_pred_label = score_lg(lg, test_feature)\n",
    "\n",
    "  # 正解率の算出\n",
    "  train_accuracy = accuracy_score(train['CATEGORY'], train_pred_label)\n",
    "  valid_accuracy = accuracy_score(valid['CATEGORY'], valid_pred_label)\n",
    "  test_accuracy = accuracy_score(test['CATEGORY'], test_pred_label)\n",
    "\n",
    "  # 結果の格納\n",
    "  result.append([C, train_accuracy, valid_accuracy, test_accuracy])"
   ]
  },
  {
   "cell_type": "code",
   "execution_count": null,
   "metadata": {
    "colab": {
     "base_uri": "https://localhost:8080/",
     "height": 454
    },
    "id": "VxakFF4WmOXC",
    "outputId": "c78c4214-68c7-4b02-8eef-8080f8b366f0"
   },
   "outputs": [
    {
     "data": {
      "image/png": "[encoded data removed]",
      "text/plain": [
       "<Figure size 640x480 with 1 Axes>"
      ]
     },
     "metadata": {},
     "output_type": "display_data"
    }
   ],
   "source": [
    "# 視覚化\n",
    "result = np.array(result).T\n",
    "plt.plot(result[0], result[1], label='train')\n",
    "plt.plot(result[0], result[2], label='valid')\n",
    "plt.plot(result[0], result[3], label='test')\n",
    "plt.ylim(0, 1.1)\n",
    "plt.ylabel('Accuracy')\n",
    "plt.xscale ('log')\n",
    "plt.xlabel('C')\n",
    "plt.legend()\n",
    "plt.show()"
   ]
  },
  {
   "cell_type": "markdown",
   "metadata": {
    "id": "0mEliEBwrE-j"
   },
   "source": [
    "正則化が強すぎる(Cが小さい)と学習がうまくされず精度が低いことがわかる。\n",
    "正則化が弱すぎる(Cが大きい)と、わずかですが学習用と評価用の精度の差が開いてくる。\n",
    "適切なハイパーパラメータ Cを選ぶことが重要である。"
   ]
  },
  {
   "cell_type": "code",
   "execution_count": null,
   "metadata": {
    "id": "MxGUDnA6mcIl"
   },
   "outputs": [],
   "source": []
  },
  {
   "cell_type": "markdown",
   "metadata": {
    "id": "i8VV00IN2Tbw"
   },
   "source": [
    "## 59. ハイパーパラメータの探索\n",
    "***\n",
    "学習アルゴリズムや学習パラメータを変えながら，カテゴリ分類モデルを学習せよ．検証データ上の正解率が最も高くなる学習アルゴリズム・パラメータを求めよ．また，その学習アルゴリズム・パラメータを用いたときの評価データ上の正解率を求めよ．"
   ]
  },
  {
   "cell_type": "code",
   "execution_count": null,
   "metadata": {
    "id": "Rk9_PqQaro1w"
   },
   "outputs": [],
   "source": []
  }
 ],
 "metadata": {
  "colab": {
   "provenance": []
  },
  "kernelspec": {
   "display_name": "Python 3 (ipykernel)",
   "language": "python",
   "name": "python3"
  },
  "language_info": {
   "codemirror_mode": {
    "name": "ipython",
    "version": 3
   },
   "file_extension": ".py",
   "mimetype": "text/x-python",
   "name": "python",
   "nbconvert_exporter": "python",
   "pygments_lexer": "ipython3",
   "version": "3.11.7"
  }
 },
 "nbformat": 4,
 "nbformat_minor": 1
}
