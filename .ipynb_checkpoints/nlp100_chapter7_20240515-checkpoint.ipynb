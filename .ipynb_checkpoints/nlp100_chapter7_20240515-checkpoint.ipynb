{
 "cells": [
  {
   "cell_type": "markdown",
   "metadata": {
    "id": "m6TVQyJ05dvH"
   },
   "source": [
    "# 第7章: 単語ベクトル\n",
    "単語の意味を実ベクトルで表現する単語ベクトル（単語埋め込み）に関して，以下の処理を行うプログラムを作成せよ．"
   ]
  },
  {
   "cell_type": "markdown",
   "metadata": {
    "id": "JiZlSUkI7aX3"
   },
   "source": [
    "## 60. 単語ベクトルの読み込みと表示\n",
    "***\n",
    "Google Newsデータセット（約1,000億単語）での学習済み単語ベクトル（300万単語・フレーズ，300次元）をダウンロードし，”United States”の単語ベクトルを表示せよ．ただし，”United States”は内部的には”United_States”と表現されていることに注意せよ．\n",
    "\n",
    "https://drive.google.com/uc?id=0B7XkCwpI5KDYNlNUTTlSS21pQmM"
   ]
  },
  {
   "cell_type": "markdown",
   "metadata": {
    "id": "uh-lmjxCitIW"
   },
   "source": [
    "もし\n",
    "\n",
    "Access denied with the following error: Too many users have viewed or downloaded this file recently. Please try accessing the file again later. If the file you are trying to access is particularly large or is shared with many people, it may take up to 24 hours to be able to view or download the file. If you still can't access a file after 24 hours, contact your domain administrator.\n",
    "\n",
    "みたいなエラーが出たら、下のリンクを使ってください。\n",
    "\n",
    "https://drive.google.com/uc?id=1b5P1KufeAH4WfDZDFUGr1Y2QzHJQxvTw"
   ]
  },
  {
   "cell_type": "code",
   "execution_count": 1,
   "metadata": {
    "colab": {
     "base_uri": "https://localhost:8080/",
     "height": 120
    },
    "id": "_Hnw1EFmwMOC",
    "outputId": "9a21ed0d-6aa0-4b83-9178-fe652f8846a5"
   },
   "outputs": [
    {
     "name": "stderr",
     "output_type": "stream",
     "text": [
      "Downloading...\n",
      "From (original): https://drive.google.com/uc?id=0B7XkCwpI5KDYNlNUTTlSS21pQmM\n",
      "From (redirected): https://drive.google.com/uc?id=0B7XkCwpI5KDYNlNUTTlSS21pQmM&confirm=t&uuid=7f3b3912-d604-4c1d-9fcc-738550444747\n",
      "To: /Users/ishitoyayuri/lab-dev/nlp100/GoogleNews-vectors-negative300.bin.gz\n",
      "100%|██████████████████████████████████████| 1.65G/1.65G [00:43<00:00, 38.3MB/s]\n"
     ]
    },
    {
     "data": {
      "text/plain": [
       "'GoogleNews-vectors-negative300.bin.gz'"
      ]
     },
     "execution_count": 1,
     "metadata": {},
     "output_type": "execute_result"
    }
   ],
   "source": [
    "import gdown\n",
    "\n",
    "# Google Newsデータセット（約1,000億単語）の学習済み単語ベクトル（300万単語・フレーズ，300次元）をダウンロード\n",
    "# 学習済み単語ベクトルのダウンロード\n",
    "url = 'https://drive.google.com/uc?id=0B7XkCwpI5KDYNlNUTTlSS21pQmM'\n",
    "output = 'GoogleNews-vectors-negative300.bin.gz'\n",
    "gdown.download(url, output, quiet=False)"
   ]
  },
  {
   "cell_type": "markdown",
   "metadata": {
    "id": "owCGtSCsDWbo"
   },
   "source": [
    "今回は gensim というモジュールを使って学習済み単語埋め込みモデルを扱う。\n",
    "\n",
    "https://radimrehurek.com/gensim/models/keyedvectors.html"
   ]
  },
  {
   "cell_type": "code",
   "execution_count": 2,
   "metadata": {
    "id": "f_xrkKYwzz3z"
   },
   "outputs": [],
   "source": [
    "# gensim : 最新の統計的機械学習を使用した教師なしトピックモデリングと自然言語処理のためのオープンソースライブラリ\n",
    "# 今回は gensim を使って学習ずみ単語ベクトルを扱う\n",
    "from gensim.models import KeyedVectors\n",
    "\n",
    "# 学習済みモデルのロード\n",
    "model = KeyedVectors.load_word2vec_format('./GoogleNews-vectors-negative300.bin.gz', binary=True)"
   ]
  },
  {
   "cell_type": "code",
   "execution_count": null,
   "metadata": {
    "colab": {
     "base_uri": "https://localhost:8080/"
    },
    "id": "zzU0oZG00QXm",
    "outputId": "0c7b5f2a-c4ff-4f12-ec55-42bcd108c300"
   },
   "outputs": [
    {
     "data": {
      "text/plain": [
       "array([-3.61328125e-02, -4.83398438e-02,  2.35351562e-01,  1.74804688e-01,\n",
       "       -1.46484375e-01, -7.42187500e-02, -1.01562500e-01, -7.71484375e-02,\n",
       "        1.09375000e-01, -5.71289062e-02, -1.48437500e-01, -6.00585938e-02,\n",
       "        1.74804688e-01, -7.71484375e-02,  2.58789062e-02, -7.66601562e-02,\n",
       "       -3.80859375e-02,  1.35742188e-01,  3.75976562e-02, -4.19921875e-02,\n",
       "       -3.56445312e-02,  5.34667969e-02,  3.68118286e-04, -1.66992188e-01,\n",
       "       -1.17187500e-01,  1.41601562e-01, -1.69921875e-01, -6.49414062e-02,\n",
       "       -1.66992188e-01,  1.00585938e-01,  1.15722656e-01, -2.18750000e-01,\n",
       "       -9.86328125e-02, -2.56347656e-02,  1.23046875e-01, -3.54003906e-02,\n",
       "       -1.58203125e-01, -1.60156250e-01,  2.94189453e-02,  8.15429688e-02,\n",
       "        6.88476562e-02,  1.87500000e-01,  6.49414062e-02,  1.15234375e-01,\n",
       "       -2.27050781e-02,  3.32031250e-01, -3.27148438e-02,  1.77734375e-01,\n",
       "       -2.08007812e-01,  4.54101562e-02, -1.23901367e-02,  1.19628906e-01,\n",
       "        7.44628906e-03, -9.03320312e-03,  1.14257812e-01,  1.69921875e-01,\n",
       "       -2.38281250e-01, -2.79541016e-02, -1.21093750e-01,  2.47802734e-02,\n",
       "        7.71484375e-02, -2.81982422e-02, -4.71191406e-02,  1.78222656e-02,\n",
       "       -1.23046875e-01, -5.32226562e-02,  2.68554688e-02, -3.11279297e-02,\n",
       "       -5.59082031e-02, -5.00488281e-02, -3.73535156e-02,  1.25976562e-01,\n",
       "        5.61523438e-02,  1.51367188e-01,  4.29687500e-02, -2.08007812e-01,\n",
       "       -4.78515625e-02,  2.78320312e-02,  1.81640625e-01,  2.20703125e-01,\n",
       "       -3.61328125e-02, -8.39843750e-02, -3.69548798e-05, -9.52148438e-02,\n",
       "       -1.25000000e-01, -1.95312500e-01, -1.50390625e-01, -4.15039062e-02,\n",
       "        1.31835938e-01,  1.17675781e-01,  1.91650391e-02,  5.51757812e-02,\n",
       "       -9.42382812e-02, -1.08886719e-01,  7.32421875e-02, -1.15234375e-01,\n",
       "        8.93554688e-02, -1.40625000e-01,  1.45507812e-01,  4.49218750e-02,\n",
       "       -1.10473633e-02, -1.62353516e-02,  4.05883789e-03,  3.75976562e-02,\n",
       "       -6.98242188e-02, -5.46875000e-02,  2.17285156e-02, -9.47265625e-02,\n",
       "        4.24804688e-02,  1.81884766e-02, -1.73339844e-02,  4.63867188e-02,\n",
       "       -1.42578125e-01,  1.99218750e-01,  1.10839844e-01,  2.58789062e-02,\n",
       "       -7.08007812e-02, -5.54199219e-02,  3.45703125e-01,  1.61132812e-01,\n",
       "       -2.44140625e-01, -2.59765625e-01, -9.71679688e-02,  8.00781250e-02,\n",
       "       -8.78906250e-02, -7.22656250e-02,  1.42578125e-01, -8.54492188e-02,\n",
       "       -3.18359375e-01,  8.30078125e-02,  6.34765625e-02,  1.64062500e-01,\n",
       "       -1.92382812e-01, -1.17675781e-01, -5.41992188e-02, -1.56250000e-01,\n",
       "       -1.21582031e-01, -4.95605469e-02,  1.20117188e-01, -3.83300781e-02,\n",
       "        5.51757812e-02, -8.97216797e-03,  4.32128906e-02,  6.93359375e-02,\n",
       "        8.93554688e-02,  2.53906250e-01,  1.65039062e-01,  1.64062500e-01,\n",
       "       -1.41601562e-01,  4.58984375e-02,  1.97265625e-01, -8.98437500e-02,\n",
       "        3.90625000e-02, -1.51367188e-01, -8.60595703e-03, -1.17675781e-01,\n",
       "       -1.97265625e-01, -1.12792969e-01,  1.29882812e-01,  1.96289062e-01,\n",
       "        1.56402588e-03,  3.93066406e-02,  2.17773438e-01, -1.43554688e-01,\n",
       "        6.03027344e-02, -1.35742188e-01,  1.16210938e-01, -1.59912109e-02,\n",
       "        2.79296875e-01,  1.46484375e-01, -1.19628906e-01,  1.76757812e-01,\n",
       "        1.28906250e-01, -1.49414062e-01,  6.93359375e-02, -1.72851562e-01,\n",
       "        9.22851562e-02,  1.33056641e-02, -2.00195312e-01, -9.76562500e-02,\n",
       "       -1.65039062e-01, -2.46093750e-01, -2.35595703e-02, -2.11914062e-01,\n",
       "        1.84570312e-01, -1.85546875e-02,  2.16796875e-01,  5.05371094e-02,\n",
       "        2.02636719e-02,  4.25781250e-01,  1.28906250e-01, -2.77099609e-02,\n",
       "        1.29882812e-01, -1.15722656e-01, -2.05078125e-02,  1.49414062e-01,\n",
       "        7.81250000e-03, -2.05078125e-01, -8.05664062e-02, -2.67578125e-01,\n",
       "       -2.29492188e-02, -8.20312500e-02,  8.64257812e-02,  7.61718750e-02,\n",
       "       -3.66210938e-02,  5.22460938e-02, -1.22070312e-01, -1.44042969e-02,\n",
       "       -2.69531250e-01,  8.44726562e-02, -2.52685547e-02, -2.96630859e-02,\n",
       "       -1.68945312e-01,  1.93359375e-01, -1.08398438e-01,  1.94091797e-02,\n",
       "       -1.80664062e-01,  1.93359375e-01, -7.08007812e-02,  5.85937500e-02,\n",
       "       -1.01562500e-01, -1.31835938e-01,  7.51953125e-02, -7.66601562e-02,\n",
       "        3.37219238e-03, -8.59375000e-02,  1.25000000e-01,  2.92968750e-02,\n",
       "        1.70898438e-01, -9.37500000e-02, -1.09375000e-01, -2.50244141e-02,\n",
       "        2.11914062e-01, -4.44335938e-02,  6.12792969e-02,  2.62451172e-02,\n",
       "       -1.77734375e-01,  1.23046875e-01, -7.42187500e-02, -1.67968750e-01,\n",
       "       -1.08886719e-01, -9.04083252e-04, -7.37304688e-02,  5.49316406e-02,\n",
       "        6.03027344e-02,  8.39843750e-02,  9.17968750e-02, -1.32812500e-01,\n",
       "        1.22070312e-01, -8.78906250e-03,  1.19140625e-01, -1.94335938e-01,\n",
       "       -6.64062500e-02, -2.07031250e-01,  7.37304688e-02,  8.93554688e-02,\n",
       "        1.81884766e-02, -1.20605469e-01, -2.61230469e-02,  2.67333984e-02,\n",
       "        7.76367188e-02, -8.30078125e-02,  6.78710938e-02, -3.54003906e-02,\n",
       "        3.10546875e-01, -2.42919922e-02, -1.41601562e-01, -2.08007812e-01,\n",
       "       -4.57763672e-03, -6.54296875e-02, -4.95605469e-02,  2.22656250e-01,\n",
       "        1.53320312e-01, -1.38671875e-01, -5.24902344e-02,  4.24804688e-02,\n",
       "       -2.38281250e-01,  1.56250000e-01,  5.83648682e-04, -1.20605469e-01,\n",
       "       -9.22851562e-02, -4.44335938e-02,  3.61328125e-02, -1.86767578e-02,\n",
       "       -8.25195312e-02, -8.25195312e-02, -4.05273438e-02,  1.19018555e-02,\n",
       "        1.69921875e-01, -2.80761719e-02,  3.03649902e-03,  9.32617188e-02,\n",
       "       -8.49609375e-02,  1.57470703e-02,  7.03125000e-02,  1.62353516e-02,\n",
       "       -2.27050781e-02,  3.51562500e-02,  2.47070312e-01, -2.67333984e-02],\n",
       "      dtype=float32)"
      ]
     },
     "execution_count": 24,
     "metadata": {},
     "output_type": "execute_result"
    }
   ],
   "source": [
    "# ”United States”の単語ベクトルを表示\n",
    "model['United_States']"
   ]
  },
  {
   "cell_type": "code",
   "execution_count": 4,
   "metadata": {
    "colab": {
     "base_uri": "https://localhost:8080/"
    },
    "id": "l8UZdZexGo80",
    "outputId": "f561e345-884b-4088-d3d1-f9789519cff7"
   },
   "outputs": [
    {
     "data": {
      "text/plain": [
       "(300,)"
      ]
     },
     "execution_count": 4,
     "metadata": {},
     "output_type": "execute_result"
    }
   ],
   "source": [
    "# 単語ベクトルのサイズ\n",
    "model['United_States'].shape"
   ]
  },
  {
   "cell_type": "markdown",
   "metadata": {
    "id": "KQo4jXhU-8QS"
   },
   "source": [
    "## 61. 単語の類似度\n",
    "***\n",
    "“United States”と”U.S.”のコサイン類似度を計算せよ．"
   ]
  },
  {
   "cell_type": "code",
   "execution_count": 5,
   "metadata": {
    "colab": {
     "base_uri": "https://localhost:8080/"
    },
    "id": "xj-Ymtng-7gj",
    "outputId": "e198f7b4-a712-48b2-e9f7-860c8e2a1dda"
   },
   "outputs": [
    {
     "data": {
      "text/plain": [
       "0.73107743"
      ]
     },
     "execution_count": 5,
     "metadata": {},
     "output_type": "execute_result"
    }
   ],
   "source": [
    "model.similarity('United_States', 'U.S.')"
   ]
  },
  {
   "cell_type": "markdown",
   "metadata": {
    "id": "HqvpyKlEb2bk"
   },
   "source": [
    "１に近い値となったので、二つの単語の間には類似性があると言える"
   ]
  },
  {
   "cell_type": "markdown",
   "metadata": {
    "id": "oaTUhaPa_F8l"
   },
   "source": [
    "## 62. 類似度の高い単語10件\n",
    "***\n",
    "“United States”とコサイン類似度が高い10語と，その類似度を出力せよ．"
   ]
  },
  {
   "cell_type": "code",
   "execution_count": 6,
   "metadata": {
    "colab": {
     "base_uri": "https://localhost:8080/"
    },
    "id": "Ko3v5Sq0_JNz",
    "outputId": "f0094bcf-7e5e-4d98-f621-c4843b85a394"
   },
   "outputs": [
    {
     "data": {
      "text/plain": [
       "[('Unites_States', 0.7877248525619507),\n",
       " ('Untied_States', 0.7541370391845703),\n",
       " ('United_Sates', 0.7400725483894348),\n",
       " ('U.S.', 0.7310774326324463),\n",
       " ('theUnited_States', 0.6404393911361694),\n",
       " ('America', 0.6178410053253174),\n",
       " ('UnitedStates', 0.6167312264442444),\n",
       " ('Europe', 0.6132988929748535),\n",
       " ('countries', 0.6044804453849792),\n",
       " ('Canada', 0.6019070148468018)]"
      ]
     },
     "execution_count": 6,
     "metadata": {},
     "output_type": "execute_result"
    }
   ],
   "source": [
    "model.most_similar('United_States', topn=10)"
   ]
  },
  {
   "cell_type": "markdown",
   "metadata": {
    "id": "eqtlLGh8cJXh"
   },
   "source": [
    "タイプミスの方が類似度が高いという結果になった"
   ]
  },
  {
   "cell_type": "markdown",
   "metadata": {
    "id": "bLE5kNWtAWGZ"
   },
   "source": [
    "## 63. 加法構成性によるアナロジー\n",
    "***\n",
    "“Spain”の単語ベクトルから”Madrid”のベクトルを引き，”Athens”のベクトルを足したベクトルを計算し，そのベクトルと類似度の高い10語とその類似度を出力せよ．"
   ]
  },
  {
   "cell_type": "code",
   "execution_count": 7,
   "metadata": {
    "colab": {
     "base_uri": "https://localhost:8080/"
    },
    "id": "As38y-Fo_vhG",
    "outputId": "d94a2e11-1a85-401c-ab71-fa4462582972"
   },
   "outputs": [
    {
     "data": {
      "text/plain": [
       "[('Greece', 0.6898480653762817),\n",
       " ('Aristeidis_Grigoriadis', 0.560684859752655),\n",
       " ('Ioannis_Drymonakos', 0.555290937423706),\n",
       " ('Greeks', 0.5450686812400818),\n",
       " ('Ioannis_Christou', 0.5400862693786621),\n",
       " ('Hrysopiyi_Devetzi', 0.5248445272445679),\n",
       " ('Heraklio', 0.5207759141921997),\n",
       " ('Athens_Greece', 0.5168809294700623),\n",
       " ('Lithuania', 0.5166866183280945),\n",
       " ('Iraklion', 0.5146791934967041)]"
      ]
     },
     "execution_count": 7,
     "metadata": {},
     "output_type": "execute_result"
    }
   ],
   "source": [
    "model.most_similar(positive=['Spain', 'Athens'], negative=['Madrid'], topn=10)"
   ]
  },
  {
   "cell_type": "markdown",
   "metadata": {
    "id": "sGKLVoHJD5Dj"
   },
   "source": [
    "スペインの首都：マドリード\n",
    "\n",
    "ギリシャの首都：アテネ\n",
    "\n",
    "という関係性が単語ベクトルで表現できた！\n",
    "\n",
    "spain - madrid + athenes = greece"
   ]
  },
  {
   "cell_type": "markdown",
   "metadata": {
    "id": "GHFSFV3_20Qs"
   },
   "source": [
    "他にもいろいろ試してみましょう！"
   ]
  },
  {
   "cell_type": "code",
   "execution_count": 8,
   "metadata": {
    "colab": {
     "base_uri": "https://localhost:8080/"
    },
    "id": "g_bjPTFp2ztX",
    "outputId": "c5b931c1-b3f1-4a6e-e3ba-e4af625ee276"
   },
   "outputs": [
    {
     "data": {
      "text/plain": [
       "[('queen', 0.7118192911148071),\n",
       " ('monarch', 0.6189674735069275),\n",
       " ('princess', 0.5902431011199951),\n",
       " ('crown_prince', 0.5499460697174072),\n",
       " ('prince', 0.5377321243286133),\n",
       " ('kings', 0.5236844420433044),\n",
       " ('Queen_Consort', 0.5235945582389832),\n",
       " ('queens', 0.5181134343147278),\n",
       " ('sultan', 0.5098593235015869),\n",
       " ('monarchy', 0.5087411403656006)]"
      ]
     },
     "execution_count": 8,
     "metadata": {},
     "output_type": "execute_result"
    }
   ],
   "source": [
    "# よく例として挙げられるもの\n",
    "# king - man + woman = ???\n",
    "model.most_similar(positive=['king', 'woman'], negative=['man'], topn=10)"
   ]
  },
  {
   "cell_type": "code",
   "execution_count": 9,
   "metadata": {
    "colab": {
     "base_uri": "https://localhost:8080/"
    },
    "id": "G93iRJA5HQ0i",
    "outputId": "cf87b464-0329-46ea-a5cc-4300d922d642"
   },
   "outputs": [
    {
     "data": {
      "text/plain": [
       "[('dogs', 0.7362095713615417),\n",
       " ('cats', 0.6359845995903015),\n",
       " ('beagle', 0.6304870247840881),\n",
       " ('pet', 0.6289805173873901),\n",
       " ('canines', 0.6106489300727844),\n",
       " ('canine', 0.6095181703567505),\n",
       " ('pooch', 0.603018045425415),\n",
       " ('pit_bull', 0.6011431813240051),\n",
       " ('Labrador_retriever', 0.5989587306976318),\n",
       " ('Dog', 0.591141939163208)]"
      ]
     },
     "execution_count": 9,
     "metadata": {},
     "output_type": "execute_result"
    }
   ],
   "source": [
    "# cat - kitten + dog = ???\n",
    "model.most_similar(positive=['cat', 'dog'], negative=['kitten'], topn=10)"
   ]
  },
  {
   "cell_type": "code",
   "execution_count": 10,
   "metadata": {
    "colab": {
     "base_uri": "https://localhost:8080/"
    },
    "id": "ohy44lsGJkVI",
    "outputId": "f20965de-9473-43a1-a52a-ffb52ed961fd"
   },
   "outputs": [
    {
     "data": {
      "text/plain": [
       "[('eat', 0.7640841007232666),\n",
       " ('eaten', 0.6376364827156067),\n",
       " ('eating', 0.5695255994796753),\n",
       " ('eats', 0.540438711643219),\n",
       " ('munch', 0.5298828482627869),\n",
       " ('devour', 0.4996225833892822),\n",
       " ('eat_fatty_foods', 0.49500104784965515),\n",
       " ('consume', 0.4949479103088379),\n",
       " ('veggie_trays', 0.48969343304634094),\n",
       " ('gobble', 0.48930463194847107)]"
      ]
     },
     "execution_count": 10,
     "metadata": {},
     "output_type": "execute_result"
    }
   ],
   "source": [
    "# go - went + ate = ???\n",
    "model.most_similar(positive=['go', 'ate'], negative=['went'], topn=10)"
   ]
  },
  {
   "cell_type": "markdown",
   "metadata": {
    "id": "VPjea-WJB6Oy"
   },
   "source": [
    "## 64. アナロジーデータでの実験\n",
    "***\n",
    "単語アナロジーの評価データをダウンロードし，vec(2列目の単語) - vec(1列目の単語) + vec(3列目の単語)を計算し，そのベクトルと類似度が最も高い単語と，その類似度を求めよ．求めた単語と類似度は，各事例の末尾に追記せよ．\n",
    "\n",
    "http://download.tensorflow.org/data/questions-words.txt"
   ]
  },
  {
   "cell_type": "markdown",
   "metadata": {
    "id": "QQMk6DC1ExxK"
   },
   "source": [
    "***\n",
    "目的は、ダウンロードした　google news データセットの単語埋め込みの精度の評価をするための準備。"
   ]
  },
  {
   "cell_type": "code",
   "execution_count": 11,
   "metadata": {
    "colab": {
     "base_uri": "https://localhost:8080/"
    },
    "id": "wf46Yx8XB5Zf",
    "outputId": "9ce67905-5945-4938-8842-52266749f5bd"
   },
   "outputs": [
    {
     "name": "stdout",
     "output_type": "stream",
     "text": [
      "--2024-05-15 13:34:50--  http://download.tensorflow.org/data/questions-words.txt\n",
      "Resolving download.tensorflow.org (download.tensorflow.org)... 2404:6800:4004:811::201b, 2404:6800:4004:812::201b, 2404:6800:4004:81e::201b, ...\n",
      "Connecting to download.tensorflow.org (download.tensorflow.org)|2404:6800:4004:811::201b|:80... connected.\n",
      "HTTP request sent, awaiting response... 200 OK\n",
      "Length: 603955 (590K) [text/plain]\n",
      "Saving to: ‘questions-words.txt’\n",
      "\n",
      "questions-words.txt 100%[===================>] 589.80K  --.-KB/s    in 0.04s   \n",
      "\n",
      "2024-05-15 13:34:51 (14.1 MB/s) - ‘questions-words.txt’ saved [603955/603955]\n",
      "\n"
     ]
    }
   ],
   "source": [
    "# 単語アナロジーの評価データダウンロード\n",
    "!wget http://download.tensorflow.org/data/questions-words.txt"
   ]
  },
  {
   "cell_type": "code",
   "execution_count": 15,
   "metadata": {
    "colab": {
     "base_uri": "https://localhost:8080/"
    },
    "id": "U7iRnOaX_610",
    "outputId": "e09f94f5-a6d8-42cb-df5a-f417513ee7f3"
   },
   "outputs": [
    {
     "name": "stdout",
     "output_type": "stream",
     "text": [
      ": capital-common-countries\r\n",
      "Athens Greece Baghdad Iraq\r\n",
      "Athens Greece Bangkok Thailand\r\n",
      "Athens Greece Beijing China\r\n",
      "Athens Greece Berlin Germany\r\n",
      "Athens Greece Bern Switzerland\r\n",
      "Athens Greece Cairo Egypt\r\n",
      "Athens Greece Canberra Australia\r\n",
      "Athens Greece Hanoi Vietnam\r\n",
      "Athens Greece Havana Cuba\r\n"
     ]
    }
   ],
   "source": [
    "# 先頭10行をみてみる\n",
    "!head -10 questions-words.txt"
   ]
  },
  {
   "cell_type": "markdown",
   "metadata": {
    "id": "WIDinHh-3-2F"
   },
   "source": [
    "***\n",
    "14つのセクションに分かれている。\n",
    "\n",
    "1. capital-common-countries\n",
    "2. capital-world\n",
    "3. currency\n",
    "4. city-in-state\n",
    "5. family\n",
    "6. gram1-adjective-to-adverb\n",
    "7. gram2-opposite\n",
    "8. gram3-comparative\n",
    "9. gram4-superlative\n",
    "10. gram5-present-participle\n",
    "11. gram6-nationality-adjective\n",
    "12. gram7-past-tense\n",
    "13. gram8-plural\n",
    "14. gram9-plural-verbs\n",
    "\n",
    "それぞれ４つの単語が並んでいて、１つ目と２つ目の単語と、３つ目と４つ目の単語の関係性が同じ。\n",
    "***\n",
    "\n",
    "\n",
    "\n",
    "\n"
   ]
  },
  {
   "cell_type": "markdown",
   "metadata": {
    "id": "AXEaD3aarRTJ"
   },
   "source": [
    "vec(2列目の単語) - vec(1列目の単語) + vec(3列目の単語)を計算し，そのベクトルと類似度が最も高い単語と，その類似度を求めよ．求めた単語と類似度は，各事例の末尾に追記せよ．\n",
    "***"
   ]
  },
  {
   "cell_type": "markdown",
   "metadata": {
    "id": "xX6eKZdAFCMr"
   },
   "source": [
    "注意！下のセルは実行にとても時間がかかりますので、今回は実行しない方がいいです！"
   ]
  },
  {
   "cell_type": "code",
   "execution_count": null,
   "metadata": {
    "id": "GrpkTi3ACSX5"
   },
   "outputs": [],
   "source": [
    "with open('./questions-words.txt', 'r') as f1, open('./questions-words-add.txt', 'w') as f2: # ファイルf1からデータを読み込みつつ、ファイルf2にデータを書き込む\n",
    "  for row in f1:  # f1から1行ずつ読込む\n",
    "    row = row.strip().split(' ') # 各列を単語の配列に変換\n",
    "\n",
    "    # カテゴリの列\n",
    "    if row[0] == ':':\n",
    "      category = row[1]\n",
    "\n",
    "    # 単語列\n",
    "    else:\n",
    "      word, cos = model.most_similar(positive=[row[1], row[2]], negative=[row[0]], topn=1)[0] # vec(2列目の単語) - vec(1列目の単語) + vec(3列目の単語) の単語を類似度を求める\n",
    "      f2.write(' '.join([category] + row + [word, str(cos)+'\\n'])) # 結果をf2に書き込む"
   ]
  },
  {
   "cell_type": "markdown",
   "metadata": {
    "id": "i_iNq8pYqevT"
   },
   "source": [
    "類似しているベクトルを求めるのにとても時間がかかります。（30分はゆうにかかる・・・）\n",
    "ですので、今回は作成して得られるはずのファイルを共有させてください。\n",
    "\n",
    "https://drive.google.com/uc?id=1Mp9ujki9kevs0BeKULjxXduS5EhUpdKu'"
   ]
  },
  {
   "cell_type": "code",
   "execution_count": 16,
   "metadata": {
    "colab": {
     "base_uri": "https://localhost:8080/",
     "height": 103
    },
    "id": "lvPo1pWMq0Mk",
    "outputId": "75819ae0-533a-44b0-e4bc-79fcb9781a57"
   },
   "outputs": [
    {
     "name": "stderr",
     "output_type": "stream",
     "text": [
      "Downloading...\n",
      "From: https://drive.google.com/uc?id=1Mp9ujki9kevs0BeKULjxXduS5EhUpdKu\n",
      "To: /Users/ishitoyayuri/lab-dev/nlp100/questions-words-add.txt\n",
      "100%|██████████████████████████████████████| 1.47M/1.47M [00:00<00:00, 20.5MB/s]\n"
     ]
    },
    {
     "data": {
      "text/plain": [
       "'questions-words-add.txt'"
      ]
     },
     "execution_count": 16,
     "metadata": {},
     "output_type": "execute_result"
    }
   ],
   "source": [
    "# 上のコードを実行すると得られるファイルをダウンロード\n",
    "url = 'https://drive.google.com/uc?id=1Mp9ujki9kevs0BeKULjxXduS5EhUpdKu'\n",
    "output = 'questions-words-add.txt'\n",
    "gdown.download(url, output, quiet=False)"
   ]
  },
  {
   "cell_type": "code",
   "execution_count": 17,
   "metadata": {
    "colab": {
     "base_uri": "https://localhost:8080/"
    },
    "id": "0M5O1uCmDLwl",
    "outputId": "6d447ab7-f07b-45c6-ebfd-7dfe7bfeee76"
   },
   "outputs": [
    {
     "name": "stdout",
     "output_type": "stream",
     "text": [
      "capital-common-countries Athens Greece Baghdad Iraq Iraqi 0.6351870894432068\r\n",
      "capital-common-countries Athens Greece Bangkok Thailand Thailand 0.7137669920921326\r\n",
      "capital-common-countries Athens Greece Beijing China China 0.7235777378082275\r\n",
      "capital-common-countries Athens Greece Berlin Germany Germany 0.6734622716903687\r\n",
      "capital-common-countries Athens Greece Bern Switzerland Switzerland 0.4919748902320862\r\n",
      "capital-common-countries Athens Greece Cairo Egypt Egypt 0.7527809739112854\r\n",
      "capital-common-countries Athens Greece Canberra Australia Australia 0.583732545375824\r\n",
      "capital-common-countries Athens Greece Hanoi Vietnam Viet_Nam 0.6276341676712036\r\n",
      "capital-common-countries Athens Greece Havana Cuba Cuba 0.6460990905761719\r\n",
      "capital-common-countries Athens Greece Helsinki Finland Finland 0.68999844789505\r\n"
     ]
    }
   ],
   "source": [
    "# 書き込んだファイルを確認\n",
    "!head -10 questions-words-add.txt"
   ]
  },
  {
   "cell_type": "markdown",
   "metadata": {
    "id": "OvNPyYNPHEUu"
   },
   "source": [
    "## 65. アナロジータスクでの正解率\n",
    "***\n",
    "64の実行結果を用い，意味的アナロジー（semantic analogy）と文法的アナロジー（syntactic analogy）の正解率を測定せよ．"
   ]
  },
  {
   "cell_type": "markdown",
   "metadata": {
    "id": "69QkmOyiEM9K"
   },
   "source": [
    "意味的アナロジー\n",
    "1. capital-common-countries\n",
    "(ex. Beijing China Tokyo Japan)\n",
    "2. capital-world\n",
    "3. currency\n",
    "(ex. USA dollar Japan yen)\n",
    "4. city-in-state\n",
    "(ex. Huntsville Alabama Miami Florida)\n",
    "5. family\n",
    "(ex. boy girl brother sister)\n",
    "\n",
    "文法的アナロジー\n",
    "6. gram1-adjective-to-adverb\n",
    "(ex. amazing amazingly lucky luckily)\n",
    "7. gram2-opposite\n",
    "(ex. aware unaware certain uncertain)\n",
    "8. gram3-comparative\n",
    "(ex. bad worse big bigger)\n",
    "9. gram4-superlative\n",
    "(ex. bad worst big biggest)\n",
    "10. gram5-present-participle\n",
    "(ex. dance dancing fly flying)\n",
    "11. gram6-nationality-adjective\n",
    "(ex. China Chinese Japan Japanese)\n",
    "12. gram7-past-tense\n",
    "(ex. dancing danced jumping jumped)\n",
    "13. gram8-plural\n",
    "(ex. banana bananas bird birds)\n",
    "14. gram9-plural-verbs\n",
    "(ex. decrease decreases describe describes)\n",
    "\n",
    "***\n",
    "\n",
    "\n",
    "\n",
    "\n"
   ]
  },
  {
   "cell_type": "markdown",
   "metadata": {
    "id": "zvLwcwvGGMbW"
   },
   "source": [
    "64. にて作成したファイルの中身は\n",
    "\n",
    "・・・\n",
    "\n",
    "カテゴリ　単語１　単語２　単語３　単語４　求めた単語　類似度\n",
    "\n",
    "・・・\n",
    "\n",
    "「単語４（正解単語）と求めた単語の一致度から正解率を求めよ」という問題！"
   ]
  },
  {
   "cell_type": "code",
   "execution_count": 18,
   "metadata": {
    "colab": {
     "base_uri": "https://localhost:8080/"
    },
    "id": "BMaCx_awGuc-",
    "outputId": "b87e2305-c169-4a66-d4bb-7acf945c1ee8"
   },
   "outputs": [
    {
     "name": "stdout",
     "output_type": "stream",
     "text": [
      "意味的アナロジー正解率 :  0.7308602999210734\n",
      "文法的アナロジー正解率 :  0.7400468384074942\n"
     ]
    }
   ],
   "source": [
    "with open('questions-words-add.txt', 'r') as f: # 64で出力したファイルを読み込む\n",
    "    sem_num = 0 # 意味的アナロジーの行数\n",
    "    sem_cor = 0 # 意味的アナロジーの正解数\n",
    "    syn_num = 0 # 文法的アナロジーの行数\n",
    "    syn_cor = 0 # 文法的アナロジーの正解数\n",
    "\n",
    "    for row in f:\n",
    "        row = row.strip().split(' ') # [カテゴリ、単語１、単語２、単語３、単語４、求めた単語、類似度]\n",
    "\n",
    "        # 文法的アナロジー\n",
    "        if row[0].startswith('gram'):\n",
    "          syn_num+=1\n",
    "          if row[4] == row[5]: #　単語４（正解単語）と求めた単語が同じか\n",
    "            syn_cor += 1\n",
    "\n",
    "        # 意味的アナロジー\n",
    "        else:\n",
    "            sem_num += 1\n",
    "            if row[4] == row[5]:\n",
    "              sem_cor += 1\n",
    "\n",
    "print('意味的アナロジー正解率 : ', sem_cor/sem_num)\n",
    "print('文法的アナロジー正解率 : ', syn_cor/syn_num)"
   ]
  },
  {
   "cell_type": "markdown",
   "metadata": {
    "id": "gA47vYaJImqr"
   },
   "source": [
    "微妙！"
   ]
  },
  {
   "cell_type": "markdown",
   "metadata": {
    "id": "ogM4NQ3vPoQC"
   },
   "source": [
    "## 66. WordSimilarity-353での評価\n",
    "***\n",
    "The WordSimilarity-353 Test Collectionの評価データをダウンロードし，単語ベクトルにより計算される類似度のランキングと，人間の類似度判定のランキングの間のスピアマン相関係数を計算せよ．\n",
    "\n",
    "http://www.gabrilovich.com/resources/data/wordsim353/wordsim353.html"
   ]
  },
  {
   "cell_type": "markdown",
   "metadata": {
    "id": "cxSqy5hPDW4E"
   },
   "source": [
    "The WordSimilarity-353 Test Collection：英単語のペアと人間が割り当てた類似度判定のデータセット\n",
    "\n",
    "set1 : 153の単語ペアと13人の被験者によって割り当てられた類似度スコア\n",
    "\n",
    "set2 : 200の単語ペアと16人の被験者によって割り当てられた類似度スコア\n",
    "\n",
    "combined : set1 と set2 を連結したもの。353個すべての単語ペアとそれらの平均類似度スコア\n",
    "\n",
    "\n",
    "ぺあの単語の類似度を０（全く関連がない）から１０（非常に関連がある）までの尺度で推定"
   ]
  },
  {
   "cell_type": "code",
   "execution_count": 19,
   "metadata": {
    "colab": {
     "base_uri": "https://localhost:8080/"
    },
    "id": "BtgVUhf5F-7x",
    "outputId": "84a5116d-72e5-4dbe-ef81-fa0aaaab87ef"
   },
   "outputs": [
    {
     "name": "stdout",
     "output_type": "stream",
     "text": [
      "--2024-05-15 13:36:46--  http://www.gabrilovich.com/resources/data/wordsim353/wordsim353.zip\n",
      "Resolving www.gabrilovich.com (www.gabrilovich.com)... 173.236.137.139\n",
      "Connecting to www.gabrilovich.com (www.gabrilovich.com)|173.236.137.139|:80... connected.\n",
      "HTTP request sent, awaiting response... 301 Moved Permanently\n",
      "Location: https://gabrilovich.com/resources/data/wordsim353/wordsim353.zip [following]\n",
      "--2024-05-15 13:36:48--  https://gabrilovich.com/resources/data/wordsim353/wordsim353.zip\n",
      "Resolving gabrilovich.com (gabrilovich.com)... 173.236.137.139\n",
      "Connecting to gabrilovich.com (gabrilovich.com)|173.236.137.139|:443... connected.\n",
      "HTTP request sent, awaiting response... 200 OK\n",
      "Length: 23257 (23K) [application/zip]\n",
      "Saving to: ‘wordsim353.zip’\n",
      "\n",
      "wordsim353.zip      100%[===================>]  22.71K   130KB/s    in 0.2s    \n",
      "\n",
      "2024-05-15 13:36:49 (130 KB/s) - ‘wordsim353.zip’ saved [23257/23257]\n",
      "\n"
     ]
    }
   ],
   "source": [
    "# The WordSimilarity-353 Test Collectionの評価データをダウンロード\n",
    "!wget http://www.gabrilovich.com/resources/data/wordsim353/wordsim353.zip"
   ]
  },
  {
   "cell_type": "code",
   "execution_count": 20,
   "metadata": {
    "colab": {
     "base_uri": "https://localhost:8080/"
    },
    "id": "GMpdPzujI4g4",
    "outputId": "57f8dc75-798a-40ee-b72a-8ff422911bcf"
   },
   "outputs": [
    {
     "name": "stdout",
     "output_type": "stream",
     "text": [
      "Archive:  wordsim353.zip\r\n",
      "  inflating: combined.csv            \r\n",
      "  inflating: set1.csv                \r\n",
      "  inflating: set2.csv                \r\n",
      "  inflating: combined.tab            \r\n",
      "  inflating: set1.tab                \r\n",
      "  inflating: set2.tab                \r\n",
      "  inflating: instructions.txt        \r\n"
     ]
    }
   ],
   "source": [
    "# データを解凍\n",
    "!unzip wordsim353.zip"
   ]
  },
  {
   "cell_type": "code",
   "execution_count": 21,
   "metadata": {
    "colab": {
     "base_uri": "https://localhost:8080/"
    },
    "id": "uU3dfuEwg-R6",
    "outputId": "aac2bb39-9405-4284-dfe2-c6117c511355"
   },
   "outputs": [
    {
     "name": "stdout",
     "output_type": "stream",
     "text": [
      "Word 1,Word 2,Human (mean),1,2,3,4,5,6,7,8,9,10,11,12,13\r",
      "\r\n",
      "love,sex,6.77,9,6,8,8,7,8,8,4,7,2,6,7,8\r",
      "\r\n",
      "tiger,cat,7.35,9,7,8,7,8,9,8.5,5,6,9,7,5,7\r",
      "\r\n",
      "tiger,tiger,10.00,10,10,10,10,10,10,10,10,10,10,10,10,10\r",
      "\r\n",
      "book,paper,7.46,8,8,7,7,8,9,7,6,7,8,9,4,9\r",
      "\r\n",
      "computer,keyboard,7.62,8,7,9,9,8,8,7,7,6,8,10,3,9\r",
      "\r\n",
      "computer,internet,7.58,8,6,9,8,8,8,7.5,7,7,7,9,5,9\r",
      "\r\n",
      "plane,car,5.77,6,6,7,5,3,6,7,6,6,6,7,3,7\r",
      "\r\n",
      "train,car,6.31,7,7.5,7.5,5,3,6,7,6,6,6,9,4,8\r",
      "\r\n",
      "telephone,communication,7.50,7,6.5,8,8,6,8,8,7,5,9,9,8,8\r",
      "\r\n",
      "television,radio,6.77,7,7.5,9,7,3,6,7,8,5.5,6,8,6,8\r",
      "\r\n",
      "media,radio,7.42,7,7,8.5,9,6,7,7,7,5,7,10,8,8\r",
      "\r\n",
      "drug,abuse,6.85,7,5.5,8,10,7,9,7,7,4,5,8.5,4,7\r",
      "\r\n",
      "bread,butter,6.19,6,5.5,8,9,6,8,7,5,6,4,4,3,9\r",
      "\r\n",
      "cucumber,potato,5.92,7,7.5,7,6,4,6,6.5,4,6,4,5,6,8\r",
      "\r\n",
      "doctor,nurse,7.00,7,8,9,7,5,7,7,7,6,6,7,7,8\r",
      "\r\n",
      "professor,doctor,6.62,6,7.5,8,7,4,6,8.5,6,7,3,6,9,8\r",
      "\r\n",
      "student,professor,6.81,6,8,9,6,4,8,7.5,8,6,3,8,7,8\r",
      "\r\n",
      "smart,student,4.62,5,6,5,2,4,6,5,7,4,3,3,5,5\r",
      "\r\n",
      "smart,stupid,5.81,3,7,9,9,5,8,6,0,6.5,3,5,7,7\r",
      "\r\n"
     ]
    }
   ],
   "source": [
    "# 先頭10行をみてみる\n",
    "!head -20 set1.csv"
   ]
  },
  {
   "cell_type": "markdown",
   "metadata": {
    "id": "DMahSMzWIz3e"
   },
   "source": [
    "「単語１、単語２、平均判定類似度、一人目の判定類似度、・・・、１３人めの判定類似度」\n",
    "となっている。"
   ]
  },
  {
   "cell_type": "code",
   "execution_count": 22,
   "metadata": {
    "colab": {
     "base_uri": "https://localhost:8080/"
    },
    "id": "hMLchBWUg-MK",
    "outputId": "2ec26240-871e-412a-f6f1-5ba888b3d3af"
   },
   "outputs": [
    {
     "name": "stdout",
     "output_type": "stream",
     "text": [
      "Word 1,Word 2,Human (mean),1,2,3,4,5,6,7,8,9,10,11,12,13,14,15,16\r",
      "\r\n",
      "energy,secretary,1.81,1,0,4,2,4,5,1,1,1,0,1,1,4,0,2,2\r",
      "\r\n",
      "secretary,senate,5.06,7,1,7,4,4,7,1,3,4,8,4,5,6,7,6,7\r",
      "\r\n",
      "energy,laboratory,5.09,7,1,7.5,4,6,7,4,6,1,2,4,3,7,9,6,7\r",
      "\r\n",
      "computer,laboratory,6.78,8,5,8,7,6,9,6,7,6,7.5,4,5,8,9,7,6\r",
      "\r\n",
      "weapon,secret,6.06,7,4,8,6,6,9,2,6,3,6,5,6,8,9,7,5\r",
      "\r\n",
      "FBI,fingerprint,6.94,8,6,8,5,5,9,7,7,6,6,6,8,9,7,6,8\r",
      "\r\n",
      "FBI,investigation,8.31,9,9,8.5,9,7,9,8,8,8,7.5,6,9,10,9,7,9\r",
      "\r\n",
      "investigation,effort,4.59,5,1,7.5,2,4,7,6,5,2,2,2,7,6,5,6,6\r",
      "\r\n",
      "Mars,water,2.94,2,1,3,2,1,8,0,4,2,6,1,1,3,0,5,8\r",
      "\r\n",
      "Mars,scientist,5.63,8,1,7,4,6,8,1,6,5,6,2,9,7,5,7,8\r",
      "\r\n",
      "news,report,8.16,9,6,8.5,8,7,9,7,8,7,8,7,9,10,9,9,9\r",
      "\r\n",
      "canyon,landscape,7.53,9,7.5,7,7,7,7,8,7,7,8,6,9,8,6,8,9\r",
      "\r\n",
      "image,surface,4.56,7,1,5,1,1,5,4,3,4,4,5,5,7,7,8,6\r",
      "\r\n",
      "discovery,space,6.34,8,2,7.5,9,5,7,4,7,5,6,5,7,8,8,7,6\r",
      "\r\n",
      "water,seepage,6.56,8,7,9,7,7,8,7,6,0,6,1,8,7,8,8,8\r",
      "\r\n",
      "sign,recess,2.38,4,1,2,4,5,4,0,4,3,0,1,0,0,0,6,4\r",
      "\r\n",
      "Wednesday,news,2.22,4,1,4,2,3,6,2,3,0.5,0,1,1,0,1,4,3\r",
      "\r\n",
      "mile,kilometer,8.66,9,9.5,9,8,9,8,9,9,8.5,7.5,8,8,10,8,9,9\r",
      "\r\n",
      "computer,news,4.47,5,1,7,6,5,5,1,4,6.5,4,2,5,3,7,6,4\r",
      "\r\n"
     ]
    }
   ],
   "source": [
    "# 先頭10行をみてみる\n",
    "!head -20 set2.csv"
   ]
  },
  {
   "cell_type": "code",
   "execution_count": 23,
   "metadata": {
    "colab": {
     "base_uri": "https://localhost:8080/"
    },
    "id": "TUud_xKiNHT7",
    "outputId": "0f5a68f0-d15f-42bb-931b-e1d219863e13"
   },
   "outputs": [
    {
     "name": "stdout",
     "output_type": "stream",
     "text": [
      "Word 1,Word 2,Human (mean)\r",
      "\r\n",
      "love,sex,6.77\r",
      "\r\n",
      "tiger,cat,7.35\r",
      "\r\n",
      "tiger,tiger,10.00\r",
      "\r\n",
      "book,paper,7.46\r",
      "\r\n",
      "computer,keyboard,7.62\r",
      "\r\n",
      "computer,internet,7.58\r",
      "\r\n",
      "plane,car,5.77\r",
      "\r\n",
      "train,car,6.31\r",
      "\r\n",
      "telephone,communication,7.50\r",
      "\r\n",
      "television,radio,6.77\r",
      "\r\n",
      "media,radio,7.42\r",
      "\r\n",
      "drug,abuse,6.85\r",
      "\r\n",
      "bread,butter,6.19\r",
      "\r\n",
      "cucumber,potato,5.92\r",
      "\r\n",
      "doctor,nurse,7.00\r",
      "\r\n",
      "professor,doctor,6.62\r",
      "\r\n",
      "student,professor,6.81\r",
      "\r\n",
      "smart,student,4.62\r",
      "\r\n",
      "smart,stupid,5.81\r",
      "\r\n"
     ]
    }
   ],
   "source": [
    "# 先頭10行をみてみる\n",
    "!head -20 combined.csv"
   ]
  },
  {
   "cell_type": "markdown",
   "metadata": {
    "id": "dPa7Hy-pJGZh"
   },
   "source": [
    "どれを使ってもできそうですけど、今回は combined.csv を使いましょう！"
   ]
  },
  {
   "cell_type": "markdown",
   "metadata": {
    "id": "MTK1U9pVEvzV"
   },
   "source": [
    "単語の埋め込みによる単語のペアのコサイン類似度を求める"
   ]
  },
  {
   "cell_type": "code",
   "execution_count": 24,
   "metadata": {
    "id": "h0pSiYiSOBb4"
   },
   "outputs": [],
   "source": [
    "hs = [] # 人間による類似度リスト\n",
    "wvs = [] # 単語ベクトルによる類似度\n",
    "\n",
    "with open('./combined.csv', 'r') as f:\n",
    "  next(f) # 一行目はヘッダーですので、読み飛ばす\n",
    "\n",
    "  for row in f:  # 1行ずつ読込み、単語ベクトルと類似度を計算\n",
    "    row = row.strip().split(',')\n",
    "    cos = model.similarity(row[0], row[1]) # コサイン類似度\n",
    "\n",
    "    hs.append(float(row[2]))\n",
    "    wvs.append(cos)"
   ]
  },
  {
   "cell_type": "code",
   "execution_count": 25,
   "metadata": {
    "colab": {
     "base_uri": "https://localhost:8080/"
    },
    "id": "psEkcBFpLJMR",
    "outputId": "a99f11ce-c361-450a-aae0-c1a7596765df"
   },
   "outputs": [
    {
     "name": "stdout",
     "output_type": "stream",
     "text": [
      "[6.77, 7.35, 10.0, 7.46, 7.62]\n",
      "*****\n",
      "[0.2639377, 0.5172962, 0.99999994, 0.3634626, 0.39639163]\n"
     ]
    }
   ],
   "source": [
    "# 確認\n",
    "print(hs[:5])\n",
    "print('*'*5)\n",
    "print(wvs[:5])"
   ]
  },
  {
   "cell_type": "markdown",
   "metadata": {
    "id": "lpkngobGKWMu"
   },
   "source": [
    "scipy.stats.spearmanr　を使ってスピアマン相関係数を求めてみる\n",
    "\n",
    "https://docs.scipy.org/doc/scipy/reference/generated/scipy.stats.spearmanr.html"
   ]
  },
  {
   "cell_type": "code",
   "execution_count": 26,
   "metadata": {
    "colab": {
     "base_uri": "https://localhost:8080/"
    },
    "id": "2xaTyoKSOKpi",
    "outputId": "79bbe621-4d69-4690-9332-31e64129f39f"
   },
   "outputs": [
    {
     "name": "stdout",
     "output_type": "stream",
     "text": [
      "スピアマン相関係数: 0.70002\n"
     ]
    }
   ],
   "source": [
    "from scipy.stats import spearmanr\n",
    "\n",
    "# スピアマン相関係数を求める\n",
    "res = spearmanr(hs, wvs)\n",
    "\n",
    "print(f'スピアマン相関係数: {res.statistic:.5f}')"
   ]
  },
  {
   "cell_type": "markdown",
   "metadata": {
    "id": "pSBPEw03jqpy"
   },
   "source": [
    "まあ良い？"
   ]
  },
  {
   "cell_type": "markdown",
   "metadata": {
    "id": "7HpKDs1PXQP_"
   },
   "source": [
    "##67. k-meansクラスタリング\n",
    "***\n",
    "国名に関する単語ベクトルを抽出し，k-meansクラスタリングをクラスタ数k=5として実行せよ．"
   ]
  },
  {
   "cell_type": "markdown",
   "metadata": {
    "id": "GVBL7paJO2Li"
   },
   "source": [
    "64 で作った question-words-add.txt から、国名を抽出する。\n",
    "\n",
    "使えそうなカテゴリ\n",
    "* capital-common-countries (ex. Beijing China Tokyo Japan)\n",
    "* capital-world\n",
    "* currency (ex. USA dollar Japan yen)\n",
    "* gram6-nationality-adjective (ex. China Chinese Japan Japanese)"
   ]
  },
  {
   "cell_type": "code",
   "execution_count": 27,
   "metadata": {
    "id": "VrTSh_CWXPgJ"
   },
   "outputs": [],
   "source": [
    "# 国名抽出\n",
    "countries = set() # 要素が重複しないよう\n",
    "\n",
    "with open('./questions-words-add.txt') as f:\n",
    "  for row in f:\n",
    "    row = row.strip().split(' ')\n",
    "\n",
    "    if row[0] in ['capital-common-countries', 'capital-world']:\n",
    "      countries.add(row[2])\n",
    "      countries.add(row[4])\n",
    "\n",
    "    elif row[0] in ['currency', 'gram6-nationality-adjective']:\n",
    "      countries.add(row[1])\n",
    "      countries.add(row[3])\n",
    "\n",
    "countries = list(countries) # リストに変換"
   ]
  },
  {
   "cell_type": "code",
   "execution_count": 28,
   "metadata": {
    "colab": {
     "base_uri": "https://localhost:8080/"
    },
    "id": "3oKJ_0BRSqDI",
    "outputId": "f6e288ca-583e-457b-ed2d-97fb25311531"
   },
   "outputs": [
    {
     "data": {
      "text/plain": [
       "['Mauritania', 'Oman', 'Gabon', 'Malta', 'Libya']"
      ]
     },
     "execution_count": 28,
     "metadata": {},
     "output_type": "execute_result"
    }
   ],
   "source": [
    "# 国名確認\n",
    "countries[:5]"
   ]
  },
  {
   "cell_type": "code",
   "execution_count": 29,
   "metadata": {
    "id": "NSiOkfdMQOuu"
   },
   "outputs": [],
   "source": [
    "# 単語ベクトル抽出\n",
    "countries_vec = [model[country] for country in countries]\n",
    "\n",
    "#print(countries_vec[0])"
   ]
  },
  {
   "cell_type": "markdown",
   "metadata": {
    "id": "5tiyMOyKQiXQ"
   },
   "source": [
    "sklearn.cluster.KMeans を使ってk-meansクラスタリングを行う"
   ]
  },
  {
   "cell_type": "code",
   "execution_count": 30,
   "metadata": {
    "colab": {
     "base_uri": "https://localhost:8080/",
     "height": 128
    },
    "id": "QRPPztjBVwbs",
    "outputId": "e960f67e-4016-45a3-c71f-4d141bf836fe"
   },
   "outputs": [
    {
     "name": "stderr",
     "output_type": "stream",
     "text": [
      "/opt/anaconda3/lib/python3.11/site-packages/sklearn/cluster/_kmeans.py:870: FutureWarning: The default value of `n_init` will change from 10 to 'auto' in 1.4. Set the value of `n_init` explicitly to suppress the warning\n",
      "  warnings.warn(\n"
     ]
    },
    {
     "data": {
      "text/html": [
       "<style>#sk-container-id-1 {color: black;background-color: white;}#sk-container-id-1 pre{padding: 0;}#sk-container-id-1 div.sk-toggleable {background-color: white;}#sk-container-id-1 label.sk-toggleable__label {cursor: pointer;display: block;width: 100%;margin-bottom: 0;padding: 0.3em;box-sizing: border-box;text-align: center;}#sk-container-id-1 label.sk-toggleable__label-arrow:before {content: \"▸\";float: left;margin-right: 0.25em;color: #696969;}#sk-container-id-1 label.sk-toggleable__label-arrow:hover:before {color: black;}#sk-container-id-1 div.sk-estimator:hover label.sk-toggleable__label-arrow:before {color: black;}#sk-container-id-1 div.sk-toggleable__content {max-height: 0;max-width: 0;overflow: hidden;text-align: left;background-color: #f0f8ff;}#sk-container-id-1 div.sk-toggleable__content pre {margin: 0.2em;color: black;border-radius: 0.25em;background-color: #f0f8ff;}#sk-container-id-1 input.sk-toggleable__control:checked~div.sk-toggleable__content {max-height: 200px;max-width: 100%;overflow: auto;}#sk-container-id-1 input.sk-toggleable__control:checked~label.sk-toggleable__label-arrow:before {content: \"▾\";}#sk-container-id-1 div.sk-estimator input.sk-toggleable__control:checked~label.sk-toggleable__label {background-color: #d4ebff;}#sk-container-id-1 div.sk-label input.sk-toggleable__control:checked~label.sk-toggleable__label {background-color: #d4ebff;}#sk-container-id-1 input.sk-hidden--visually {border: 0;clip: rect(1px 1px 1px 1px);clip: rect(1px, 1px, 1px, 1px);height: 1px;margin: -1px;overflow: hidden;padding: 0;position: absolute;width: 1px;}#sk-container-id-1 div.sk-estimator {font-family: monospace;background-color: #f0f8ff;border: 1px dotted black;border-radius: 0.25em;box-sizing: border-box;margin-bottom: 0.5em;}#sk-container-id-1 div.sk-estimator:hover {background-color: #d4ebff;}#sk-container-id-1 div.sk-parallel-item::after {content: \"\";width: 100%;border-bottom: 1px solid gray;flex-grow: 1;}#sk-container-id-1 div.sk-label:hover label.sk-toggleable__label {background-color: #d4ebff;}#sk-container-id-1 div.sk-serial::before {content: \"\";position: absolute;border-left: 1px solid gray;box-sizing: border-box;top: 0;bottom: 0;left: 50%;z-index: 0;}#sk-container-id-1 div.sk-serial {display: flex;flex-direction: column;align-items: center;background-color: white;padding-right: 0.2em;padding-left: 0.2em;position: relative;}#sk-container-id-1 div.sk-item {position: relative;z-index: 1;}#sk-container-id-1 div.sk-parallel {display: flex;align-items: stretch;justify-content: center;background-color: white;position: relative;}#sk-container-id-1 div.sk-item::before, #sk-container-id-1 div.sk-parallel-item::before {content: \"\";position: absolute;border-left: 1px solid gray;box-sizing: border-box;top: 0;bottom: 0;left: 50%;z-index: -1;}#sk-container-id-1 div.sk-parallel-item {display: flex;flex-direction: column;z-index: 1;position: relative;background-color: white;}#sk-container-id-1 div.sk-parallel-item:first-child::after {align-self: flex-end;width: 50%;}#sk-container-id-1 div.sk-parallel-item:last-child::after {align-self: flex-start;width: 50%;}#sk-container-id-1 div.sk-parallel-item:only-child::after {width: 0;}#sk-container-id-1 div.sk-dashed-wrapped {border: 1px dashed gray;margin: 0 0.4em 0.5em 0.4em;box-sizing: border-box;padding-bottom: 0.4em;background-color: white;}#sk-container-id-1 div.sk-label label {font-family: monospace;font-weight: bold;display: inline-block;line-height: 1.2em;}#sk-container-id-1 div.sk-label-container {text-align: center;}#sk-container-id-1 div.sk-container {/* jupyter's `normalize.less` sets `[hidden] { display: none; }` but bootstrap.min.css set `[hidden] { display: none !important; }` so we also need the `!important` here to be able to override the default hidden behavior on the sphinx rendered scikit-learn.org. See: https://github.com/scikit-learn/scikit-learn/issues/21755 */display: inline-block !important;position: relative;}#sk-container-id-1 div.sk-text-repr-fallback {display: none;}</style><div id=\"sk-container-id-1\" class=\"sk-top-container\"><div class=\"sk-text-repr-fallback\"><pre>KMeans(n_clusters=5)</pre><b>In a Jupyter environment, please rerun this cell to show the HTML representation or trust the notebook. <br />On GitHub, the HTML representation is unable to render, please try loading this page with nbviewer.org.</b></div><div class=\"sk-container\" hidden><div class=\"sk-item\"><div class=\"sk-estimator sk-toggleable\"><input class=\"sk-toggleable__control sk-hidden--visually\" id=\"sk-estimator-id-1\" type=\"checkbox\" checked><label for=\"sk-estimator-id-1\" class=\"sk-toggleable__label sk-toggleable__label-arrow\">KMeans</label><div class=\"sk-toggleable__content\"><pre>KMeans(n_clusters=5)</pre></div></div></div></div></div>"
      ],
      "text/plain": [
       "KMeans(n_clusters=5)"
      ]
     },
     "execution_count": 30,
     "metadata": {},
     "output_type": "execute_result"
    }
   ],
   "source": [
    "from sklearn.cluster import KMeans\n",
    "\n",
    "# k-meansクラスタリング\n",
    "kmeans = KMeans(n_clusters=5) # クラスタ数=5\n",
    "kmeans.fit(countries_vec)"
   ]
  },
  {
   "cell_type": "code",
   "execution_count": null,
   "metadata": {
    "colab": {
     "base_uri": "https://localhost:8080/"
    },
    "id": "XWJSuD20Q2Ps",
    "outputId": "7edd1034-c801-4336-9a9a-ae3f4fd37b8b"
   },
   "outputs": [
    {
     "name": "stdout",
     "output_type": "stream",
     "text": [
      "cluster 0\n",
      "Montenegro, Slovenia, Georgia, Albania, Uzbekistan, Ukraine, Latvia, Lithuania, Cyprus, Russia, Poland, Croatia, Turkey, Kazakhstan, Moldova, Tajikistan, Greece, Kyrgyzstan, Azerbaijan, Serbia, Bulgaria, Macedonia, Estonia, Hungary, Slovakia, Belarus, Romania, Armenia, Turkmenistan\n",
      "cluster 1\n",
      "Jamaica, Suriname, Mexico, Dominica, Argentina, Nicaragua, Chile, Uruguay, Honduras, Belize, Peru, Colombia, Brazil, Ecuador, Bahamas, Cuba, Venezuela, Guyana\n",
      "cluster 2\n",
      "Ghana, Liberia, Madagascar, Somalia, Gabon, Tunisia, Algeria, Gambia, Niger, Angola, Sudan, Burundi, Guinea, Uganda, Zambia, Nigeria, Mauritania, Rwanda, Senegal, Zimbabwe, Botswana, Malawi, Mozambique, Mali, Libya, Eritrea, Kenya, Namibia\n",
      "cluster 3\n",
      "Iran, Nepal, Indonesia, Korea, Egypt, India, Syria, China, Bahrain, Vietnam, Israel, Bangladesh, Cambodia, Qatar, Laos, Fiji, Japan, Taiwan, Bhutan, Malaysia, Iraq, Oman, Lebanon, Pakistan, Jordan, Philippines, Thailand, Afghanistan\n",
      "cluster 4\n",
      "Netherlands, Portugal, Tuvalu, Samoa, Germany, Greenland, Ireland, France, Italy, Switzerland, Denmark, Spain, Morocco, Finland, Europe, Canada, Austria, Liechtenstein, Malta, Belgium, England, Sweden, USA, Australia, Norway, Iceland\n"
     ]
    }
   ],
   "source": [
    "import numpy as np\n",
    "\n",
    "# 結果\n",
    "for i in range(5):\n",
    "    cluster = np.where(kmeans.labels_ == i)[0]\n",
    "    print('cluster', i)\n",
    "    print(', '.join([countries[k] for k in cluster]))"
   ]
  },
  {
   "cell_type": "markdown",
   "metadata": {
    "id": "S48lnxfces1Z"
   },
   "source": [
    "## 68. Ward法によるクラスタリング\n",
    "***\n",
    "国名に関する単語ベクトルに対し，Ward法による階層型クラスタリングを実行せよ．さらに，クラスタリング結果をデンドログラムとして可視化せよ．"
   ]
  },
  {
   "cell_type": "code",
   "execution_count": 31,
   "metadata": {
    "colab": {
     "base_uri": "https://localhost:8080/",
     "height": 455
    },
    "id": "-TjO09iSY1RX",
    "outputId": "93128d27-a434-4c8a-9a35-6c0e6e67eb96"
   },
   "outputs": [
    {
     "data": {
      "image/png": "[encoded data removed]",
      "text/plain": [
       "<Figure size 2400x800 with 1 Axes>"
      ]
     },
     "metadata": {},
     "output_type": "display_data"
    }
   ],
   "source": [
    "from matplotlib import pyplot as plt\n",
    "from scipy.cluster.hierarchy import dendrogram, linkage\n",
    "\n",
    "plt.figure(figsize=(24, 8))\n",
    "Z = linkage(countries_vec, method='ward')\n",
    "dendrogram(Z, labels=countries)\n",
    "plt.show()"
   ]
  },
  {
   "cell_type": "markdown",
   "metadata": {
    "id": "WuBQ5JzUfEpa"
   },
   "source": [
    "## 69. t-SNEによる可視化\n",
    "***\n",
    "国名に関する単語ベクトルのベクトル空間をt-SNEで可視化せよ．"
   ]
  },
  {
   "cell_type": "code",
   "execution_count": 33,
   "metadata": {},
   "outputs": [
    {
     "name": "stdout",
     "output_type": "stream",
     "text": [
      "Collecting cython\n",
      "  Downloading Cython-3.0.10-py2.py3-none-any.whl.metadata (3.2 kB)\n",
      "Downloading Cython-3.0.10-py2.py3-none-any.whl (1.2 MB)\n",
      "\u001b[2K   \u001b[90m━━━━━━━━━━━━━━━━━━━━━━━━━━━━━━━━━━━━━━━━\u001b[0m \u001b[32m1.2/1.2 MB\u001b[0m \u001b[31m19.5 MB/s\u001b[0m eta \u001b[36m0:00:00\u001b[0ma \u001b[36m0:00:01\u001b[0m\n",
      "\u001b[?25hInstalling collected packages: cython\n",
      "Successfully installed cython-3.0.10\n",
      "Note: you may need to restart the kernel to use updated packages.\n"
     ]
    }
   ],
   "source": [
    "pip install cython"
   ]
  },
  {
   "cell_type": "code",
   "execution_count": 34,
   "metadata": {
    "colab": {
     "base_uri": "https://localhost:8080/"
    },
    "id": "okJ8hTl8TInW",
    "outputId": "2d7e89f8-bd7c-48a7-a732-94b8150b9901"
   },
   "outputs": [
    {
     "name": "stdout",
     "output_type": "stream",
     "text": [
      "Collecting bhtsne\n",
      "  Using cached bhtsne-0.1.9.tar.gz (86 kB)\n",
      "  Preparing metadata (setup.py) ... \u001b[?25ldone\n",
      "\u001b[?25hRequirement already satisfied: numpy in /opt/anaconda3/lib/python3.11/site-packages (from bhtsne) (1.26.4)\n",
      "Requirement already satisfied: cython in /opt/anaconda3/lib/python3.11/site-packages (from bhtsne) (3.0.10)\n",
      "Building wheels for collected packages: bhtsne\n",
      "  Building wheel for bhtsne (setup.py) ... \u001b[?25ldone\n",
      "\u001b[?25h  Created wheel for bhtsne: filename=bhtsne-0.1.9-cp311-cp311-macosx_11_0_arm64.whl size=50396 sha256=17f3c728dd3e6c9f5a9f56ca72c18f73d547403167d8e49027a123bd0bd07064\n",
      "  Stored in directory: /Users/ishitoyayuri/Library/Caches/pip/wheels/c7/e0/05/ef25429ca93e3ccaddddb1ed036fb692b6b99f078b83937842\n",
      "Successfully built bhtsne\n",
      "Installing collected packages: bhtsne\n",
      "Successfully installed bhtsne-0.1.9\n"
     ]
    }
   ],
   "source": [
    "# bhtsne　ライブラリのインストール\n",
    "!pip install bhtsne"
   ]
  },
  {
   "cell_type": "code",
   "execution_count": 36,
   "metadata": {
    "colab": {
     "base_uri": "https://localhost:8080/",
     "height": 830
    },
    "id": "Z9o31y_RZMIH",
    "outputId": "4536d852-c680-46bc-d2e5-aa7351d986c6"
   },
   "outputs": [
    {
     "data": {
      "image/png": "[encoded data removed]",
      "text/plain": [
       "<Figure size 1000x1000 with 1 Axes>"
      ]
     },
     "metadata": {},
     "output_type": "display_data"
    }
   ],
   "source": [
    "import numpy as np\n",
    "import bhtsne\n",
    "\n",
    "embedded = bhtsne.tsne(np.array(countries_vec).astype(np.float64), dimensions=2, rand_seed=123)\n",
    "\n",
    "plt.figure(figsize=(10, 10))\n",
    "plt.scatter(np.array(embedded).T[0], np.array(embedded).T[1])\n",
    "for (x, y), name in zip(embedded, countries):\n",
    "    plt.annotate(name, (x, y))\n",
    "plt.show()"
   ]
  },
  {
   "cell_type": "markdown",
   "metadata": {
    "id": "RnAb1gIGjls_"
   },
   "source": [
    "７章おしまい。お疲れ様です！"
   ]
  },
  {
   "cell_type": "markdown",
   "metadata": {
    "id": "-pzxYdWijqps"
   },
   "source": [
    "ちょっと休憩がてら遊びましょう！"
   ]
  },
  {
   "cell_type": "code",
   "execution_count": null,
   "metadata": {
    "colab": {
     "base_uri": "https://localhost:8080/"
    },
    "id": "Ld1VZYBmyhH0",
    "outputId": "4db8daa3-ba8f-4515-e3c0-21c5bf85873a"
   },
   "outputs": [
    {
     "name": "stdout",
     "output_type": "stream",
     "text": [
      "['car', 'bus', 'train', 'bicycle', 'motorcycle', 'boat', 'ship', 'airplane', 'helicopter', 'subway', 'tram', 'trolleybus', 'scooter', 'skateboard', 'rollerblades', 'rickshaw', 'skis', 'snowboard', 'horse', 'camel', 'elephant', 'sailboat', 'yacht', 'canoe', 'kayak', 'hot air balloon', 'parachute', 'jet ski', 'gondola', 'rocket']\n"
     ]
    }
   ],
   "source": [
    "vehicles = [\"car\", \"bus\", \"train\", \"bicycle\", \"motorcycle\", \"boat\", \"ship\", \"airplane\", \"helicopter\",\n",
    "            \"subway\", \"tram\", \"trolleybus\", \"scooter\", \"skateboard\", \"rollerblades\", \"rickshaw\", \"skis\",\n",
    "            \"snowboard\", \"horse\", \"camel\", \"elephant\", \"sailboat\", \"yacht\", \"canoe\", \"kayak\",\n",
    "            \"hot air balloon\", \"parachute\", \"jet ski\", \"gondola\", \"rocket\"]\n",
    "\n",
    "print(vehicles)"
   ]
  },
  {
   "cell_type": "code",
   "execution_count": null,
   "metadata": {
    "colab": {
     "base_uri": "https://localhost:8080/"
    },
    "id": "T0VzjvXiyi01",
    "outputId": "c6c4d830-93ca-430d-dd0f-2cc1a4e19aea"
   },
   "outputs": [
    {
     "name": "stdout",
     "output_type": "stream",
     "text": [
      "['pop', 'rock', 'hip hop', 'jazz', 'classical', 'electronic', 'folk', 'reggae', 'country', 'blues', 'heavy metal', 'punk', 'r&b', 'soul', 'funk', 'latin', 'world', 'indie', 'alternative', 'experimental', 'gospel', 'dance', 'ambient', 'reggaeton', 'k-pop', 'trap', 'grunge', 'house', 'techno', 'ska']\n"
     ]
    }
   ],
   "source": [
    "music_genres = [\"pop\", \"rock\", \"hip hop\", \"jazz\", \"classical\", \"electronic\", \"folk\", \"reggae\", \"country\",\n",
    "                \"blues\", \"heavy metal\", \"punk\", \"r&b\", \"soul\", \"funk\", \"latin\", \"world\", \"indie\", \"alternative\",\n",
    "                \"experimental\", \"gospel\", \"dance\", \"ambient\", \"reggaeton\", \"k-pop\", \"trap\", \"grunge\", \"house\",\n",
    "                \"techno\", \"ska\"]\n",
    "\n",
    "print(music_genres)"
   ]
  },
  {
   "cell_type": "code",
   "execution_count": null,
   "metadata": {
    "colab": {
     "base_uri": "https://localhost:8080/"
    },
    "id": "atQnorQOyoip",
    "outputId": "d2c06ac5-411a-4961-c619-f4e1339c0910"
   },
   "outputs": [
    {
     "name": "stdout",
     "output_type": "stream",
     "text": [
      "['elephant', 'tiger', 'lion', 'giraffe', 'zebra', 'monkey', 'kangaroo', 'panda', 'koala', 'cheetah', 'leopard', 'rhinoceros', 'hippopotamus', 'gazelle', 'crocodile', 'alligator', 'bear', 'wolf', 'fox', 'deer', 'elephant seal', 'seagull', 'whale', 'dolphin', 'shark', 'octopus', 'jellyfish', 'starfish', 'butterfly', 'bee']\n"
     ]
    }
   ],
   "source": [
    "animals = [\"elephant\", \"tiger\", \"lion\", \"giraffe\", \"zebra\", \"monkey\", \"kangaroo\", \"panda\", \"koala\", \"cheetah\",\n",
    "           \"leopard\", \"rhinoceros\", \"hippopotamus\", \"gazelle\", \"crocodile\", \"alligator\", \"bear\", \"wolf\", \"fox\",\n",
    "           \"deer\", \"elephant seal\", \"seagull\", \"whale\", \"dolphin\", \"shark\", \"octopus\", \"jellyfish\", \"starfish\",\n",
    "           \"butterfly\", \"bee\"]\n",
    "\n",
    "print(animals)"
   ]
  },
  {
   "cell_type": "code",
   "execution_count": null,
   "metadata": {
    "colab": {
     "base_uri": "https://localhost:8080/"
    },
    "id": "SPDVrXulyvjB",
    "outputId": "8d7d6ea7-75a2-459e-d1ab-1cf2b182ce12"
   },
   "outputs": [
    {
     "name": "stdout",
     "output_type": "stream",
     "text": [
      "['pizza', 'hamburger', 'sushi', 'pasta', 'curry', 'steak', 'chicken', 'salad', 'ramen', 'taco', 'sandwich', 'sashimi', 'soup', 'grilled cheese', 'hot dog', 'fried chicken', 'sashimi', 'rice', 'noodles', 'sashimi', 'fish and chips', 'spaghetti', 'sushi roll', 'lobster', 'crab', 'shrimp', 'sashimi', 'beef stew', 'sashimi', 'ice cream']\n"
     ]
    }
   ],
   "source": [
    "foods = [\"pizza\", \"hamburger\", \"sushi\", \"pasta\", \"curry\", \"steak\", \"chicken\", \"salad\", \"ramen\", \"taco\",\n",
    "         \"sandwich\", \"sashimi\", \"soup\", \"grilled cheese\", \"hot dog\", \"fried chicken\", \"sashimi\", \"rice\",\n",
    "         \"noodles\", \"sashimi\", \"fish and chips\", \"spaghetti\", \"sushi roll\", \"lobster\", \"crab\", \"shrimp\",\n",
    "         \"sashimi\", \"beef stew\", \"sashimi\", \"ice cream\"]\n",
    "\n",
    "print(foods)"
   ]
  },
  {
   "cell_type": "code",
   "execution_count": null,
   "metadata": {
    "colab": {
     "base_uri": "https://localhost:8080/"
    },
    "id": "apfOJr8Xy14W",
    "outputId": "42fbe936-62e1-4e18-f35e-cac8b8971d2d"
   },
   "outputs": [
    {
     "name": "stdout",
     "output_type": "stream",
     "text": [
      "['mathematics', 'history', 'biology', 'chemistry', 'physics', 'english', 'geography', 'computer science', 'economics', 'psychology', 'sociology', 'philosophy', 'art', 'music', 'physical education', 'foreign language', 'political science', 'statistics', 'business', 'calculus', 'literature', 'environmental science', 'social studies', 'health', 'anthropology', 'communication', 'law', 'astronomy', 'religion', 'architecture']\n"
     ]
    }
   ],
   "source": [
    "subjects = [\"mathematics\", \"history\", \"biology\", \"chemistry\", \"physics\", \"english\", \"geography\", \"computer science\",\n",
    "            \"economics\", \"psychology\", \"sociology\", \"philosophy\", \"art\", \"music\", \"physical education\", \"foreign language\",\n",
    "            \"political science\", \"statistics\", \"business\", \"calculus\", \"literature\", \"environmental science\",\n",
    "            \"social studies\", \"health\", \"anthropology\", \"communication\", \"law\", \"astronomy\", \"religion\", \"architecture\"]\n",
    "\n",
    "print(subjects)"
   ]
  },
  {
   "cell_type": "code",
   "execution_count": null,
   "metadata": {
    "colab": {
     "base_uri": "https://localhost:8080/"
    },
    "id": "ZOV7dWN3y7b8",
    "outputId": "485dfe59-9dd3-4f4e-b0d5-fd27ae45346d"
   },
   "outputs": [
    {
     "name": "stdout",
     "output_type": "stream",
     "text": [
      "['red', 'blue', 'green', 'yellow', 'orange', 'purple', 'pink', 'brown', 'black', 'white', 'gray', 'turquoise', 'maroon', 'navy', 'teal', 'gold', 'silver', 'violet', 'indigo', 'magenta', 'beige', 'coral', 'olive', 'salmon', 'peach', 'khaki', 'lavender', 'chartreuse', 'fuchsia', 'aqua']\n"
     ]
    }
   ],
   "source": [
    "colors = [\"red\", \"blue\", \"green\", \"yellow\", \"orange\", \"purple\", \"pink\", \"brown\", \"black\", \"white\",\n",
    "          \"gray\", \"turquoise\", \"maroon\", \"navy\", \"teal\", \"gold\", \"silver\", \"violet\", \"indigo\", \"magenta\",\n",
    "          \"beige\", \"coral\", \"olive\", \"salmon\", \"peach\", \"khaki\", \"lavender\", \"chartreuse\", \"fuchsia\", \"aqua\"]\n",
    "\n",
    "print(colors)"
   ]
  },
  {
   "cell_type": "code",
   "execution_count": null,
   "metadata": {
    "colab": {
     "base_uri": "https://localhost:8080/"
    },
    "id": "VaqHqqW9zAu1",
    "outputId": "16e1a511-e0b2-4931-d57f-73604f108c20"
   },
   "outputs": [
    {
     "name": "stdout",
     "output_type": "stream",
     "text": [
      "['football', 'basketball', 'soccer', 'baseball', 'tennis', 'golf', 'swimming', 'volleyball', 'hockey', 'cricket', 'rugby', 'badminton', 'track and field', 'cycling', 'boxing', 'wrestling', 'gymnastics', 'weightlifting', 'skiing', 'snowboarding', 'figure skating', 'archery', 'rowing', 'canoeing', 'surfing', 'diving', 'table tennis', 'triathlon', 'horse racing', 'martial arts']\n"
     ]
    }
   ],
   "source": [
    "sports_lst = [\"football\", \"basketball\", \"soccer\", \"baseball\", \"tennis\", \"golf\", \"swimming\", \"volleyball\", \"hockey\", \"cricket\",\n",
    "          \"rugby\", \"badminton\", \"track and field\", \"cycling\", \"boxing\", \"wrestling\", \"gymnastics\", \"weightlifting\",\n",
    "          \"skiing\", \"snowboarding\", \"figure skating\", \"archery\", \"rowing\", \"canoeing\", \"surfing\", \"diving\", \"table tennis\",\n",
    "          \"triathlon\", \"horse racing\", \"martial arts\"]\n",
    "\n",
    "print(sports_lst)"
   ]
  },
  {
   "cell_type": "code",
   "execution_count": null,
   "metadata": {
    "colab": {
     "base_uri": "https://localhost:8080/"
    },
    "id": "eHH3hj9_zQ2L",
    "outputId": "ffdba2ee-5291-42f7-8b94-7bfbe1a7670d"
   },
   "outputs": [
    {
     "name": "stdout",
     "output_type": "stream",
     "text": [
      "['a', 'b', 'c', 'd', 'e', 'f', 'g', 'h', 'i', 'j', 'k', 'l', 'm', 'n', 'o', 'p', 'q', 'r', 's', 't', 'u', 'v', 'w', 'x', 'y', 'z', 'A', 'B', 'C', 'D', 'E', 'F', 'G', 'H', 'I', 'J', 'K', 'L', 'M', 'N', 'O', 'P', 'Q', 'R', 'S', 'T', 'U', 'V', 'W', 'X', 'Y', 'Z']\n"
     ]
    }
   ],
   "source": [
    "alphabet = [\"a\", \"b\", \"c\", \"d\", \"e\", \"f\", \"g\", \"h\", \"i\", \"j\",\n",
    "            \"k\", \"l\", \"m\", \"n\", \"o\", \"p\", \"q\", \"r\", \"s\", \"t\",\n",
    "            \"u\", \"v\", \"w\", \"x\", \"y\", \"z\", \"A\", \"B\", \"C\", \"D\",\n",
    "            \"E\", \"F\", \"G\", \"H\", \"I\", \"J\", \"K\", \"L\", \"M\", \"N\",\n",
    "            \"O\", \"P\", \"Q\", \"R\", \"S\", \"T\", \"U\", \"V\", \"W\", \"X\",\n",
    "            \"Y\", \"Z\"]\n",
    "\n",
    "print(alphabet)"
   ]
  },
  {
   "cell_type": "markdown",
   "metadata": {
    "id": "kZTE7Ck_mDLt"
   },
   "source": [
    "単語のリストから、単語と単語ベクトルの辞書に変換する関数を作る。"
   ]
  },
  {
   "cell_type": "code",
   "execution_count": null,
   "metadata": {
    "id": "qQjrcauZmIwO"
   },
   "outputs": [],
   "source": [
    "def wordlst2dic(w_lst):\n",
    "  w2wv_dic={}\n",
    "\n",
    "  for word in w_lst:\n",
    "    try:\n",
    "      w2wv_dic[word]=model[word]\n",
    "    except KeyError:\n",
    "      #print(\"The word {} does not exist in the vocabulary.\".format(w))\n",
    "      pass\n",
    "\n",
    "  return w2wv_dic"
   ]
  },
  {
   "cell_type": "code",
   "execution_count": null,
   "metadata": {
    "id": "bBaO5tPZpn9n"
   },
   "outputs": [],
   "source": [
    "sports_dic = wordlst2dic(sports_lst)"
   ]
  },
  {
   "cell_type": "markdown",
   "metadata": {
    "id": "LtZzJREL9uT0"
   },
   "source": [
    "## 67'. k-meansクラスタリング\n",
    "***\n",
    "いろいろなジャンルについて単語ベクトルを抽出し、k-meansクラスタリングをしてみよう！\n",
    "例えば、乗り物・音楽ジャンル・アルファベット・動物・食べ物・科目・色・スポーツなど。"
   ]
  },
  {
   "cell_type": "code",
   "execution_count": null,
   "metadata": {
    "colab": {
     "base_uri": "https://localhost:8080/",
     "height": 128
    },
    "id": "a_6_vpQP-DMO",
    "outputId": "f5b35cc8-55a8-4966-f162-0f20e525a67c"
   },
   "outputs": [
    {
     "name": "stderr",
     "output_type": "stream",
     "text": [
      "/usr/local/lib/python3.10/dist-packages/sklearn/cluster/_kmeans.py:870: FutureWarning: The default value of `n_init` will change from 10 to 'auto' in 1.4. Set the value of `n_init` explicitly to suppress the warning\n",
      "  warnings.warn(\n"
     ]
    },
    {
     "data": {
      "text/html": [
       "<style>#sk-container-id-2 {color: black;background-color: white;}#sk-container-id-2 pre{padding: 0;}#sk-container-id-2 div.sk-toggleable {background-color: white;}#sk-container-id-2 label.sk-toggleable__label {cursor: pointer;display: block;width: 100%;margin-bottom: 0;padding: 0.3em;box-sizing: border-box;text-align: center;}#sk-container-id-2 label.sk-toggleable__label-arrow:before {content: \"▸\";float: left;margin-right: 0.25em;color: #696969;}#sk-container-id-2 label.sk-toggleable__label-arrow:hover:before {color: black;}#sk-container-id-2 div.sk-estimator:hover label.sk-toggleable__label-arrow:before {color: black;}#sk-container-id-2 div.sk-toggleable__content {max-height: 0;max-width: 0;overflow: hidden;text-align: left;background-color: #f0f8ff;}#sk-container-id-2 div.sk-toggleable__content pre {margin: 0.2em;color: black;border-radius: 0.25em;background-color: #f0f8ff;}#sk-container-id-2 input.sk-toggleable__control:checked~div.sk-toggleable__content {max-height: 200px;max-width: 100%;overflow: auto;}#sk-container-id-2 input.sk-toggleable__control:checked~label.sk-toggleable__label-arrow:before {content: \"▾\";}#sk-container-id-2 div.sk-estimator input.sk-toggleable__control:checked~label.sk-toggleable__label {background-color: #d4ebff;}#sk-container-id-2 div.sk-label input.sk-toggleable__control:checked~label.sk-toggleable__label {background-color: #d4ebff;}#sk-container-id-2 input.sk-hidden--visually {border: 0;clip: rect(1px 1px 1px 1px);clip: rect(1px, 1px, 1px, 1px);height: 1px;margin: -1px;overflow: hidden;padding: 0;position: absolute;width: 1px;}#sk-container-id-2 div.sk-estimator {font-family: monospace;background-color: #f0f8ff;border: 1px dotted black;border-radius: 0.25em;box-sizing: border-box;margin-bottom: 0.5em;}#sk-container-id-2 div.sk-estimator:hover {background-color: #d4ebff;}#sk-container-id-2 div.sk-parallel-item::after {content: \"\";width: 100%;border-bottom: 1px solid gray;flex-grow: 1;}#sk-container-id-2 div.sk-label:hover label.sk-toggleable__label {background-color: #d4ebff;}#sk-container-id-2 div.sk-serial::before {content: \"\";position: absolute;border-left: 1px solid gray;box-sizing: border-box;top: 0;bottom: 0;left: 50%;z-index: 0;}#sk-container-id-2 div.sk-serial {display: flex;flex-direction: column;align-items: center;background-color: white;padding-right: 0.2em;padding-left: 0.2em;position: relative;}#sk-container-id-2 div.sk-item {position: relative;z-index: 1;}#sk-container-id-2 div.sk-parallel {display: flex;align-items: stretch;justify-content: center;background-color: white;position: relative;}#sk-container-id-2 div.sk-item::before, #sk-container-id-2 div.sk-parallel-item::before {content: \"\";position: absolute;border-left: 1px solid gray;box-sizing: border-box;top: 0;bottom: 0;left: 50%;z-index: -1;}#sk-container-id-2 div.sk-parallel-item {display: flex;flex-direction: column;z-index: 1;position: relative;background-color: white;}#sk-container-id-2 div.sk-parallel-item:first-child::after {align-self: flex-end;width: 50%;}#sk-container-id-2 div.sk-parallel-item:last-child::after {align-self: flex-start;width: 50%;}#sk-container-id-2 div.sk-parallel-item:only-child::after {width: 0;}#sk-container-id-2 div.sk-dashed-wrapped {border: 1px dashed gray;margin: 0 0.4em 0.5em 0.4em;box-sizing: border-box;padding-bottom: 0.4em;background-color: white;}#sk-container-id-2 div.sk-label label {font-family: monospace;font-weight: bold;display: inline-block;line-height: 1.2em;}#sk-container-id-2 div.sk-label-container {text-align: center;}#sk-container-id-2 div.sk-container {/* jupyter's `normalize.less` sets `[hidden] { display: none; }` but bootstrap.min.css set `[hidden] { display: none !important; }` so we also need the `!important` here to be able to override the default hidden behavior on the sphinx rendered scikit-learn.org. See: https://github.com/scikit-learn/scikit-learn/issues/21755 */display: inline-block !important;position: relative;}#sk-container-id-2 div.sk-text-repr-fallback {display: none;}</style><div id=\"sk-container-id-2\" class=\"sk-top-container\"><div class=\"sk-text-repr-fallback\"><pre>KMeans(n_clusters=5)</pre><b>In a Jupyter environment, please rerun this cell to show the HTML representation or trust the notebook. <br />On GitHub, the HTML representation is unable to render, please try loading this page with nbviewer.org.</b></div><div class=\"sk-container\" hidden><div class=\"sk-item\"><div class=\"sk-estimator sk-toggleable\"><input class=\"sk-toggleable__control sk-hidden--visually\" id=\"sk-estimator-id-2\" type=\"checkbox\" checked><label for=\"sk-estimator-id-2\" class=\"sk-toggleable__label sk-toggleable__label-arrow\">KMeans</label><div class=\"sk-toggleable__content\"><pre>KMeans(n_clusters=5)</pre></div></div></div></div></div>"
      ],
      "text/plain": [
       "KMeans(n_clusters=5)"
      ]
     },
     "execution_count": 50,
     "metadata": {},
     "output_type": "execute_result"
    }
   ],
   "source": [
    "from sklearn.cluster import KMeans\n",
    "\n",
    "kmeans = KMeans(n_clusters=5) # クラスタ数=\n",
    "kmeans.fit(list(sports_dic.values()))"
   ]
  },
  {
   "cell_type": "code",
   "execution_count": null,
   "metadata": {
    "colab": {
     "base_uri": "https://localhost:8080/"
    },
    "id": "mTHeUlj8Ynm-",
    "outputId": "2f3f3fef-09b6-495c-8086-3da73d89ab12"
   },
   "outputs": [
    {
     "data": {
      "text/plain": [
       "array([2, 2, 2, 2, 2, 2, 1, 2, 2, 0, 0, 2, 1, 2, 2, 1, 1, 1, 1, 1, 1, 1,\n",
       "       1, 1, 1], dtype=int32)"
      ]
     },
     "execution_count": 141,
     "metadata": {},
     "output_type": "execute_result"
    }
   ],
   "source": [
    "kmeans.labels_"
   ]
  },
  {
   "cell_type": "code",
   "execution_count": null,
   "metadata": {
    "colab": {
     "base_uri": "https://localhost:8080/"
    },
    "id": "_sqtsrmEYPa0",
    "outputId": "0b3025d4-2ab5-4043-be5c-d4966c49a6d5"
   },
   "outputs": [
    {
     "name": "stdout",
     "output_type": "stream",
     "text": [
      "cluster 0\n",
      "surfing, diving\n",
      "cluster 1\n",
      "football, basketball, soccer, baseball, tennis, golf, volleyball, hockey, boxing, wrestling\n",
      "cluster 2\n",
      "swimming, badminton, gymnastics, weightlifting, archery, rowing, triathlon\n",
      "cluster 3\n",
      "cycling, skiing, snowboarding, canoeing\n",
      "cluster 4\n",
      "cricket, rugby\n"
     ]
    }
   ],
   "source": [
    "# 結果\n",
    "for i in range(5):\n",
    "    cluster = np.where(kmeans.labels_ == i)[0]\n",
    "    print('cluster', i)\n",
    "    print(', '.join([list(sports_dic.keys())[k] for k in cluster]))"
   ]
  },
  {
   "cell_type": "markdown",
   "metadata": {
    "id": "B_BQk5qm-P0u"
   },
   "source": [
    "## 68'. Ward法によるクラスタリング\n",
    "***\n",
    "あるジャンルに関する単語ベクトルに対して、ward法による階層型クラスタリングを実行してみよう！さらにクラスタリング結果をデンドログラムとして可視化して、ぜひ画面共有してください。"
   ]
  },
  {
   "cell_type": "code",
   "execution_count": null,
   "metadata": {
    "colab": {
     "base_uri": "https://localhost:8080/",
     "height": 537
    },
    "id": "WawjgoDQ-nZF",
    "outputId": "6a082dd3-eb35-4cd2-a3de-ccbb13843862"
   },
   "outputs": [
    {
     "data": {
      "image/png": "[encoded data removed]",
      "text/plain": [
       "<Figure size 2400x800 with 1 Axes>"
      ]
     },
     "metadata": {},
     "output_type": "display_data"
    }
   ],
   "source": [
    "plt.figure(figsize=(24, 8))\n",
    "Z = linkage(list(sports_dic.values()), method='ward')\n",
    "dendrogram(Z, labels=list(sports_dic.keys()))\n",
    "plt.show()"
   ]
  },
  {
   "cell_type": "markdown",
   "metadata": {
    "id": "cgJ4Hd74-t3Y"
   },
   "source": [
    "## 69'. t-SNEによる可視化\n",
    "***\n",
    "ベクトル空間上のあるジャンルに関する単語ベクトルを t-SNE で可視化してみよう！"
   ]
  },
  {
   "cell_type": "code",
   "execution_count": null,
   "metadata": {
    "colab": {
     "base_uri": "https://localhost:8080/",
     "height": 445
    },
    "id": "DH5P6IQHlpJA",
    "outputId": "95371e07-3eb8-478f-a5d7-b51673ba91e5"
   },
   "outputs": [
    {
     "data": {
      "image/png": "[encoded data removed]",
      "text/plain": [
       "<Figure size 500x500 with 1 Axes>"
      ]
     },
     "metadata": {},
     "output_type": "display_data"
    }
   ],
   "source": [
    "from sklearn.manifold import TSNE\n",
    "import matplotlib.pyplot as plt\n",
    "\n",
    "Tsne = TSNE(n_components=2, random_state=0, perplexity=3)\n",
    "reduced_vectors = Tsne.fit_transform(np.array(list(sports_dic.values())))\n",
    "\n",
    "#print(reduced_vectors)\n",
    "\n",
    "plt.figure(figsize=(5, 5))\n",
    "plt.scatter(np.array(reduced_vectors).T[0], np.array(reduced_vectors).T[1])\n",
    "for i, v in enumerate(reduced_vectors):\n",
    "  name = list(sports_dic.keys())[i]\n",
    "  plt.annotate(name, (v[0], v[1]))\n",
    "plt.show()"
   ]
  },
  {
   "cell_type": "markdown",
   "metadata": {
    "id": "IhAPjc6s-6fB"
   },
   "source": [
    "## 追加. 文の特徴量\n",
    "***\n",
    "次は文の特徴量を出してみよう。"
   ]
  },
  {
   "cell_type": "code",
   "execution_count": null,
   "metadata": {
    "id": "jqOIX92k_KLB"
   },
   "outputs": [],
   "source": [
    "s1 = 'I ate apples.'\n",
    "s2 = 'I ate apples and oranges'"
   ]
  },
  {
   "cell_type": "markdown",
   "metadata": {
    "id": "OYvt9ysEl3x7"
   },
   "source": [
    "各単語ベクトルの平均を文の特徴量と今回は定義してみる。"
   ]
  },
  {
   "cell_type": "code",
   "execution_count": null,
   "metadata": {
    "id": "U7OiUJPRo-at"
   },
   "outputs": [],
   "source": [
    "import numpy as np\n",
    "\n",
    "def sentence2vector(sentence):\n",
    "  sentence = sentence.split(' ')\n",
    "  assert len(sentence)!=0\n",
    "\n",
    "  v_sum=np.zeros(300)\n",
    "  for w in sentence:\n",
    "    try:\n",
    "      v_sum = v_sum+model[w]\n",
    "    except KeyError:\n",
    "      #print(\"The word {} does not exist in the vocabulary.\".format(w))\n",
    "      pass\n",
    "\n",
    "  return v_sum/len(sentence) # numpy のブロードキャスト使用"
   ]
  },
  {
   "cell_type": "code",
   "execution_count": null,
   "metadata": {
    "id": "mEOMBGWtCy-w"
   },
   "outputs": [],
   "source": [
    "s1_v = sentence2vector(s1)\n",
    "s2_v = sentence2vector(s2)"
   ]
  },
  {
   "cell_type": "code",
   "execution_count": null,
   "metadata": {
    "colab": {
     "base_uri": "https://localhost:8080/"
    },
    "id": "8JOIevIyahDk",
    "outputId": "d17e0394-6d00-4cbc-c513-3b488eae3bef"
   },
   "outputs": [
    {
     "data": {
      "text/plain": [
       "array([-0.07175293,  0.00784912,  0.02284851,  0.19033203,  0.02658691,\n",
       "       -0.01207275,  0.10541992, -0.03984375, -0.06834679,  0.21357422,\n",
       "        0.05569   , -0.17705078, -0.0175415 ,  0.08046875, -0.17363281,\n",
       "        0.07412109, -0.07988281,  0.07680511, -0.06621094, -0.02075195,\n",
       "       -0.14243164,  0.10273438,  0.13496094,  0.04267578,  0.02402344,\n",
       "       -0.11343384, -0.17246094,  0.02976837, -0.09418945,  0.09125977,\n",
       "       -0.01484375,  0.05268555,  0.01175537,  0.01542969,  0.04793701,\n",
       "        0.06865234, -0.00775452, -0.14921875,  0.07929688,  0.21699219,\n",
       "        0.075     , -0.11748047,  0.11947021, -0.10356445,  0.01262207,\n",
       "       -0.06128998, -0.0960083 ,  0.00838928, -0.13754883,  0.06235352,\n",
       "       -0.06830444,  0.0559082 ,  0.01987   , -0.03757324, -0.07128906,\n",
       "       -0.00881348,  0.03100586,  0.03397217, -0.03967285, -0.14902344,\n",
       "        0.09414063,  0.15192871, -0.08662109,  0.03533936,  0.14106445,\n",
       "       -0.11020508, -0.14082031, -0.09765625,  0.00454102, -0.05603027,\n",
       "        0.16582031, -0.06173096, -0.01743164, -0.08239746, -0.25722656,\n",
       "       -0.08134766, -0.03969727, -0.04766235,  0.07514648,  0.08666534,\n",
       "       -0.10570068,  0.02988281,  0.02990723,  0.06005859, -0.16054688,\n",
       "       -0.06223145, -0.05341797,  0.14995117, -0.05353699,  0.00361328,\n",
       "       -0.05195313,  0.01962891, -0.11542969, -0.01726074, -0.00113525,\n",
       "       -0.04841309,  0.07128601,  0.15419922,  0.05751953, -0.11005859,\n",
       "       -0.07446594, -0.07850647,  0.06590576,  0.09477539,  0.01630859,\n",
       "       -0.06210938, -0.0328125 ,  0.10053253, -0.13149414, -0.25      ,\n",
       "       -0.16865234, -0.06691895,  0.12583008, -0.02263184,  0.0984375 ,\n",
       "        0.04082031,  0.04547119, -0.14042969,  0.02176514,  0.02841797,\n",
       "       -0.10742188,  0.04421387,  0.03137207, -0.00556641, -0.06113281,\n",
       "        0.07285156, -0.08759766,  0.03837891,  0.07470703,  0.15908203,\n",
       "       -0.2828125 , -0.13372917, -0.06259766, -0.04482422, -0.02949219,\n",
       "        0.18203125,  0.08432617,  0.04569092,  0.06933594, -0.00654297,\n",
       "       -0.00694275, -0.01391602,  0.00361328, -0.06629639,  0.12045898,\n",
       "        0.02636719, -0.021875  , -0.12497559, -0.15737305,  0.03948975,\n",
       "        0.10673828,  0.12919922, -0.23710938,  0.14658203, -0.08830566,\n",
       "       -0.01811523, -0.15427246, -0.19912109, -0.10527344,  0.04783936,\n",
       "       -0.11447449, -0.13291016,  0.22529297,  0.14326172,  0.02438965,\n",
       "       -0.06705933,  0.08537598,  0.00097656,  0.04057617, -0.11259766,\n",
       "       -0.24316406,  0.12792969, -0.01391602,  0.05761719, -0.17207031,\n",
       "       -0.09526367,  0.13764648,  0.03239136,  0.13515625,  0.11894531,\n",
       "       -0.05078125,  0.00139771,  0.0296875 ,  0.1993988 , -0.02329102,\n",
       "       -0.04746094, -0.02885742,  0.07363281, -0.08076172,  0.07432861,\n",
       "        0.00605469,  0.07973633,  0.0145752 , -0.01884766,  0.15839844,\n",
       "        0.19130859,  0.04360352, -0.09831543, -0.08408203, -0.06251221,\n",
       "       -0.05351562, -0.02729492,  0.01523437, -0.02565918, -0.06398926,\n",
       "        0.05859375,  0.00227661, -0.00480957, -0.00991211, -0.10664063,\n",
       "       -0.09033203,  0.02089844, -0.03688965,  0.13693848, -0.11697998,\n",
       "        0.00991211,  0.07387695,  0.02651367,  0.02491455,  0.02060547,\n",
       "       -0.02597656,  0.07475586,  0.00844727,  0.02600098,  0.04924316,\n",
       "       -0.04140625,  0.00437012,  0.1734375 , -0.0262207 ,  0.02592773,\n",
       "        0.07114258, -0.18706055,  0.00578613, -0.0192627 , -0.04785156,\n",
       "       -0.20136719, -0.11279297, -0.0171875 ,  0.12832031,  0.00966797,\n",
       "        0.05114136,  0.12451172,  0.03330078, -0.01352539, -0.05507812,\n",
       "       -0.00112305, -0.05664062,  0.05131836, -0.03603516,  0.06289063,\n",
       "       -0.0366394 , -0.11064453,  0.05732422, -0.03125   ,  0.01884766,\n",
       "       -0.12189941, -0.16477661, -0.18535156, -0.0496582 , -0.1046875 ,\n",
       "       -0.05809326,  0.08710938, -0.0015625 ,  0.10952148,  0.05014648,\n",
       "       -0.03076172, -0.13203125,  0.11682129, -0.00722656,  0.05292969,\n",
       "       -0.01652832,  0.08378906,  0.17832031,  0.08745117,  0.05258789,\n",
       "       -0.02436523,  0.02851562, -0.05991211, -0.1265625 ,  0.03564453,\n",
       "       -0.05351562,  0.14644318, -0.01889648, -0.04052734, -0.07089844,\n",
       "       -0.09208984, -0.04462891,  0.1515625 , -0.06972656,  0.13110352,\n",
       "       -0.09375   , -0.06650391, -0.0737793 ,  0.03803711,  0.07758789,\n",
       "        0.03876953, -0.08773193,  0.04805908,  0.11938477,  0.02553711])"
      ]
     },
     "execution_count": 54,
     "metadata": {},
     "output_type": "execute_result"
    }
   ],
   "source": [
    "s2_v"
   ]
  },
  {
   "cell_type": "code",
   "execution_count": null,
   "metadata": {
    "colab": {
     "base_uri": "https://localhost:8080/"
    },
    "id": "T--ofXD6C3Fv",
    "outputId": "be8832ee-04a7-4fa2-e9d2-8fef0a114476"
   },
   "outputs": [
    {
     "data": {
      "text/plain": [
       "[('oranges', 0.8196133971214294),\n",
       " ('apples', 0.809734046459198),\n",
       " ('pears', 0.620904266834259),\n",
       " ('peaches', 0.594423234462738),\n",
       " ('tangerines', 0.5751066207885742),\n",
       " ('grapes', 0.5745070576667786),\n",
       " ('melons', 0.5731709599494934),\n",
       " ('citrus_fruit', 0.5645973086357117),\n",
       " ('cherries', 0.56132572889328),\n",
       " ('kumquats', 0.5610014200210571)]"
      ]
     },
     "execution_count": 55,
     "metadata": {},
     "output_type": "execute_result"
    }
   ],
   "source": [
    "model.most_similar(positive=s2_v, negative=s1_v, topn=10)"
   ]
  },
  {
   "cell_type": "code",
   "execution_count": null,
   "metadata": {
    "id": "haJ908RXL4UA"
   },
   "outputs": [],
   "source": []
  }
 ],
 "metadata": {
  "colab": {
   "provenance": []
  },
  "kernelspec": {
   "display_name": "Python 3 (ipykernel)",
   "language": "python",
   "name": "python3"
  },
  "language_info": {
   "codemirror_mode": {
    "name": "ipython",
    "version": 3
   },
   "file_extension": ".py",
   "mimetype": "text/x-python",
   "name": "python",
   "nbconvert_exporter": "python",
   "pygments_lexer": "ipython3",
   "version": "3.11.7"
  }
 },
 "nbformat": 4,
 "nbformat_minor": 1
}
