{
 "cells": [
  {
   "cell_type": "markdown",
   "id": "88cde0d6-522f-4622-b4d6-9b4d94333cb8",
   "metadata": {},
   "source": [
    "### 00. 文字列の逆順\n",
    "文字列”stressed”の文字を逆に（末尾から先頭に向かって）並べた文字列を得よ"
   ]
  },
  {
   "cell_type": "code",
   "execution_count": 6,
   "id": "f81d62f4-5a65-41e5-8f81-1f92c244816e",
   "metadata": {},
   "outputs": [
    {
     "name": "stdout",
     "output_type": "stream",
     "text": [
      "desserts\n"
     ]
    }
   ],
   "source": [
    "str = \"stressed\"\n",
    "ans = str[::-1]\n",
    "print(ans)\n",
    "# スライスを使うとリストや文字列の一部分を切り取ることができます。 \n",
    "# スライスを使うには始めのインデックス（ 始点 してん と言うことにします）と終わりのインデックス（ 終点 しゅうてん と言うことにします）を指定します。"
   ]
  },
  {
   "cell_type": "code",
   "execution_count": 7,
   "id": "5cef60bd-d970-42dd-b8dd-1f54c189cd67",
   "metadata": {},
   "outputs": [
    {
     "name": "stdout",
     "output_type": "stream",
     "text": [
      "desserts\n"
     ]
    }
   ],
   "source": [
    "str = \"stressed\"\n",
    "ans_l = list(reversed(str))\n",
    "ans = ''.join(ans_l)\n",
    "print(ans)"
   ]
  },
  {
   "cell_type": "markdown",
   "id": "e8275cae-62e5-4279-b478-6d4f5c9ba3ce",
   "metadata": {},
   "source": [
    "### 01. 「パタトクカシーー」\n",
    "「パタトクカシーー」という文字列の1,3,5,7文字目を取り出して連結した文字列を得よ"
   ]
  },
  {
   "cell_type": "code",
   "execution_count": 11,
   "id": "1b7a753f-752b-426a-8ad2-4555f6cff2be",
   "metadata": {},
   "outputs": [
    {
     "name": "stdout",
     "output_type": "stream",
     "text": [
      "パトカー\n"
     ]
    }
   ],
   "source": [
    "str = \"パタトクカシーー\"\n",
    "ans = str[0:7:2]\n",
    "print(ans)"
   ]
  },
  {
   "cell_type": "code",
   "execution_count": 12,
   "id": "2dda79fe-7d6f-4700-8345-0103e4d65a13",
   "metadata": {},
   "outputs": [
    {
     "name": "stdout",
     "output_type": "stream",
     "text": [
      "パトカー\n"
     ]
    }
   ],
   "source": [
    "str = \"パタトクカシーー\"\n",
    "ans = str[::2]\n",
    "print(ans)"
   ]
  },
  {
   "cell_type": "markdown",
   "id": "801bcaca-5713-4353-9faa-44b21859c127",
   "metadata": {},
   "source": [
    "### 02. 「パトカー」＋「タクシー」＝「パタトクカシーー」\n",
    "「パトカー」＋「タクシー」の文字を先頭から交互に連結して文字列「パタトクカシーー」を得よ"
   ]
  },
  {
   "cell_type": "code",
   "execution_count": 20,
   "id": "7b423df0-165e-4791-9725-20c4a55b7689",
   "metadata": {},
   "outputs": [
    {
     "name": "stdout",
     "output_type": "stream",
     "text": [
      "パタトクカシーー\n"
     ]
    }
   ],
   "source": [
    "str = \"パトカー\"\n",
    "str2 = \"タクシー\"\n",
    "str3 = \"\"\n",
    "for i in range(4):\n",
    "    str3 += (str[i:i+1]+str2[i:i+1])\n",
    "\n",
    "print(str3)"
   ]
  },
  {
   "cell_type": "code",
   "execution_count": 22,
   "id": "4e5bb040-a2e3-4bdc-a794-198167225f61",
   "metadata": {},
   "outputs": [
    {
     "name": "stdout",
     "output_type": "stream",
     "text": [
      "パタトクカシーー\n"
     ]
    }
   ],
   "source": [
    "str = \"パトカー\"\n",
    "str2 = \"タクシー\"\n",
    "str3 = \"\"\n",
    "for i,j in zip(str, str2):\n",
    "    str3 += (i+j)\n",
    "\n",
    "print(str3)"
   ]
  },
  {
   "cell_type": "code",
   "execution_count": 23,
   "id": "3fc12294-9c16-405d-b36f-c70f49628817",
   "metadata": {},
   "outputs": [
    {
     "name": "stdout",
     "output_type": "stream",
     "text": [
      "パタトクカシーー\n"
     ]
    }
   ],
   "source": [
    "str = \"パトカー\"\n",
    "str2 = \"タクシー\"\n",
    "str3 = \"\"\n",
    "for i in range(0,4):\n",
    "    s = (str + str2)[i::4]\n",
    "    str3 += s\n",
    "print(str3)"
   ]
  },
  {
   "cell_type": "markdown",
   "id": "5bb137a3-2a95-4f5b-beef-5e7e74096c97",
   "metadata": {},
   "source": [
    "### 03. 円周率\n",
    "“Now I need a drink, alcoholic of course, after the heavy lectures involving quantum mechanics.”という文を単語に分解し，各単語の（アルファベットの）文字数を先頭から出現順に並べたリストを作成せよ"
   ]
  },
  {
   "cell_type": "code",
   "execution_count": 84,
   "id": "344378e5-24a0-41f6-bf7d-43b08ab5a390",
   "metadata": {},
   "outputs": [
    {
     "data": {
      "text/plain": [
       "[3, 1, 4, 1, 5, 9, 2, 6, 5, 3, 5, 8, 9, 7, 9]"
      ]
     },
     "execution_count": 84,
     "metadata": {},
     "output_type": "execute_result"
    }
   ],
   "source": [
    "str = \"Now I need a drink, alcoholic of course, after the heavy lectures involving quantum mechanics.\"\n",
    "str = str.lower()\n",
    "str = str.replace('.', '')\n",
    "str = str.replace(',', '')\n",
    "splits = str.split()\n",
    "\n",
    "ans = [len(i) for i in splits]\n",
    "ans"
   ]
  },
  {
   "cell_type": "code",
   "execution_count": 27,
   "id": "aaae47f5-d4e9-4c79-9002-c146758f03c0",
   "metadata": {},
   "outputs": [
    {
     "data": {
      "text/plain": [
       "[3, 1, 4, 1, 5, 9, 2, 6, 5, 3, 5, 8, 9, 7, 9]"
      ]
     },
     "execution_count": 27,
     "metadata": {},
     "output_type": "execute_result"
    }
   ],
   "source": [
    "import re\n",
    "str = \"Now I need a drink, alcoholic of course, after the heavy lectures involving quantum mechanics.\"\n",
    "str = re.sub('[,\\.]', ' ', str) #第一引数に正規表現パターン,第二引数に置換後の文字列,第三引数に置換する文字列\n",
    "splits = str.split()\n",
    "ans = [len(i) for i in splits]\n",
    "ans"
   ]
  },
  {
   "cell_type": "markdown",
   "id": "11282065-0d69-4fd0-a448-883be7900b12",
   "metadata": {},
   "source": [
    "### 04. 元素記号Permalink\n",
    "“Hi He Lied Because Boron Could Not Oxidize Fluorine. New Nations Might Also Sign Peace Security Clause. Arthur King Can.”という文を単語に分解し，1, 5, 6, 7, 8, 9, 15, 16, 19番目の単語は先頭の1文字，それ以外の単語は先頭の2文字を取り出し，取り出した文字列から単語の位置（先頭から何番目の単語か）への連想配列（辞書型もしくはマップ型）を作成せよ"
   ]
  },
  {
   "cell_type": "code",
   "execution_count": 33,
   "id": "1345e1b6-5b0d-41a6-a836-f30905c85b25",
   "metadata": {},
   "outputs": [
    {
     "data": {
      "text/plain": [
       "{'H': 1,\n",
       " 'He': 2,\n",
       " 'Li': 3,\n",
       " 'Be': 4,\n",
       " 'B': 5,\n",
       " 'C': 6,\n",
       " 'N': 7,\n",
       " 'O': 8,\n",
       " 'F': 9,\n",
       " 'Ne': 10,\n",
       " 'Na': 11,\n",
       " 'Mi': 12,\n",
       " 'Al': 13,\n",
       " 'Si': 14,\n",
       " 'P': 15,\n",
       " 'S': 16,\n",
       " 'Cl': 17,\n",
       " 'Ar': 18,\n",
       " 'K': 19,\n",
       " 'Ca': 20}"
      ]
     },
     "execution_count": 33,
     "metadata": {},
     "output_type": "execute_result"
    }
   ],
   "source": [
    "import re\n",
    "num = [1, 5, 6, 7, 8, 9, 15, 16, 19]\n",
    "str = \"Hi He Lied Because Boron Could Not Oxidize Fluorine. New Nations Might Also Sign Peace Security Clause. Arthur King Can.\"\n",
    "str = re.sub('[.\\,]',' ', str)\n",
    "splits = str.split()\n",
    "ans = {}\n",
    "\n",
    "for i, word in enumerate(splits):\n",
    "    if (i+1) in num :\n",
    "        ans[splits[i][:1]] = i+1\n",
    "    else :\n",
    "        ans[splits[i][:2]] =i+1\n",
    "\n",
    "ans"
   ]
  },
  {
   "cell_type": "markdown",
   "id": "756d449b-0dc5-413e-923c-bebf0de4b147",
   "metadata": {},
   "source": [
    "### 05. n-gramPermalink\n",
    "与えられたシーケンス（文字列やリストなど）からn-gramを作る関数を作成せよ．この関数を用い，”I am an NLPer”という文から単語bi-gram，文字bi-gramを得よ"
   ]
  },
  {
   "cell_type": "code",
   "execution_count": 60,
   "id": "031f9daf-0f7e-46a6-a1d8-1592445dfcce",
   "metadata": {},
   "outputs": [
    {
     "name": "stdout",
     "output_type": "stream",
     "text": [
      "文字のb-gram: [('I', ' '), (' ', 'a'), ('a', 'm'), ('m', ' '), (' ', 'a'), ('a', 'n'), ('n', ' '), (' ', 'N'), ('N', 'L'), ('L', 'P'), ('P', 'e'), ('e', 'r')]\n",
      "単語のb-gram: [('I', 'am'), ('am', 'an'), ('an', 'NLPer')]\n"
     ]
    }
   ],
   "source": [
    "import re\n",
    "str = \"I am an NLPer\"\n",
    "\n",
    "# 文字n-gram\n",
    "def make_tango_gram(n, text):\n",
    "    ans = []\n",
    "    for i in range(len(text)-n+1):\n",
    "        ans.append(tuple(text[i:i+n]))\n",
    "    return ans\n",
    "\n",
    "# 単語n-gram\n",
    "def make_moji_gram(n, text):\n",
    "    ans = []\n",
    "    text = re.sub('[.\\,]', '', text) \n",
    "    text = text.split()\n",
    "    for i in range(len(text)-n+1):\n",
    "        ans.append(tuple(text[i:i+n]))\n",
    "    return ans\n",
    "        \n",
    "ans2 = make_tango_gram(2,str)\n",
    "ans3 = make_moji_gram(2,str)\n",
    "\n",
    "print(\"文字のb-gram:\",ans2)\n",
    "print(\"単語のb-gram:\",ans3)"
   ]
  },
  {
   "cell_type": "markdown",
   "id": "63151703-fca0-4758-a0c6-23c20bc711bc",
   "metadata": {},
   "source": [
    "### 06. 集合Permalink\n",
    "“paraparaparadise”と”paragraph”に含まれる文字bi-gramの集合を，それぞれ, XとYとして求め，XとYの和集合，積集合，差集合を求めよ．さらに，’se’というbi-gramがXおよびYに含まれるかどうかを調べよ"
   ]
  },
  {
   "cell_type": "code",
   "execution_count": 70,
   "id": "9604c9b6-98cb-4eca-8b6f-fad9e2712155",
   "metadata": {},
   "outputs": [
    {
     "name": "stdout",
     "output_type": "stream",
     "text": [
      "XとYの値： {('a', 'p'), ('p', 'a'), ('s', 'e'), ('d', 'i'), ('r', 'a'), ('a', 'd'), ('a', 'r'), ('i', 's')} {('p', 'h'), ('a', 'p'), ('p', 'a'), ('a', 'g'), ('g', 'r'), ('r', 'a'), ('a', 'r')}\n",
      "和集合： {('p', 'h'), ('a', 'p'), ('p', 'a'), ('s', 'e'), ('a', 'g'), ('g', 'r'), ('d', 'i'), ('r', 'a'), ('a', 'd'), ('a', 'r'), ('i', 's')}\n",
      "積集合： {('p', 'a'), ('r', 'a'), ('a', 'r'), ('a', 'p')}\n",
      "差集合： {('i', 's'), ('a', 'd'), ('d', 'i'), ('s', 'e')}\n",
      "’se’というbi-gramがXに含まれるかどうか True\n",
      "’se’というbi-gramがYに含まれるかどうか False\n"
     ]
    }
   ],
   "source": [
    "str1 = \"paraparaparadise\"\n",
    "str2 = \"paragraph\"\n",
    "\n",
    "X = set(make_tango_gram(2,str1))\n",
    "Y = set(make_tango_gram(2,str2))\n",
    "print(\"XとYの値：\",X, Y)\n",
    "\n",
    "#XとYの和集合\n",
    "print(\"和集合：\",X | Y)\n",
    "\n",
    "#積集合\n",
    "print(\"積集合：\",X & Y)\n",
    "\n",
    "#差集合\n",
    "print(\"差集合：\", X - Y)\n",
    "\n",
    "#’se’というbi-gramがXおよびYに含まれるかどうかを調べよ\n",
    "print(\"’se’というbi-gramがXに含まれるかどうか\", {('s', 'e')} <= X)\n",
    "print(\"’se’というbi-gramがYに含まれるかどうか\", {('s', 'e')} <= Y)"
   ]
  },
  {
   "cell_type": "markdown",
   "id": "68713bd0-40ad-4eb2-ae49-a8f9059229d6",
   "metadata": {},
   "source": [
    "### 07. テンプレートによる文生成Permalink\n",
    "引数x, y, zを受け取り「x時のyはz」という文字列を返す関数を実装せよ．さらに，x=12, y=”気温”, z=22.4として，実行結果を確認せよ"
   ]
  },
  {
   "cell_type": "code",
   "execution_count": 73,
   "id": "2400fe82-5f39-4cd4-8f88-f3f3748ec5f6",
   "metadata": {},
   "outputs": [
    {
     "name": "stdout",
     "output_type": "stream",
     "text": [
      "12時の気温は22.4\n"
     ]
    }
   ],
   "source": [
    "del str \n",
    "\n",
    "def return_moji(x,y,z):\n",
    "    ans = str(x)+'時の'+str(y)+'は'+str(z)\n",
    "    return ans\n",
    "\n",
    "ans = return_moji(12,'気温',22.4)\n",
    "print(ans)"
   ]
  },
  {
   "cell_type": "code",
   "execution_count": 74,
   "id": "574b2813-1cc3-4e34-bd04-0dd7e1ce10d4",
   "metadata": {},
   "outputs": [
    {
     "name": "stdout",
     "output_type": "stream",
     "text": [
      "12時の気温は22.4\n"
     ]
    }
   ],
   "source": [
    "def time_syntax(x,y,z):\n",
    "    return f'{x}時の{y}は{z}'\n",
    "\n",
    "print(time_syntax(12,\"気温\",22.4))"
   ]
  },
  {
   "cell_type": "markdown",
   "id": "6dd4a369-6683-476f-9d5f-10b20101a8ef",
   "metadata": {},
   "source": [
    "### 08. 暗号文\n",
    "与えられた文字列の各文字を，以下の仕様で変換する関数cipherを実装せよ．\n",
    "\n",
    "英小文字ならば(219 - 文字コード)の文字に置換\n",
    "その他の文字はそのまま出力\n",
    "この関数を用い，英語のメッセージを暗号化・復号化せよ"
   ]
  },
  {
   "cell_type": "code",
   "execution_count": 88,
   "id": "b6317161-4c6e-4214-983f-29f74e4e713b",
   "metadata": {},
   "outputs": [
    {
     "name": "stdout",
     "output_type": "stream",
     "text": [
      "Tsrh rh z kvm.\n",
      "This is a pen.\n"
     ]
    }
   ],
   "source": [
    "def cipher(text):\n",
    "    l = list(text)\n",
    "    for i, char in enumerate(l):\n",
    "        if char.islower():\n",
    "            l[i] = chr(219 - ord(char))\n",
    "\n",
    "    ans = ''.join(l)\n",
    "    print(ans)\n",
    "    return ans\n",
    "\n",
    "str = \"This is a pen.\"\n",
    "ans1 = cipher(str)\n",
    "ans2 = cipher(ans1)"
   ]
  },
  {
   "cell_type": "markdown",
   "id": "1f0cdbe4-680f-46be-8111-cd03b0d3bca8",
   "metadata": {},
   "source": [
    "### 09. TypoglycemiaPermalink\n",
    "スペースで区切られた単語列に対して，各単語の先頭と末尾の文字は残し，それ以外の文字の順序をランダムに並び替えるプログラムを作成せよ．ただし，長さが４以下の単語は並び替えないこととする．適当な英語の文（例えば”I couldn’t believe that I could actually understand what I was reading : the phenomenal power of the human mind .”）を与え，その実行結果を確認せよ．"
   ]
  },
  {
   "cell_type": "code",
   "execution_count": 107,
   "id": "28bd2f11-a276-4573-a1d3-4edf2c410a58",
   "metadata": {},
   "outputs": [
    {
     "name": "stdout",
     "output_type": "stream",
     "text": [
      "I cdun’lot beivele that I cluod atllcuay utdsnraend what I was randieg : the pneneahoml power of the human mind .\n"
     ]
    }
   ],
   "source": [
    "import random\n",
    "\n",
    "str = \"I couldn’t believe that I could actually understand what I was reading : the phenomenal power of the human mind .\"\n",
    "str = str.split()\n",
    "\n",
    "for i, word in enumerate(str):\n",
    "    if len(word) > 4:\n",
    "        # 1番目から末尾から1つ飛ばしたところまでをシャッフルしたリストを作成\n",
    "        suffled = random.sample(word[1:-1], len(word)-2)\n",
    "        new_word = list(word[0]) + suffled + list(word[-1])\n",
    "        str[i] = ''.join(new_word)\n",
    "        \n",
    "print(' '.join(str))"
   ]
  },
  {
   "cell_type": "code",
   "execution_count": null,
   "id": "060099bd-6de6-4dbd-b956-7c2a44e04a4c",
   "metadata": {},
   "outputs": [],
   "source": []
  }
 ],
 "metadata": {
  "kernelspec": {
   "display_name": "Python 3 (ipykernel)",
   "language": "python",
   "name": "python3"
  },
  "language_info": {
   "codemirror_mode": {
    "name": "ipython",
    "version": 3
   },
   "file_extension": ".py",
   "mimetype": "text/x-python",
   "name": "python",
   "nbconvert_exporter": "python",
   "pygments_lexer": "ipython3",
   "version": "3.11.7"
  }
 },
 "nbformat": 4,
 "nbformat_minor": 5
}
