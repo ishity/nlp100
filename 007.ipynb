{
 "cells": [
  {
   "cell_type": "markdown",
   "id": "ae4cb19b",
   "metadata": {},
   "source": [
    "### 60. 単語ベクトルの読み込みと表示\n",
    "\n",
    "Google Newsデータセット（約1,000億単語）での学習済み単語ベクトル（300万単語・フレーズ，300次元）をダウンロードし，”United States”の単語ベクトルを表示せよ．ただし，”United States”は内部的には”United_States”と表現されていることに注意せよ"
   ]
  },
  {
   "cell_type": "code",
   "execution_count": null,
   "id": "e3510127",
   "metadata": {},
   "outputs": [],
   "source": []
  }
 ],
 "metadata": {
  "kernelspec": {
   "display_name": "Python 3 (ipykernel)",
   "language": "python",
   "name": "python3"
  },
  "language_info": {
   "codemirror_mode": {
    "name": "ipython",
    "version": 3
   },
   "file_extension": ".py",
   "mimetype": "text/x-python",
   "name": "python",
   "nbconvert_exporter": "python",
   "pygments_lexer": "ipython3",
   "version": "3.11.7"
  }
 },
 "nbformat": 4,
 "nbformat_minor": 5
}
